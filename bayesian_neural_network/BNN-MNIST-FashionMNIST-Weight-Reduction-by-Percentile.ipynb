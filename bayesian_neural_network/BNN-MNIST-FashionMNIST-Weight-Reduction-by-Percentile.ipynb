{
 "cells": [
  {
   "cell_type": "markdown",
   "metadata": {},
   "source": [
    "# Confidence of a Bayesian Neural Network\n",
    "This notebook examines the confidence calculation of a *Bayesian* neural network. I will use the *MNIST* and *FashionMNIST* datasets to demonstrate how confidence within the prediction process can help to avoid misclassification. `PyTorch` and `Pyro` are used for the probabilistic programming part."
   ]
  },
  {
   "cell_type": "markdown",
   "metadata": {},
   "source": [
    "# Probabilistic computation with Pyro\n",
    "\n",
    "We will use [Pyro](https://pyro.ai/) for the probabilistic computation."
   ]
  },
  {
   "cell_type": "markdown",
   "metadata": {},
   "source": [
    "Import all necessary libraries."
   ]
  },
  {
   "cell_type": "code",
   "execution_count": 31,
   "metadata": {},
   "outputs": [],
   "source": [
    "%matplotlib inline\n",
    "import matplotlib.pyplot as plt\n",
    "import seaborn as sns\n",
    "\n",
    "import numpy as np\n",
    "\n",
    "from collections import OrderedDict\n",
    "\n",
    "import time\n",
    "\n",
    "# PyTorch\n",
    "import torch\n",
    "from torch import nn\n",
    "from torch import optim\n",
    "import torch.nn.functional as F\n",
    "from torch.autograd import Variable\n",
    "import torchvision\n",
    "from torchvision import datasets, transforms, models\n",
    "from torch.utils.data import DataLoader\n",
    "from torch.utils.data.dataset import Dataset\n",
    "from torch.distributions import constraints\n",
    "\n",
    "import helper"
   ]
  },
  {
   "cell_type": "code",
   "execution_count": 2,
   "metadata": {},
   "outputs": [],
   "source": [
    "# Pyro\n",
    "import pyro\n",
    "import pyro.distributions as dist\n",
    "from pyro.infer import SVI, Trace_ELBO\n",
    "from pyro.optim import Adam\n",
    "\n",
    "pyro.set_rng_seed(101)"
   ]
  },
  {
   "cell_type": "markdown",
   "metadata": {},
   "source": [
    "Decide whether to use trained and saved parameter or not:"
   ]
  },
  {
   "cell_type": "code",
   "execution_count": 3,
   "metadata": {},
   "outputs": [],
   "source": [
    "use_saved_params = True"
   ]
  },
  {
   "cell_type": "markdown",
   "metadata": {},
   "source": [
    "Set the percentile value to determine the amount of parameters whose values should be substituted by zero."
   ]
  },
  {
   "cell_type": "code",
   "execution_count": 4,
   "metadata": {},
   "outputs": [],
   "source": [
    "percentile_val = 88"
   ]
  },
  {
   "cell_type": "markdown",
   "metadata": {},
   "source": [
    "Get the Pyro version"
   ]
  },
  {
   "cell_type": "code",
   "execution_count": 5,
   "metadata": {},
   "outputs": [
    {
     "data": {
      "text/plain": [
       "'1.5.0'"
      ]
     },
     "execution_count": 5,
     "metadata": {},
     "output_type": "execute_result"
    }
   ],
   "source": [
    "pyro.__version__"
   ]
  },
  {
   "cell_type": "markdown",
   "metadata": {},
   "source": [
    "Assign the device. It is either cuda:0 or cpu."
   ]
  },
  {
   "cell_type": "code",
   "execution_count": 6,
   "metadata": {},
   "outputs": [
    {
     "name": "stdout",
     "output_type": "stream",
     "text": [
      "cuda:0\n"
     ]
    }
   ],
   "source": [
    "device = torch.device(\"cuda:0\" if torch.cuda.is_available() else \"cpu\")\n",
    "print(device)"
   ]
  },
  {
   "cell_type": "markdown",
   "metadata": {},
   "source": [
    "## Load the data\n",
    "\n",
    "Use `Dataloader` to load the data and store it in the `data` directory.\n",
    "\n",
    "The dataset is split into two parts, training and testing.\n",
    "\n",
    "The testing sets is used to measure the model's performance on data it hasn't seen yet. "
   ]
  },
  {
   "cell_type": "markdown",
   "metadata": {},
   "source": [
    "Define how to transform the datasets."
   ]
  },
  {
   "cell_type": "code",
   "execution_count": 7,
   "metadata": {},
   "outputs": [],
   "source": [
    "transform = transforms.Compose(\n",
    "    [transforms.ToTensor()])"
   ]
  },
  {
   "cell_type": "markdown",
   "metadata": {},
   "source": [
    "Define the datasets and where to store them."
   ]
  },
  {
   "cell_type": "code",
   "execution_count": 8,
   "metadata": {},
   "outputs": [],
   "source": [
    "# datasets\n",
    "trainset = torchvision.datasets.MNIST('../data',\n",
    "    download=True,\n",
    "    train=True,\n",
    "    transform=transform)\n",
    "testset = torchvision.datasets.MNIST('../data',\n",
    "    download=True,\n",
    "    train=False,\n",
    "    transform=transform)"
   ]
  },
  {
   "cell_type": "markdown",
   "metadata": {},
   "source": [
    "Load the datasets."
   ]
  },
  {
   "cell_type": "code",
   "execution_count": 9,
   "metadata": {},
   "outputs": [],
   "source": [
    "# dataloaders\n",
    "trainloader = torch.utils.data.DataLoader(trainset, batch_size=128, shuffle=True)\n",
    "\n",
    "testloader = torch.utils.data.DataLoader(testset, batch_size=64, shuffle=False)"
   ]
  },
  {
   "cell_type": "markdown",
   "metadata": {},
   "source": [
    "Define the neural net. It is identical to the classic approach."
   ]
  },
  {
   "cell_type": "code",
   "execution_count": 10,
   "metadata": {},
   "outputs": [],
   "source": [
    "input_layer_size = 28*28 # image size of 28 x 28 pixels\n",
    "hidden_layer_size = 1024 # number of hidden layer nodes\n",
    "output_layer_size = 10   # number of categories"
   ]
  },
  {
   "cell_type": "code",
   "execution_count": 11,
   "metadata": {},
   "outputs": [],
   "source": [
    "class NeuralNet(nn.Module):\n",
    "    \n",
    "    def __init__(self, input_layer, hidden_layer, output_layer):\n",
    "        super(NeuralNet, self).__init__()\n",
    "        self.fc1 = nn.Linear(input_layer, hidden_layer)\n",
    "        self.out = nn.Linear(hidden_layer, output_layer)\n",
    "        \n",
    "        \n",
    "    def forward(self, x):\n",
    "        x = self.fc1(x)\n",
    "        x = F.relu(x)\n",
    "        x = self.out(x)\n",
    "        return x"
   ]
  },
  {
   "cell_type": "code",
   "execution_count": 12,
   "metadata": {},
   "outputs": [],
   "source": [
    "log_softmax = nn.LogSoftmax(dim=1)"
   ]
  },
  {
   "cell_type": "markdown",
   "metadata": {},
   "source": [
    "Instance new neural network for probabilistic calculations."
   ]
  },
  {
   "cell_type": "code",
   "execution_count": 13,
   "metadata": {},
   "outputs": [],
   "source": [
    "baysNeuralNet = NeuralNet(input_layer_size, hidden_layer_size, output_layer_size)"
   ]
  },
  {
   "cell_type": "markdown",
   "metadata": {},
   "source": [
    "Move the network to `cuda`."
   ]
  },
  {
   "cell_type": "code",
   "execution_count": 14,
   "metadata": {},
   "outputs": [
    {
     "data": {
      "text/plain": [
       "NeuralNet(\n",
       "  (fc1): Linear(in_features=784, out_features=1024, bias=True)\n",
       "  (out): Linear(in_features=1024, out_features=10, bias=True)\n",
       ")"
      ]
     },
     "execution_count": 14,
     "metadata": {},
     "output_type": "execute_result"
    }
   ],
   "source": [
    "baysNeuralNet.to(device)"
   ]
  },
  {
   "cell_type": "markdown",
   "metadata": {},
   "source": [
    "To do Bayesian inference in Pyro we need a *model*, a *guide*, an *optimizer*, and an *inference algorithm*."
   ]
  },
  {
   "cell_type": "markdown",
   "metadata": {},
   "source": [
    "### Model\n",
    "In general a *model* in `Pyro` is a Python function which uses `Pyro` primitives (= primitive stochastic functions) to compute the input data.\n",
    "\n",
    "One important thing to mention is that `pyro.sample` statements with an `obs` keyword are used to incorporate observations into the inference process. \n",
    "\n",
    "For Neural Networks we first need to convert our conventional network into a Bayesian network. Therefore we replace the fixed parameters for the weights and the biases by distributions. \n",
    "\n",
    "In our case we use the normal distribution to generate the priors.\n",
    "```python\n",
    "pyro.distributions.Normal()\n",
    "```\n",
    "After generating the priors, we replace the conventional, fixed parameters (weights and biases) by these new ones by calling \n",
    "```python\n",
    "pyro.random_module()\n",
    "```\n",
    "Now we can create a sampled neural network module with sampled weights and biases and pass in data to generate a result.\n",
    "\n",
    "In our case, the result will be 10 negative number representing the log probability of the 10 categories:\n",
    "\n",
    "<img src='../pictures/mode-raw-output.png' width=700 align=left>"
   ]
  },
  {
   "cell_type": "code",
   "execution_count": 15,
   "metadata": {},
   "outputs": [],
   "source": [
    "def model(x_data, y_data):\n",
    "    \n",
    "    # Initialize the prior distributions for the weights and biases of the neural network layers (N(0,1))\n",
    "    fc1_weight_prior = dist.Normal(loc=torch.zeros(baysNeuralNet.fc1.weight.size()).to(device), \n",
    "                        scale=torch.ones(baysNeuralNet.fc1.weight.size()).to(device))\n",
    "    fc1_bias_prior = dist.Normal(loc=torch.zeros(baysNeuralNet.fc1.bias.size()).to(device), \n",
    "                        scale=torch.ones(baysNeuralNet.fc1.bias.size()).to(device))\n",
    "\n",
    "    \n",
    "    out_weight_prior = dist.Normal(loc=torch.zeros(baysNeuralNet.out.weight.size()).to(device), \n",
    "                        scale=torch.ones(baysNeuralNet.out.weight.size()).to(device))\n",
    "    out_bias_prior = dist.Normal(loc=torch.zeros(baysNeuralNet.out.bias.size()).to(device), \n",
    "                        scale=torch.ones(baysNeuralNet.out.bias.size()).to(device))\n",
    "    \n",
    "    priors = {'fc1.weight': fc1_weight_prior, 'fc1.bias': fc1_bias_prior,  \n",
    "              'out.weight': out_weight_prior, 'out.bias': out_bias_prior}\n",
    "    \n",
    "    # place a prior over the parameters (weights and biases) of the network. \n",
    "    # Returns a distribution (callable) over nn.Module`s, which upon calling returns a sampled `nn.Module.\n",
    "    priored_module = pyro.random_module(\"module\", baysNeuralNet, priors)\n",
    "    \n",
    "    # get a sampled `nn.Module (callable) with sampled weights and biases \n",
    "    sampled_module = priored_module()\n",
    "    \n",
    "    # get the LogSoftmax result for each dataset (within a batch)\n",
    "    # each cathegory is represented by a negative number. (Eg 10 numbers for the 10 digits 0-9)\n",
    "    logProbPred = log_softmax(sampled_module(x_data))\n",
    "    \n",
    "    # incorporate observations into the model\n",
    "    # Call the stochastic function Categorical and return a sampled result according to the distribution if\n",
    "    # no obs parameter is set to condition on - otherwise use the obs argument to the pyro.sample statement \n",
    "    # to condition on the observed data y_data -> the result will by y_data\n",
    "    # Categorical creates a categorical distribution parameterized by logits (log_softmax())\n",
    "    pyro.sample(\"obs\", dist.Categorical(logits=logProbPred), obs=y_data)"
   ]
  },
  {
   "cell_type": "markdown",
   "metadata": {},
   "source": [
    "The result of pyro.sample **without** the observation argument will be stochastically sampled from `logProbPred` and will be different from `y_data`:\n",
    "<img src='../pictures/cat_sample_without_obs.png' width=800px>\n",
    "The result of pyro.sample **with** the observation argument will be identical to `y_data`:\n",
    "<img src='../pictures/cat_sample_with_obs.png' width=800px>"
   ]
  },
  {
   "cell_type": "markdown",
   "metadata": {},
   "source": [
    "### Guide\n",
    "The *guide* is a parameterized family of distributions over the *weights* and the *biases* and it is used to train the model by learning the parameters declared by `pyro.param` given the observation outcomes `obs`. `pyro.param` registers the parameters in the [ParamStore](http://docs.pyro.ai/en/0.2.1-release/parameters.html). \n",
    "\n",
    "The parameters to be learned are *fcl1_w_mu*, *fcl1_w_sigma*, *fcl1_b_mu*, *fcl1_b_sigma*, *outl_w_mu*, *outl_w_sigma*, *outl_b_mu* and *outl_b_sigma* and are defined within the *guide*. "
   ]
  },
  {
   "cell_type": "code",
   "execution_count": 16,
   "metadata": {},
   "outputs": [],
   "source": [
    "softplus = torch.nn.Softplus()\n",
    "\n",
    "def guide(x_data, y_data):\n",
    "    \n",
    "    # First layer weight distribution priors\n",
    "    fc1_weight_loc = torch.randn(baysNeuralNet.fc1.weight.size()).to(device)\n",
    "    fc1_weight_scale = torch.rand(baysNeuralNet.fc1.weight.size()).to(device)\n",
    "    fc1_weight_loc_param = pyro.param(\"fc1_weight_loc\", fc1_weight_loc)\n",
    "    fc1_weight_scale_param = softplus(pyro.param(\"fc1_weight_scale\", fc1_weight_scale, constraint=constraints.positive))\n",
    "    fc1_weight_prior = dist.Normal(loc=fc1_weight_loc_param, scale=fc1_weight_scale_param)\n",
    "    \n",
    "    # First layer bias distribution priors\n",
    "    fc1_bias_loc = torch.randn(baysNeuralNet.fc1.bias.size()).to(device)\n",
    "    fc1_bias_scale = torch.rand(baysNeuralNet.fc1.bias.size()).to(device)\n",
    "    fc1_bias_loc_param = pyro.param(\"fc1_bias_loc\", fc1_bias_loc)\n",
    "    fc1_bias_scale_param = softplus(pyro.param(\"fc1_bias_scale\", fc1_bias_scale, constraint=constraints.positive))\n",
    "    fc1_bias_prior = dist.Normal(loc=fc1_bias_loc_param, scale=fc1_bias_scale_param)\n",
    "    \n",
    "    # Output layer weight distribution priors\n",
    "    out_weight_loc = torch.randn(baysNeuralNet.out.weight.size()).to(device)\n",
    "    out_weight_scale = torch.rand(baysNeuralNet.out.weight.size()).to(device)\n",
    "    out_weight_loc_param = pyro.param(\"out_weight_loc\", out_weight_loc)\n",
    "    out_weight_scale_param = softplus(pyro.param(\"out_weight_scale\", out_weight_scale, constraint=constraints.positive))\n",
    "    out_weight_prior = dist.Normal(loc=out_weight_loc_param, scale=out_weight_scale_param).independent(1)\n",
    "    \n",
    "    # Output layer bias distribution priors\n",
    "    out_bias_loc = torch.randn(baysNeuralNet.out.bias.size()).to(device)\n",
    "    out_bias_scale = torch.rand(baysNeuralNet.out.bias.size()).to(device)\n",
    "    out_bias_loc_param = pyro.param(\"out_bias_loc\", out_bias_loc)\n",
    "    out_bias_scale_param = softplus(pyro.param(\"out_bias_scale\", out_bias_scale, constraint=constraints.positive))\n",
    "    out_bias_prior = dist.Normal(loc=out_bias_loc_param, scale=out_bias_scale_param)\n",
    "    \n",
    "    priors = {'fc1.weight': fc1_weight_prior, 'fc1.bias': fc1_bias_prior, \n",
    "              'out.weight': out_weight_prior, 'out.bias': out_bias_prior}\n",
    "    \n",
    "    priored_module = pyro.random_module(\"module\", baysNeuralNet, priors)\n",
    "    \n",
    "    return priored_module()"
   ]
  },
  {
   "cell_type": "markdown",
   "metadata": {},
   "source": [
    "### Optimizer & Inference Algorithm\n",
    "In this example we use the *Adam* optimizer and the *Stochastic Variational Inference (SVI)*."
   ]
  },
  {
   "cell_type": "code",
   "execution_count": 17,
   "metadata": {},
   "outputs": [],
   "source": [
    "optim = Adam({\"lr\": 0.01})\n",
    "svi = SVI(model, guide, optim, loss=Trace_ELBO())"
   ]
  },
  {
   "cell_type": "markdown",
   "metadata": {},
   "source": [
    "### Training\n",
    "Training is done by the *Stochastic Variational Inference (SVI)* optimization algorithm with the *ELBO* as the loss function (See the introductory part at the beginning of this notebook) by adjusting the `pyro.param` values."
   ]
  },
  {
   "cell_type": "code",
   "execution_count": 18,
   "metadata": {},
   "outputs": [],
   "source": [
    "if use_saved_params == False:\n",
    "\n",
    "    num_iterations = 10\n",
    "    loss = 0\n",
    "\n",
    "    start = time.time()\n",
    "\n",
    "    for j in range(num_iterations):\n",
    "        loss = 0\n",
    "        for batch_id, (images, labels) in enumerate(trainloader):\n",
    "            # calculate the loss and take a gradient step\n",
    "\n",
    "            images, labels = images.to(device), labels.to(device)\n",
    "\n",
    "            loss += svi.step(images.view(-1,28*28), labels)\n",
    "\n",
    "        normalizer_train = len(trainloader.dataset)\n",
    "        total_epoch_loss_train = loss / normalizer_train\n",
    "\n",
    "        print(\"Epoch \", j+1, \" Loss \", total_epoch_loss_train)\n",
    "\n",
    "    print(\"\\nTime for training: {:.0f} minutes and {:.3f} seconds\"\n",
    "          .format((time.time() - start)/60, (time.time() - start) % 60))"
   ]
  },
  {
   "cell_type": "markdown",
   "metadata": {},
   "source": [
    "### Save trained parameters to disc"
   ]
  },
  {
   "cell_type": "code",
   "execution_count": 19,
   "metadata": {},
   "outputs": [],
   "source": [
    "if use_saved_params == False:\n",
    "    pyro.get_param_store().save('saved_params.save')"
   ]
  },
  {
   "cell_type": "markdown",
   "metadata": {},
   "source": [
    "### Load parameters from disk"
   ]
  },
  {
   "cell_type": "code",
   "execution_count": 20,
   "metadata": {},
   "outputs": [],
   "source": [
    "if use_saved_params == True:\n",
    "    pyro.get_param_store().load('saved_params.save')"
   ]
  },
  {
   "cell_type": "markdown",
   "metadata": {},
   "source": [
    "### Check the trained parameters"
   ]
  },
  {
   "cell_type": "markdown",
   "metadata": {},
   "source": [
    "Get the parameter names and check their sizes."
   ]
  },
  {
   "cell_type": "code",
   "execution_count": 21,
   "metadata": {},
   "outputs": [
    {
     "name": "stdout",
     "output_type": "stream",
     "text": [
      "fc1_weight_loc 802816\n",
      "fc1_weight_scale 802816\n",
      "fc1_bias_loc 1024\n",
      "fc1_bias_scale 1024\n",
      "out_weight_loc 10240\n",
      "out_weight_scale 10240\n",
      "out_bias_loc 10\n",
      "out_bias_scale 10\n"
     ]
    }
   ],
   "source": [
    "for name in pyro.get_param_store().get_all_param_names():\n",
    "    print(name, pyro.param(name).cpu().detach().numpy().size)"
   ]
  },
  {
   "cell_type": "markdown",
   "metadata": {},
   "source": [
    "Check the shape of the parameter space."
   ]
  },
  {
   "cell_type": "code",
   "execution_count": 22,
   "metadata": {},
   "outputs": [
    {
     "name": "stdout",
     "output_type": "stream",
     "text": [
      "fc1_weight_loc (1024, 784)\n",
      "fc1_weight_scale (1024, 784)\n",
      "fc1_bias_loc (1024,)\n",
      "fc1_bias_scale (1024,)\n",
      "out_weight_loc (10, 1024)\n",
      "out_weight_scale (10, 1024)\n",
      "out_bias_loc (10,)\n",
      "out_bias_scale (10,)\n"
     ]
    }
   ],
   "source": [
    "for name in pyro.get_param_store().get_all_param_names():\n",
    "    print(name, pyro.param(name).cpu().detach().numpy().shape)"
   ]
  },
  {
   "cell_type": "markdown",
   "metadata": {},
   "source": [
    "Get the first value of each parameter type."
   ]
  },
  {
   "cell_type": "code",
   "execution_count": 23,
   "metadata": {},
   "outputs": [
    {
     "name": "stdout",
     "output_type": "stream",
     "text": [
      "First value of parameter fc1_weight_loc is -0.0892615020275116\n",
      "First value of parameter fc1_weight_scale is 0.464173823595047\n",
      "First value of parameter fc1_bias_loc is -0.39173540472984314\n",
      "First value of parameter fc1_bias_scale is 0.4639877378940582\n",
      "First value of parameter out_weight_loc is -0.012034603394567966\n",
      "First value of parameter out_weight_scale is 0.2915618419647217\n",
      "First value of parameter out_bias_loc is -0.11939097195863724\n",
      "First value of parameter out_bias_scale is 0.44849273562431335\n"
     ]
    }
   ],
   "source": [
    "for name in pyro.get_param_store().get_all_param_names():\n",
    "    if len(pyro.param(name).cpu().detach().numpy().shape) == 1:\n",
    "#         print('Size for parameter {} is {}'. format(name, pyro.param(name).cpu().detach().numpy().size))\n",
    "        print('First value of parameter {} is {}'. format(name, pyro.param(name).cpu().detach().numpy()[0]))\n",
    "    elif len(pyro.param(name).cpu().detach().numpy().shape) == 2:\n",
    "#         print('Size for parameter {} is {}'. format(name, pyro.param(name).cpu().detach().numpy().size))\n",
    "        print('First value of parameter {} is {}'. format(name, pyro.param(name).cpu().detach().numpy()[0, 0]))"
   ]
  },
  {
   "cell_type": "markdown",
   "metadata": {},
   "source": [
    "### Save the trained parameters"
   ]
  },
  {
   "cell_type": "markdown",
   "metadata": {},
   "source": [
    "Save the learned parameters for further processing. "
   ]
  },
  {
   "cell_type": "code",
   "execution_count": 24,
   "metadata": {},
   "outputs": [],
   "source": [
    "fc1_weight_loc_temp = pyro.param('fc1_weight_loc').cpu().detach().numpy()\n",
    "fc1_weight_scale_temp = pyro.param('fc1_weight_scale').cpu().detach().numpy()\n",
    "fc1_bias_loc_temp = pyro.param('fc1_bias_loc').cpu().detach().numpy()\n",
    "fc1_bias_scale_temp = pyro.param('fc1_bias_scale').cpu().detach().numpy()\n",
    "out_weight_loc_temp = pyro.param('out_weight_loc').cpu().detach().numpy()\n",
    "out_weight_scale_temp = pyro.param('out_weight_scale').cpu().detach().numpy()\n",
    "out_bias_loc_temp = pyro.param('out_bias_loc').cpu().detach().numpy()\n",
    "out_bias_scale_temp = pyro.param('out_bias_scale').cpu().detach().numpy()"
   ]
  },
  {
   "cell_type": "markdown",
   "metadata": {},
   "source": [
    "Check minimum variance value."
   ]
  },
  {
   "cell_type": "code",
   "execution_count": 25,
   "metadata": {},
   "outputs": [
    {
     "name": "stdout",
     "output_type": "stream",
     "text": [
      "0.008764488\n"
     ]
    }
   ],
   "source": [
    "print(np.min(fc1_weight_scale_temp))"
   ]
  },
  {
   "cell_type": "markdown",
   "metadata": {},
   "source": [
    "### Signal-to-noise ratio\n",
    "Calculate the signal to noise ratio for the fc1 weights according to [Blundell et al](https://arxiv.org/pdf/1505.05424.pdf)"
   ]
  },
  {
   "cell_type": "code",
   "execution_count": 26,
   "metadata": {},
   "outputs": [
    {
     "name": "stdout",
     "output_type": "stream",
     "text": [
      "5.0145854e-07\n",
      "37.155296\n"
     ]
    }
   ],
   "source": [
    "fc1_weight_signal_noise_ratio = np.abs(fc1_weight_loc_temp) / fc1_weight_scale_temp\n",
    "fc1_bias_signal_noise_ratio = np.abs(fc1_bias_loc_temp) / fc1_bias_scale_temp\n",
    "out_weight_signal_noise_ratio = np.abs(out_weight_loc_temp) / out_weight_scale_temp\n",
    "out_bias_signal_noise_ration = np.abs(out_bias_loc_temp) / out_bias_scale_temp\n",
    "# print(fc1_weight_signal_noise_ratio)\n",
    "# print(fc1_weight_signal_noise_ratio.shape)\n",
    "print(np.min(fc1_weight_signal_noise_ratio))\n",
    "print(np.max(fc1_weight_signal_noise_ratio))"
   ]
  },
  {
   "cell_type": "code",
   "execution_count": 27,
   "metadata": {},
   "outputs": [
    {
     "data": {
      "image/png": "[encoded data removed]",
      "text/plain": [
       "<Figure size 432x288 with 1 Axes>"
      ]
     },
     "metadata": {
      "needs_background": "light"
     },
     "output_type": "display_data"
    }
   ],
   "source": [
    "a = np.ravel(fc1_weight_signal_noise_ratio)\n",
    "plt.xlim(-0.5, 1.0)\n",
    "sns.kdeplot(x = a, shade=\"fill\")\n",
    "\n",
    "# Plot formatting\n",
    "plt.title('Density Plot')\n",
    "plt.xlabel('Signal-to-Noise ratio (dB)')\n",
    "plt.ylabel('Density')\n",
    "plt.show()"
   ]
  },
  {
   "cell_type": "markdown",
   "metadata": {},
   "source": [
    "Calculate the mean for the signal to noise ratio."
   ]
  },
  {
   "cell_type": "code",
   "execution_count": 28,
   "metadata": {},
   "outputs": [
    {
     "name": "stdout",
     "output_type": "stream",
     "text": [
      "0.1671208\n"
     ]
    }
   ],
   "source": [
    "fc1_weight_mean = np.mean(fc1_weight_signal_noise_ratio)\n",
    "fc1_bias_mean = np.mean(fc1_bias_signal_noise_ratio)\n",
    "out_weight_mean = np.mean(out_weight_signal_noise_ratio)\n",
    "out_bias_mean = np.mean(out_bias_signal_noise_ration)\n",
    "print(fc1_weight_mean)"
   ]
  },
  {
   "cell_type": "markdown",
   "metadata": {},
   "source": [
    "Calculate the percentile for the signal to noise ratio."
   ]
  },
  {
   "cell_type": "code",
   "execution_count": 29,
   "metadata": {},
   "outputs": [
    {
     "name": "stdout",
     "output_type": "stream",
     "text": [
      "88th percentile of fc1 weights: 0.32299870252609236\n"
     ]
    }
   ],
   "source": [
    "fc1_weight_percentile = np.percentile(fc1_weight_signal_noise_ratio, percentile_val)\n",
    "fc1_bias_percentile = np.percentile(fc1_bias_signal_noise_ratio, percentile_val)\n",
    "out_weight_percentile = np.percentile(out_weight_signal_noise_ratio, percentile_val)\n",
    "out_bias_percentile = np.percentile(out_bias_signal_noise_ration, percentile_val)\n",
    "print('{}th percentile of fc1 weights: {}'.format(percentile_val, fc1_weight_percentile))\n",
    "# np.savetxt('results.csv', [percentile_val], delimiter=',')"
   ]
  },
  {
   "cell_type": "markdown",
   "metadata": {},
   "source": [
    "Get the indexes of all signal to noise rations less than the mean value"
   ]
  },
  {
   "cell_type": "code",
   "execution_count": 30,
   "metadata": {},
   "outputs": [
    {
     "name": "stdout",
     "output_type": "stream",
     "text": [
      "# of \"deleted\" weights between input and hidden layer: 706478 = 88.0 %\n",
      "# of \"deleted\" biases between input and hidden layer: 901 = 88.0 %\n",
      "# of \"deleted\" weights between hidden and output layer: 9011 = 88.0 %\n",
      "# of \"deleted\" bias between hidden and output layer: 8 = 80.0 %\n"
     ]
    }
   ],
   "source": [
    "fc1_weight_signal_noise_ratio_index = np.argwhere(fc1_weight_signal_noise_ratio < fc1_weight_percentile)\n",
    "fc1_bias_signal_noise_ratio_index = np.argwhere(fc1_bias_signal_noise_ratio < fc1_bias_percentile)\n",
    "out_weight_signal_noise_ratio_index = np.argwhere(out_weight_signal_noise_ratio < out_weight_percentile)\n",
    "out_bias_signal_noise_ratio_index = np.argwhere(out_bias_signal_noise_ration < out_bias_percentile)\n",
    "\n",
    "print('# of \"deleted\" weights between input and hidden layer: {} = {:.3} %'. \n",
    "      format(len(fc1_weight_signal_noise_ratio_index), \n",
    "             (len(fc1_weight_signal_noise_ratio_index) / \n",
    "              pyro.param('fc1_weight_loc').cpu().detach().numpy().size) * 100))\n",
    "\n",
    "# np.savetxt('results.csv', (len(fc1_weight_signal_noise_ratio_index), (len(fc1_weight_signal_noise_ratio_index) / pyro.param('fc1_weight_loc').cpu().detach().numpy().size) * 100), delimiter = ',')\n",
    "\n",
    "print('# of \"deleted\" biases between input and hidden layer: {} = {:.3} %'. \n",
    "      format(len(fc1_bias_signal_noise_ratio_index), \n",
    "             (len(fc1_bias_signal_noise_ratio_index) / \n",
    "              pyro.param('fc1_bias_loc').cpu().detach().numpy().size) * 100))\n",
    "print('# of \"deleted\" weights between hidden and output layer: {} = {:.3} %'. \n",
    "      format(len(out_weight_signal_noise_ratio_index), \n",
    "             (len(out_weight_signal_noise_ratio_index) / \n",
    "              pyro.param('out_weight_loc').cpu().detach().numpy().size) * 100))\n",
    "print('# of \"deleted\" bias between hidden and output layer: {} = {:.3} %'. \n",
    "      format(len(out_bias_signal_noise_ratio_index), \n",
    "             (len(out_bias_signal_noise_ratio_index) / \n",
    "              pyro.param('out_bias_loc').cpu().detach().numpy().size) * 100))\n",
    "\n"
   ]
  },
  {
   "cell_type": "markdown",
   "metadata": {},
   "source": [
    "Replace all *mean* and *variance* values that are less than the calculated mean value by zeros. "
   ]
  },
  {
   "cell_type": "code",
   "execution_count": null,
   "metadata": {},
   "outputs": [],
   "source": [
    "for i in range(len(fc1_weight_signal_noise_ratio_index)):\n",
    "    fc1_weight_loc_temp[fc1_weight_signal_noise_ratio_index[i, 0], \n",
    "                     fc1_weight_signal_noise_ratio_index[i, 1]] = 0\n",
    "    fc1_weight_scale_temp[fc1_weight_signal_noise_ratio_index[i, 0], \n",
    "                     fc1_weight_signal_noise_ratio_index[i, 1]] = 0\n",
    "#     print(fc1_weight_signal_noise_ratio_mean_index[i, 0], fc1_weight_signal_noise_ratio_mean_index[i, 1])"
   ]
  },
  {
   "cell_type": "code",
   "execution_count": null,
   "metadata": {},
   "outputs": [],
   "source": [
    "for i in range(len(fc1_bias_signal_noise_ratio_index)):\n",
    "    fc1_bias_loc_temp[fc1_bias_signal_noise_ratio_index[i, 0]] = 0\n",
    "    fc1_bias_scale_temp[fc1_bias_signal_noise_ratio_index[i, 0]] = 0"
   ]
  },
  {
   "cell_type": "code",
   "execution_count": null,
   "metadata": {},
   "outputs": [],
   "source": [
    "for i in range(len(out_weight_signal_noise_ratio_index)):\n",
    "    out_weight_loc_temp[out_weight_signal_noise_ratio_index[i, 0], \n",
    "                     out_weight_signal_noise_ratio_index[i, 1]] = 0\n",
    "    out_weight_scale_temp[out_weight_signal_noise_ratio_index[i, 0], \n",
    "                     out_weight_signal_noise_ratio_index[i, 1]] = 0"
   ]
  },
  {
   "cell_type": "code",
   "execution_count": null,
   "metadata": {},
   "outputs": [],
   "source": [
    "for i in range(len(out_bias_signal_noise_ratio_index)):\n",
    "    out_bias_loc_temp[out_bias_signal_noise_ratio_index[i, 0]] = 0\n",
    "    out_bias_scale_temp[out_bias_signal_noise_ratio_index[i, 0]] = 0"
   ]
  },
  {
   "cell_type": "code",
   "execution_count": null,
   "metadata": {},
   "outputs": [],
   "source": [
    "fc1_weight_loc_zeros = torch.from_numpy(fc1_weight_loc_temp)\n",
    "fc1_weight_scale_zeros = torch.from_numpy(fc1_weight_scale_temp)"
   ]
  },
  {
   "cell_type": "code",
   "execution_count": null,
   "metadata": {},
   "outputs": [],
   "source": [
    "fc1_bias_loc_zeros = torch.from_numpy(fc1_bias_loc_temp)\n",
    "fc1_bias_scale_zeros = torch.from_numpy(fc1_bias_scale_temp)"
   ]
  },
  {
   "cell_type": "code",
   "execution_count": null,
   "metadata": {},
   "outputs": [],
   "source": [
    "out_weight_loc_zeros = torch.from_numpy(out_weight_loc_temp)\n",
    "out_weight_scale_zeros = torch.from_numpy(out_weight_scale_temp)"
   ]
  },
  {
   "cell_type": "code",
   "execution_count": null,
   "metadata": {},
   "outputs": [],
   "source": [
    "out_bias_loc_zeros = torch.from_numpy(out_bias_loc_temp)\n",
    "out_bias_scale_zeros = torch.from_numpy(out_bias_scale_temp)"
   ]
  },
  {
   "cell_type": "markdown",
   "metadata": {},
   "source": [
    "### Update parameter score\n",
    "1. Clear parameter score\n",
    "2. Update altered parameters\n",
    "3. Reset unchanged parameters"
   ]
  },
  {
   "cell_type": "code",
   "execution_count": null,
   "metadata": {},
   "outputs": [],
   "source": [
    "# clear parameter score\n",
    "pyro.clear_param_store()\n",
    "\n",
    "# update changed parameters\n",
    "fc1_weight_loc = fc1_weight_loc_zeros.to(device)\n",
    "fc1_weight_scale = fc1_weight_scale_zeros.to(device)\n",
    "fc1_weight_loc_param = pyro.param(\"fc1_weight_loc\", fc1_weight_loc)\n",
    "fc1_weight_scale_param = softplus(pyro.param(\"fc1_weight_scale\", fc1_weight_scale))\n",
    "\n",
    "# restore unchanged parameter\n",
    "fc1_bias_loc = fc1_bias_loc_zeros.to(device)\n",
    "fc1_bias_scale = fc1_bias_scale_zeros.to(device)\n",
    "fc1_bias_loc_param = pyro.param(\"fc1_bias_loc\", fc1_bias_loc)\n",
    "fc1_bias_scale_param = softplus(pyro.param(\"fc1_bias_scale\", fc1_bias_scale))\n",
    "\n",
    "out_weight_loc = out_weight_loc_zeros.to(device)\n",
    "out_weight_scale = out_weight_scale_zeros.to(device)\n",
    "out_weight_loc_param = pyro.param(\"out_weight_loc\", out_weight_loc)\n",
    "out_weight_scale_param = softplus(pyro.param(\"out_weight_scale\", out_weight_scale))\n",
    "\n",
    "out_bias_loc = out_bias_loc_zeros.to(device)\n",
    "out_bias_scale = out_bias_scale_zeros.to(device)\n",
    "out_bias_loc_param = pyro.param(\"out_bias_loc\", out_bias_loc)\n",
    "out_bias_scale_param = softplus(pyro.param(\"out_bias_scale\", out_bias_scale))\n"
   ]
  },
  {
   "cell_type": "markdown",
   "metadata": {},
   "source": [
    "Check altered parameters."
   ]
  },
  {
   "cell_type": "code",
   "execution_count": null,
   "metadata": {},
   "outputs": [],
   "source": [
    "pyro.param('fc1_weight_loc')"
   ]
  },
  {
   "cell_type": "code",
   "execution_count": null,
   "metadata": {},
   "outputs": [],
   "source": [
    "pyro.param('fc1_weight_scale')"
   ]
  },
  {
   "cell_type": "markdown",
   "metadata": {},
   "source": [
    "### Testing the Bayesian neural network\n",
    "In contrast to classical neural network with fixed parameters, Bayesian neural network with its random parameters need multiple runs / forwardpasses for a single input to predict an output. For an identical input file, each run will generate a different output. This is due to the randomness of the *weights* and *biases* of the Bayesian neural network. This is displayed in the following drawing from [Blundell et al](https://arxiv.org/pdf/1505.05424.pdf)"
   ]
  },
  {
   "cell_type": "markdown",
   "metadata": {},
   "source": [
    "<img src='../pictures/Blundell_1.png' width=600 align=left />"
   ]
  },
  {
   "cell_type": "markdown",
   "metadata": {},
   "source": [
    "<div style='width: 600px; text-align: center;'>Blundell et al.</div>"
   ]
  },
  {
   "cell_type": "markdown",
   "metadata": {},
   "source": [
    "On the left you can see a classical neural net with fixed *weights* and *biases* and on the right side you can see a Bayesian neural net with its random parameters.\n",
    "\n",
    "Therefore you need multiple runs to calculate the outcome.\n",
    "\n",
    "In the implementation below we use the *guide()* for prediction because it has the trained parameters.\n",
    "1. The first statement within *prediction()* generates *num_of_samples* Bayesian networks\n",
    "2. The second statement generates *num_of_samples* predictions for each single input. Thus if we have a test batch size of 64 we get in total 640 predictions, 10 for each input.\n",
    "3. The forth statement calculates the mean / average over the *num_of_samples* output for each input and each category. Thus yielding in 64 tensors with a mean value for each category.\n",
    "4. The result is the index of the category with the maximal mean value. There is one value for each input."
   ]
  },
  {
   "cell_type": "code",
   "execution_count": null,
   "metadata": {},
   "outputs": [],
   "source": [
    "# number of multiple runs for a single input\n",
    "num_of_samples = 100\n",
    "\n",
    "def predict(x):\n",
    "    # generate num_of_samples models \n",
    "    sampled_models = [guide(None, None) for _ in range(num_of_samples)]\n",
    "    # forwardpass of the date -> generates num_of_samples predictions per input\n",
    "    yhats = [model(x).data for model in sampled_models]\n",
    "    # stack the tensors for further processing\n",
    "    inter = torch.stack(yhats)\n",
    "    # Build the mean value for each category out of the sampled models\n",
    "    mean = torch.mean(inter, 0).cpu()\n",
    "    # Build the variance for each category out of the sampled models\n",
    "    variance = torch.var(inter, 0).cpu()\n",
    "    # get the category with the maximal mean value\n",
    "    # this is the predicted value of the Bayesian natwork\n",
    "    res = np.argmax(mean.numpy(), axis=1)\n",
    "    return res\n",
    "\n",
    "correct = 0\n",
    "total = 0\n",
    "\n",
    "start = time.time()\n",
    "\n",
    "for j, data in enumerate(testloader):\n",
    "    images, labels = data\n",
    "    # move data to cuda\n",
    "    images = images.to(device)\n",
    "    with torch.no_grad():\n",
    "        predicted = predict(images.view(-1,28*28))\n",
    "    total += labels.size(0)\n",
    "    correct += np.equal(predicted, labels).sum()\n",
    "    \n",
    "    if j % 10 == 0:\n",
    "        print('{} out of {} test batches'.format(j, len(testloader)))\n",
    "        \n",
    "print(\"Accuracy without confidence estimation: {:.1f} %\".format(correct / total * 100))\n",
    "\n",
    "print(\"\\nTime for testimg whole testing set: {:.0f} minutes and {:.3f} seconds\"\n",
    "      .format((time.time() - start)/60, (time.time() - start) % 60))"
   ]
  },
  {
   "cell_type": "markdown",
   "metadata": {},
   "source": [
    "### Variance of each category\n",
    "The following function `calculate_variance()` calculates the predicted variance of each category. \n",
    "1. For one input make `num_of_samples` forward passes through `num_of_samples` different models.\n",
    "2. Calculate the variance for each category over the `num_of_samples` results.\n",
    "3. Calculate a mean variance of the category variances.\n",
    "4. \"Normalize\" each category variance with the mean variance.\n",
    "5. Extract the minimal normalized category variance and return it.\n",
    "6. Extract the category with the minimal normalized category variance and return it."
   ]
  },
  {
   "cell_type": "code",
   "execution_count": null,
   "metadata": {},
   "outputs": [],
   "source": [
    "# number of multiple runs for a single input\n",
    "num_of_samples = 100\n",
    "\n",
    "def calculate_variance(x):\n",
    "    # generate num_of_samples models \n",
    "    sampled_models = [guide(None, None) for _ in range(num_of_samples)]\n",
    "    \n",
    "    # calculate the log softmax probability for the input images\n",
    "    yhats = [F.log_softmax(model(x.view(-1,28*28)).data, 1).cpu().numpy() for model in sampled_models]\n",
    "    \n",
    "    # 1. Convert yhat into an array -> np.asarray()\n",
    "    # 2. Join the sequence of arrays along axis 1 -> np.stack\n",
    "    # 3. Calculet the variance along axis 1 for each category out of the num_of_samples results-> np.var\n",
    "    var_yhat = np.var(np.stack(np.asarray(yhats), 1), 1)\n",
    "    \n",
    "    # Average the variences\n",
    "    mean_var = np.mean(var_yhat, 1)\n",
    "    \n",
    "    interm = []\n",
    "    for i in range(len(mean_var)):\n",
    "        interm.append(var_yhat[i] / mean_var[i])\n",
    "    \n",
    "    # Array of the normalized categy variances \n",
    "    normalized_var = np.array(interm)\n",
    "    \n",
    "    # Get the minimal categorical value\n",
    "    min_var = np.min(normalized_var, 1)\n",
    "    \n",
    "    # Get the index (the category) with the minimal value\n",
    "    min_var_item = np.argmin(normalized_var, 1)\n",
    "    \n",
    "    # Return the minimal normelized categary variance and the corresponding category\n",
    "    return min_var, min_var_item"
   ]
  },
  {
   "cell_type": "markdown",
   "metadata": {},
   "source": [
    "Test procedure"
   ]
  },
  {
   "cell_type": "code",
   "execution_count": null,
   "metadata": {},
   "outputs": [],
   "source": [
    "def test_var_batch(images, labels, plot=True):\n",
    "    images = images.to(device)\n",
    "    min_var, min_var_item = calculate_variance(images)\n",
    "    images = images.cpu()\n",
    "    predicted_for_images = 0\n",
    "    correct_predictions = 0\n",
    "    normalized_var_threshold = 0.2\n",
    "\n",
    "    for i in range(len(labels)):\n",
    "    \n",
    "        if(plot):\n",
    "            print(\"Real: \",labels[i].item())\n",
    "    \n",
    "        highted_something = False\n",
    "        \n",
    "        if(plot):\n",
    "            plt.show()\n",
    "    \n",
    "        if min_var[i] < normalized_var_threshold:\n",
    "            highted_something = True\n",
    "            predicted = min_var_item[i]\n",
    "            \n",
    "    \n",
    "        if(highted_something):\n",
    "            predicted_for_images+=1\n",
    "            if(labels[i].item()==predicted):\n",
    "                if(plot):\n",
    "                    print(\"Correct\")\n",
    "                correct_predictions +=1.0\n",
    "            else:\n",
    "                if(plot):\n",
    "                    print(\"Incorrect\")\n",
    "        else:\n",
    "            if(plot):\n",
    "                print(\"Undecided.\")\n",
    "        if(plot):\n",
    "                print(\"Normalized Variance = {:.5f} for threshold = {:.2f}\"\n",
    "                      .format(min_var[i], normalized_var_threshold))\n",
    "        if(plot):\n",
    "            helper.small_imshow(images[i].squeeze())\n",
    "        \n",
    "    \n",
    "    if(plot):\n",
    "        print(\"\\n\\nSummary\")\n",
    "        print(\"Number of images: \",len(labels))\n",
    "        print(\"Predicted for: \",predicted_for_images)\n",
    "        if predicted_for_images > 0:\n",
    "            print(\"Accuracy when predicted: \",correct_predictions/predicted_for_images)\n",
    "        else:\n",
    "            print(\"No prediction therefore no accuracy value available.\")\n",
    "        \n",
    "    return len(labels), correct_predictions, predicted_for_images "
   ]
  },
  {
   "cell_type": "markdown",
   "metadata": {},
   "source": [
    "Run the test procedure with the `MNIST` test set."
   ]
  },
  {
   "cell_type": "code",
   "execution_count": null,
   "metadata": {},
   "outputs": [],
   "source": [
    "images, labels = next(iter(testloader))\n",
    "test_var_batch(images[:60], labels[:60])"
   ]
  },
  {
   "cell_type": "markdown",
   "metadata": {},
   "source": [
    "### Out-of-distribution test\n",
    "Load the `FashionMNIST` test set to perform an out-of-distribution test. "
   ]
  },
  {
   "cell_type": "code",
   "execution_count": null,
   "metadata": {},
   "outputs": [],
   "source": [
    "# FashionMNIST test dataset\n",
    "fashiontestset = torchvision.datasets.FashionMNIST('../data',\n",
    "    download=True,\n",
    "    train=False,\n",
    "    transform=transform)"
   ]
  },
  {
   "cell_type": "code",
   "execution_count": null,
   "metadata": {},
   "outputs": [],
   "source": [
    "fashiontestloader = torch.utils.data.DataLoader(fashiontestset, batch_size=64, shuffle=False)"
   ]
  },
  {
   "cell_type": "markdown",
   "metadata": {},
   "source": [
    "Run the test procedure with the `FashionMNIST` test set."
   ]
  },
  {
   "cell_type": "code",
   "execution_count": null,
   "metadata": {
    "scrolled": true
   },
   "outputs": [],
   "source": [
    "images, labels = next(iter(fashiontestloader))\n",
    "test_var_batch(images[0:60], labels[0:60])"
   ]
  },
  {
   "cell_type": "markdown",
   "metadata": {},
   "source": [
    "### Results of the test procedure for `MNIST` and `FashionMNIST`\n",
    "The results above illustrate the intention behind the confidence calculation. For the `MNIST` data the confidence calculation leads the an accuracy of 100 % and the algorithm was confident at around 80 % of the input images. It detected 20 % of the input images not as digits and therefore the **false negative** (type 2 error) rate for confidence calculation is 20 %.\n",
    "\n",
    "On the other hand, it detected about 80 % as non-digits for the `FashionMNIST` data set. Therefore the **false positive** (type 1 error) rate for confidence calculation is 20 %."
   ]
  },
  {
   "cell_type": "code",
   "execution_count": null,
   "metadata": {},
   "outputs": [],
   "source": [
    "# Prediction after confidence estimation\n",
    "print('Prediction after confidence estimation')\n",
    "correct = 0\n",
    "total = 0\n",
    "total_predicted_for = 0\n",
    "\n",
    "start = time.time()\n",
    "\n",
    "for j, data in enumerate(testloader):\n",
    "    images, labels = data\n",
    "    \n",
    "    total_minibatch, correct_minibatch, predictions_minibatch = test_var_batch(images, labels, plot=False)\n",
    "    total += total_minibatch\n",
    "    correct += correct_minibatch\n",
    "    total_predicted_for += predictions_minibatch\n",
    "    \n",
    "    if j % 10 == 0:\n",
    "        print('{} out of {} test batches'.format(j, len(testloader)))\n",
    "\n",
    "print(\"Total images: \", total)\n",
    "print(\"Skipped: \", total-total_predicted_for)\n",
    "print(\"Accuracy when made predictions: {:3.1f}\".format (100 * correct / total_predicted_for))\n",
    "\n",
    "print(\"\\nTime for testing confidence estimation of whole testing set : {:.0f} minutes and {:.3f} seconds\"\n",
    "      .format((time.time() - start)/60, (time.time() - start) % 60))"
   ]
  },
  {
   "cell_type": "markdown",
   "metadata": {},
   "source": [
    "## Conclusion and future improvements \n",
    "The accuracy after confidence estimation is 98.8 % and therefore an improvement of 7.4 % compared to the prediction without confidence estimation. But the rate of the *false negative* or *type 2* errors for confidence estimation is pretty high with 27.52 %. Thus it is important to lower the type 2 error rate of the confidence estimation by keeping the accuracy as high as possible. \n",
    "\n",
    "#### Possible technical improvements\n",
    "1. average the variance over all but the smallest values.\n",
    "2. Calculate the distance between the smallest and the second smallest value.\n",
    "3. Take multiple runs (eg. 5) and average over them."
   ]
  },
  {
   "cell_type": "markdown",
   "metadata": {},
   "source": [
    "## References\n",
    "[[1]](https://www.youtube.com/watch?v=DYRK0-_K2UU&feature=youtu.be) Tamara Broderick - Tutorial \"Variational Bayes and beyond: Bayesian inference for big data\" - ICML 2018.\n",
    "<br>\n",
    "[[2]](https://arxiv.org/pdf/1505.05424.pdf) C. Blundell, J. Cornebise, K. Kavukcuoglu, and D. Wierstra, “Weight uncertainty in neural networks,” in *International Conference on Machine Learning*, 2015, pp. 1613–1622.\n",
    "<br>\n",
    "[[3]](https://towardsdatascience.com/making-your-neural-network-say-i-dont-know-bayesian-nns-using-pyro-and-pytorch-b1c24e6ab8cd) Paras Chopra, \"Making Your Neural Network Say “I Don’t Know” — Bayesian NNs using Pyro and PyTorch\" in *towards data science*, 2018"
   ]
  },
  {
   "cell_type": "code",
   "execution_count": null,
   "metadata": {},
   "outputs": [],
   "source": []
  }
 ],
 "metadata": {
  "kernelspec": {
   "display_name": "Python 3",
   "language": "python",
   "name": "python3"
  },
  "language_info": {
   "codemirror_mode": {
    "name": "ipython",
    "version": 3
   },
   "file_extension": ".py",
   "mimetype": "text/x-python",
   "name": "python",
   "nbconvert_exporter": "python",
   "pygments_lexer": "ipython3",
   "version": "3.6.12"
  }
 },
 "nbformat": 4,
 "nbformat_minor": 4
}
