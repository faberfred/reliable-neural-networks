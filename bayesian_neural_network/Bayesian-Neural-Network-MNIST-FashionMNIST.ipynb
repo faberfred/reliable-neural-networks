{
 "cells": [
  {
   "cell_type": "markdown",
   "metadata": {},
   "source": [
    "# Confidence of a Bayesian Neural Network\n",
    "This notebook examines the confidence calculation of a *Bayesian* neural network. I will use the *MNIST* and *FashionMNIST* datasets to demonstrate how confidence within the prediction process can help to avoid misclassification. `PyTorch` and `Pyro` are used for the probabilistic programming part."
   ]
  },
  {
   "cell_type": "markdown",
   "metadata": {},
   "source": [
    "## Approximate Bayesian Inference\n",
    "Before we start to implement the *Bayesian* neural network lets have a look at the theory behind *Approximate Bayesian Inference*. \n",
    "#### Bayesian inference\n",
    "The *prior* $p(\\theta)$ is our prior believe of the (probability) distribution of the parameters $\\theta$, which we have to identify first.\n",
    "\n",
    "The *likelihood* $p(y_{1:N} | \\theta)$ tells us, how our data $y$ interacts with / relates to our parameter $\\theta$ for $N$ data points.\n",
    "\n",
    "**Model:** The *likelihood* and the *prior* makes the model! This tells us how we can simulate from our data.\n",
    "\n",
    "The *prior* as a marginal and the *likelihood* as a conditional together makes a *joined distribution* $p(y_{1:N},\\theta)$.\n",
    "\n",
    "$p(y | \\theta) \\: p(\\theta) = p(y,\\theta)$\n",
    "\n",
    "This joined distribution can be also written as $p(\\theta, y) = p(\\theta | y) p(y)$\n",
    "\n",
    "Which gives us $p(\\theta | y) = \\frac{p(\\theta, y)}{p(y)}$. This is equivalent to \n",
    "\n",
    "$$p(\\theta | y_{1:N}) = \\frac{p(y_{1:N} | \\theta) p(\\theta)}{p(y_{1:N})}$$ \n",
    "\n",
    "which is called the ***Bayes Theorem***.\n",
    "\n",
    "$p(y_{1:N})$ is the normalizing constant and is called the *evidence*. It is the probability of the data. It is the marginal of the joined probability $p(\\theta , y)$ with $\\theta$ integrated out. Therefore it can be written as: $\\int p(y_{1:N} | \\theta) \\: p(\\theta) \\: d\\theta$\n",
    "\n",
    "$p(\\theta | y_{1:N})$ is called the *posterior* and is exactly what we want to infer by Bayesian Inference.\n",
    "\n",
    "Finally the Bayes Theorem can be written as: $$p(\\theta | y_{1:N}) = \\frac{p(y_{1:N} | \\theta) p(\\theta)}{\\int p(y_{1:N} | \\theta) p(\\theta)d\\theta}$$\n",
    "\n",
    "Due to the possibly high dimension of $\\theta$ and therefore the high dimensionality of the *posterior* we want to reduce our result to a point estimate and a notion of its distribution / uncertainty. This is mostly the *mean* and its *(co)variance*.\n",
    "\n",
    "**Goal of Bayesian inference:** The goal of Bayesian inference is calculating the *posterior* and presenting a *mean* and a *(co)variance* of the calculated distribution $p(\\theta | y_{1:N})$.\n",
    "\n",
    "#### Problems of the Bayes Theorem\n",
    "1. High dimensional integration of $\\theta$ over the *evidence* to get the *posterior*. \n",
    "2. High dimensional integration of $\\theta$ over the *posterior* to get a posterior *mean* and *(co)variance*.\n",
    "\n",
    "Because of the intractability of the high dimensional integrations mentioned above the question is how do we get a *posterior* and its *mean* and *(co)variance* if we cannot calculate it directly?\n",
    "\n",
    "*Approximate Bayesian Inference* it the solution to this problem.\n",
    "\n",
    "#### Approximate the *posterior* by using Variational Bayes\n",
    "If we cannot calculate the *posterior* we are going to approximate it by using *Variational Bayes*, which is an optimization approach. \n",
    "\n",
    "We denote the \"optimal\" approximated *posterior* by $q^*$. An \"optimal\" approximated *posterior* is the closest $q$ to the exact *posterior* $p(\\theta|y)$ for which we can calculate a *mean* and *(co)variance*. (Remember our goal is to calculate / approximate a *mean* and *(co)variance* as our result.) \n",
    "<br><br>\n",
    "<!-- <figure>\n",
    "    <img src='pictures/variational-bayes.png' width=400 />\n",
    "    <figcaption>Caption goes here</figcaption>\n",
    "</figure>\n",
    " -->\n",
    "<!-- <figure>\n",
    "    <img src='../pictures/variational-bayes.png' width=400 align=left />\n",
    "    <div style='width: 400px; text-align: center;'>Tamara Broderick - Tutorial \"Variational Bayes and beyond: Bayesian inference for big data\" - ICML 2018.</div>\n",
    "</figure> -->"
   ]
  },
  {
   "cell_type": "markdown",
   "metadata": {},
   "source": [
    "<img src='../pictures/variational-bayes.png' width=400 align=left />"
   ]
  },
  {
   "cell_type": "markdown",
   "metadata": {},
   "source": [
    "<div style='width: 400px; text-align: center;'>Tamara Broderick - Tutorial \"Variational Bayes and beyond: Bayesian inference for big data\" - ICML 2018.</div>"
   ]
  },
  {
   "cell_type": "markdown",
   "metadata": {},
   "source": [
    "In the case of *Variational Bayes* $q^*$ is: $$q^* = argmin_{q\\in Q} KL(q(\\theta) \\parallel p(\\theta | y))$$\n",
    "\n",
    "where KL is the *Kullback-Leibler (KL)* divergence and $Q$ is the bulk of appropriate or \"nice\" distributions for which we can calculate the *mean* and the *variance*.\n",
    "\n",
    "#### Advantage of using KL divergence\n",
    "Lets look at the definition of the KL divergence:\n",
    "\n",
    "$$ KL(q(\\theta) \\parallel p(\\theta | y) := \\int q(\\theta) \\: log \\: \\frac{q(\\theta)}{p(\\theta|y)} \\: d\\theta$$\n",
    "\n",
    "where $q(\\theta)$ is the approximating distribution and $p(\\theta|y)$ is the exact *posterior* we want to approximate. \n",
    "\n",
    "Now the problem with the KL divergence is that we do not know the exact *posterior* so how can we approximate something that we don't know. To answer this question we need to do some algebraic manipulation and we start with replacing $p(\\theta|y)$ in the denominator by $\\frac {p(\\theta, y)}{p(y)}$:\n",
    "\n",
    "<!-- $$ KL(q(\\theta) \\parallel p(\\theta | y) := \\int q(\\theta)\\: log \\: \\frac{q(\\theta)p(y)}{p(\\theta,y)}\\: d\\theta$$ \n",
    " -->\n",
    "\n",
    "$$ KL(q(\\theta) \\parallel p(\\theta | y) := \\int q(\\theta) \\: log \\frac{p(y)}{\\frac{p(\\theta,y)}{q(\\theta)}} \\: d\\theta$$ \n",
    "\n",
    "now using the fact that $log\\frac{a}{b} = log(a) - log(b)$ (quotient rule) we get:\n",
    "\n",
    "$$ = \\int q(\\theta)\\: (log \\: p(y) - log \\: \\frac{p(\\theta,y)}{q(\\theta)})\\:d\\theta$$\n",
    "\n",
    "$$ = \\int q(\\theta)\\: log \\: p(y)\\: d\\theta - \\int q(\\theta) log \\: \\frac{p(\\theta,y)}{q(\\theta)}\\:d\\theta$$\n",
    "\n",
    "where $ \\int q(\\theta) \\: log \\, p(y) \\: d(\\theta)$ integrates to $log \\, p(y)$ because $q$ is a distribution and therefore $\\int q(\\theta) \\: d\\theta$ integrates to $1$. So we get:\n",
    "\n",
    "$$ = log\\: p(y) - \\int q(\\theta)\\: log \\: \\frac{p(\\theta,y)}{q(\\theta)}\\:d\\theta$$\n",
    "\n",
    "The first term is the log of the evidence and does not contain $q$. As we are minimizing the KL divergence over $q$ this first term $log\\: p(y)$ does not have any impact.\n",
    "\n",
    "The second term is called *Evidence Lower Bound (ELBO)* and it contains only elements that we know. The joined distribution $p(\\theta,y)$ is the *likelihood* times the *prior* and this is our input. This term can be optimized.\n",
    "\n",
    "Due to the fact that the $KL \\ge 0$ we have $log \\, p(y) \\ge ELBO$ and it is a lower bound for the $log$ of the *evidence*.\n",
    "\n",
    "So now we have: \n",
    "\n",
    "$$q^* = argmin_{q\\in Q} KL(q(\\theta) \\parallel p(\\theta | y))$$ with \n",
    "\n",
    "$$ KL(q(\\theta) \\parallel p(\\theta | y) := log\\: p(y) - \\int q(\\theta)\\: log \\: \\frac{p(\\theta,y)}{q(\\theta)}\\:d\\theta $$ \n",
    "\n",
    "and we get: \n",
    "\n",
    "$$q^* = argmax_{q \\in Q} \\,ELBO(q)$$\n",
    "\n",
    "**Therefore minimizing the $KL$ divergence is equivalent to maximizing the $ELBO$.**\n",
    "\n",
    "#### Conclusion\n",
    "We started with the problem of minimizing the KL divergence between $q(\\theta)$ and our exact *posterior* $p(\\theta|y)$ which we don't know and ended up with maximizing the $ELBO$. This is the exact same problem with the benefit that we can solve it by optimization.\n",
    "\n",
    "\n",
    "#### Mean-field Variational Bayes \n",
    "\n",
    "Last but not least we have to check what are appropriate or \"nice\", as called in the depiction above, distributions. As mentioned at the beginning of this explanation, we are looking for a *mean* and a *variance* and therefore we need distributions for which we can easily compute *means* and *variances*. This requirement is perfectly fulfilled by low dimensional, exponential distributions.\n",
    "\n",
    "Starting with a high dimensional parameter vector $\\theta$, we break it down into $J$ smaller components. Now the approximating distribution $q(\\theta)$ factorizes over these $J$ components to calculate the approximation. This is the *Mean-field variational Bayes (MFVB)* assumption. \n",
    "\n",
    "$$Q_{MFVB} := \\{ q : q(\\theta) = \\prod_{j=1}^J \\: q_j(\\theta_j)\\}$$\n",
    "\n",
    "Ideally $\\theta$ factorizes into exponential distributions for whom it is easy to calculate *means* and *variances*.\n",
    "\n",
    "#### Optimization\n",
    "\n",
    "Now we apply optimization to find the optimal distribution $q^*$ which minimizes the $KL$ divergence between our appropriate distributions and the exact *posterior*. We are going to use *Stochastic Variational Inference (SVI)* for this purpose.  "
   ]
  },
  {
   "cell_type": "markdown",
   "metadata": {},
   "source": [
    "# Probabilistic computation with Pyro\n",
    "\n",
    "We will use [Pyro](https://pyro.ai/) for the probabilistic computation."
   ]
  },
  {
   "cell_type": "markdown",
   "metadata": {},
   "source": [
    "Import all necessary libraries."
   ]
  },
  {
   "cell_type": "code",
   "execution_count": 1,
   "metadata": {},
   "outputs": [],
   "source": [
    "%matplotlib inline\n",
    "import matplotlib.pyplot as plt\n",
    "\n",
    "import numpy as np\n",
    "\n",
    "from collections import OrderedDict\n",
    "\n",
    "# PyTorch\n",
    "import torch\n",
    "from torch import nn\n",
    "from torch import optim\n",
    "import torch.nn.functional as F\n",
    "from torch.autograd import Variable\n",
    "import torchvision\n",
    "from torchvision import datasets, transforms, models\n",
    "from torch.utils.data import DataLoader\n",
    "from torch.utils.data.dataset import Dataset\n",
    "\n",
    "import helper"
   ]
  },
  {
   "cell_type": "code",
   "execution_count": 2,
   "metadata": {},
   "outputs": [],
   "source": [
    "# Pyro\n",
    "import pyro\n",
    "import pyro.distributions as dist\n",
    "from pyro.infer import SVI, Trace_ELBO\n",
    "from pyro.optim import Adam\n",
    "\n",
    "pyro.set_rng_seed(101)"
   ]
  },
  {
   "cell_type": "markdown",
   "metadata": {},
   "source": [
    "## Load the data\n",
    "\n",
    "Use `Dataloader` to load the data and store it in the `data` directory.\n",
    "\n",
    "The dataset is split into two parts, training and testing.\n",
    "\n",
    "The testing sets is used to measure the model's performance on data it hasn't seen yet. "
   ]
  },
  {
   "cell_type": "markdown",
   "metadata": {},
   "source": [
    "Define how to transform the datasets."
   ]
  },
  {
   "cell_type": "code",
   "execution_count": 3,
   "metadata": {},
   "outputs": [],
   "source": [
    "transform = transforms.Compose(\n",
    "    [transforms.ToTensor()])"
   ]
  },
  {
   "cell_type": "markdown",
   "metadata": {},
   "source": [
    "Define the datasets and where to store them."
   ]
  },
  {
   "cell_type": "code",
   "execution_count": 4,
   "metadata": {},
   "outputs": [],
   "source": [
    "# datasets\n",
    "trainset = torchvision.datasets.MNIST('../data',\n",
    "    download=True,\n",
    "    train=True,\n",
    "    transform=transform)\n",
    "testset = torchvision.datasets.MNIST('../data',\n",
    "    download=True,\n",
    "    train=False,\n",
    "    transform=transform)"
   ]
  },
  {
   "cell_type": "markdown",
   "metadata": {},
   "source": [
    "Load the datasets."
   ]
  },
  {
   "cell_type": "code",
   "execution_count": 5,
   "metadata": {},
   "outputs": [],
   "source": [
    "# dataloaders\n",
    "trainloader = torch.utils.data.DataLoader(trainset, batch_size=128, shuffle=True)\n",
    "\n",
    "testloader = torch.utils.data.DataLoader(testset, batch_size=64, shuffle=False)"
   ]
  },
  {
   "cell_type": "markdown",
   "metadata": {},
   "source": [
    "Define the neural net. It is identical to the classic approach."
   ]
  },
  {
   "cell_type": "code",
   "execution_count": 6,
   "metadata": {},
   "outputs": [],
   "source": [
    "input_layer_size = 28*28 # image size of 28 x 28 pixels\n",
    "hidden_layer_size = 1024 # number of hidden layer nodes\n",
    "output_layer_size = 10   # number of categories"
   ]
  },
  {
   "cell_type": "code",
   "execution_count": 7,
   "metadata": {},
   "outputs": [],
   "source": [
    "class NeuralNet(nn.Module):\n",
    "    \n",
    "    def __init__(self, input_layer, hidden_layer, output_layer):\n",
    "        super(NeuralNet, self).__init__()\n",
    "        self.fc1 = nn.Linear(input_layer, hidden_layer)\n",
    "        self.out = nn.Linear(hidden_layer, output_layer)\n",
    "        \n",
    "        \n",
    "    def forward(self, x):\n",
    "        x = self.fc1(x)\n",
    "        x = F.relu(x)\n",
    "        x = self.out(x)\n",
    "        return x"
   ]
  },
  {
   "cell_type": "code",
   "execution_count": 8,
   "metadata": {},
   "outputs": [],
   "source": [
    "log_softmax = nn.LogSoftmax(dim=1)"
   ]
  },
  {
   "cell_type": "markdown",
   "metadata": {},
   "source": [
    "Instance new neural network for probabilistic calculations."
   ]
  },
  {
   "cell_type": "code",
   "execution_count": 9,
   "metadata": {},
   "outputs": [],
   "source": [
    "baysNeuralNet = NeuralNet(input_layer_size, hidden_layer_size, output_layer_size)"
   ]
  },
  {
   "cell_type": "markdown",
   "metadata": {},
   "source": [
    "To do Bayesian inference in Pyro we need a *model*, a *guide*, an *optimizer*, and an *inference algorithm*."
   ]
  },
  {
   "cell_type": "markdown",
   "metadata": {},
   "source": [
    "### Model\n",
    "In general a *model* in `Pyro` is a Python function which uses `Pyro` primitives (= primitive stochastic functions) to compute the input data.\n",
    "\n",
    "One important thing to mention is that `pyro.sample` statements with an `obs` keyword are used to incorporate observations into the inference process. \n",
    "\n",
    "For Neural Networks we first need to convert our conventional network into a Bayesian network. Therefore we replace the fixed parameters for the weights and the biases by distributions. \n",
    "\n",
    "In our case we use the normal distribution to generate the priors.\n",
    "```python\n",
    "pyro.distributions.Normal()\n",
    "```\n",
    "After generating the priors, we replace the conventional, fixed parameters (weights and biases) by these new ones by calling \n",
    "```python\n",
    "pyro.random_module()\n",
    "```\n",
    "Now we can create a sampled neural network module with sampled weights and biases and pass in data to generate a result.\n",
    "\n",
    "In our case, the result will be 10 negative number representing the log probability of the 10 categories:\n",
    "\n",
    "<img src='../pictures/mode-raw-output.png' width=700 align=left>"
   ]
  },
  {
   "cell_type": "code",
   "execution_count": 10,
   "metadata": {},
   "outputs": [],
   "source": [
    "def model(x_data, y_data):\n",
    "    \n",
    "    # Initialize the prior distributions for the weights and biases of the neural network layers (N(0,1))\n",
    "    fc1_weight_prior = dist.Normal(loc=torch.zeros(baysNeuralNet.fc1.weight.size()), \n",
    "                        scale=torch.ones(baysNeuralNet.fc1.weight.size()))\n",
    "    fc1_bias_prior = dist.Normal(loc=torch.zeros(baysNeuralNet.fc1.bias.size()), \n",
    "                        scale=torch.ones(baysNeuralNet.fc1.bias.size()))\n",
    "\n",
    "    \n",
    "    out_weight_prior = dist.Normal(loc=torch.zeros(baysNeuralNet.out.weight.size()), \n",
    "                        scale=torch.ones(baysNeuralNet.out.weight.size()))\n",
    "    out_bias_prior = dist.Normal(loc=torch.zeros(baysNeuralNet.out.bias.size()), \n",
    "                        scale=torch.ones(baysNeuralNet.out.bias.size()))\n",
    "    \n",
    "    priors = {'fc1.weight': fc1_weight_prior, 'fc1.bias': fc1_bias_prior,  \n",
    "              'out.weight': out_weight_prior, 'out.bias': out_bias_prior}\n",
    "    \n",
    "    # place a prior over the parameters (weights and biases) of the network. \n",
    "    # Returns a distribution (callable) over nn.Module`s, which upon calling returns a sampled `nn.Module.\n",
    "    priored_module = pyro.random_module(\"module\", baysNeuralNet, priors)\n",
    "    \n",
    "    # get a sampled `nn.Module (callable) with sampled weights and biases \n",
    "    sampled_module = priored_module()\n",
    "    \n",
    "    # get the LogSoftmax result for each dataset (within a batch)\n",
    "    # each cathegory is represented by a negative number. (Eg 10 numbers for the 10 digits 0-9)\n",
    "    logProbPred = log_softmax(sampled_module(x_data))\n",
    "    \n",
    "    # incorporate observations into the model\n",
    "    # Call the stochastic function Categorical and return a sampled result according to the distribution if\n",
    "    # no obs parameter is set to condition on - otherwise use the obs argument to the pyro.sample statement \n",
    "    # to condition on the observed data y_data -> the result will by y_data\n",
    "    # Categorical creates a categorical distribution parameterized by logits (log_softmax())\n",
    "    pyro.sample(\"obs\", dist.Categorical(logits=logProbPred), obs=y_data)"
   ]
  },
  {
   "cell_type": "markdown",
   "metadata": {},
   "source": [
    "The result of pyro.sample **without** the observation argument will be stochastically sampled from `logProbPred` and will be different from `y_data`:\n",
    "<img src='../pictures/cat_sample_without_obs.png' width=800px>\n",
    "The result of pyro.sample **with** the observation argument will be identical to `y_data`:\n",
    "<img src='../pictures/cat_sample_with_obs.png' width=800px>"
   ]
  },
  {
   "cell_type": "markdown",
   "metadata": {},
   "source": [
    "### Guide\n",
    "The *guide* is a parameterized family of distributions over the *weights* and the *biases* and it is used to train the model by learning the parameters declared by `pyro.param` given the observation outcomes `obs`. `pyro.param` registers the parameters in the [ParamStore](http://docs.pyro.ai/en/0.2.1-release/parameters.html). \n",
    "\n",
    "The parameters to be learned are *fcl1_w_mu*, *fcl1_w_sigma*, *fcl1_b_mu*, *fcl1_b_sigma*, *outl_w_mu*, *outl_w_sigma*, *outl_b_mu* and *outl_b_sigma* and are defined within the *guide*. "
   ]
  },
  {
   "cell_type": "code",
   "execution_count": 11,
   "metadata": {},
   "outputs": [],
   "source": [
    "softplus = torch.nn.Softplus()\n",
    "\n",
    "def guide(x_data, y_data):\n",
    "    \n",
    "    # First layer weight distribution priors\n",
    "    fc1_weight_loc = torch.randn(baysNeuralNet.fc1.weight.size())\n",
    "    fc1_weight_scale = torch.randn(baysNeuralNet.fc1.weight.size())\n",
    "    fc1_weight_loc_param = pyro.param(\"fc1_weight_loc\", fc1_weight_loc)\n",
    "    fc1_weight_scale_param = softplus(pyro.param(\"fc1_weight_scale\", fc1_weight_scale))\n",
    "    fc1_weight_prior = dist.Normal(loc=fc1_weight_loc_param, scale=fc1_weight_scale_param)\n",
    "    \n",
    "    # First layer bias distribution priors\n",
    "    fc1_bias_loc = torch.randn(baysNeuralNet.fc1.bias.size())\n",
    "    fc1_bias_scale = torch.randn(baysNeuralNet.fc1.bias.size())\n",
    "    fc1_bias_loc_param = pyro.param(\"fc1_bias_loc\", fc1_bias_loc)\n",
    "    fc1_bias_scale_param = softplus(pyro.param(\"fc1_bias_scale\", fc1_bias_scale))\n",
    "    fc1_bias_prior = dist.Normal(loc=fc1_bias_loc_param, scale=fc1_bias_scale_param)\n",
    "    \n",
    "    # Output layer weight distribution priors\n",
    "    out_weight_loc = torch.randn(baysNeuralNet.out.weight.size())\n",
    "    out_weight_scale = torch.randn(baysNeuralNet.out.weight.size())\n",
    "    out_weight_loc_param = pyro.param(\"out_weight_loc\", out_weight_loc)\n",
    "    out_weight_scale_param = softplus(pyro.param(\"out_weight_scale\", out_weight_scale))\n",
    "    out_weight_prior = dist.Normal(loc=out_weight_loc_param, scale=out_weight_scale_param).independent(1)\n",
    "    \n",
    "    # Output layer bias distribution priors\n",
    "    out_bias_loc = torch.randn(baysNeuralNet.out.bias.size())\n",
    "    out_bias_scale = torch.randn(baysNeuralNet.out.bias.size())\n",
    "    out_bias_loc_param = pyro.param(\"out_bias_loc\", out_bias_loc)\n",
    "    out_bias_scale_param = softplus(pyro.param(\"out_bias_scale\", out_bias_scale))\n",
    "    out_bias_prior = dist.Normal(loc=out_bias_loc_param, scale=out_bias_scale_param)\n",
    "    \n",
    "    priors = {'fc1.weight': fc1_weight_prior, 'fc1.bias': fc1_bias_prior, \n",
    "              'out.weight': out_weight_prior, 'out.bias': out_bias_prior}\n",
    "    \n",
    "    priored_module = pyro.random_module(\"module\", baysNeuralNet, priors)\n",
    "    \n",
    "    return priored_module()"
   ]
  },
  {
   "cell_type": "markdown",
   "metadata": {},
   "source": [
    "### Optimizer & Inference Algorithm\n",
    "In this example we use the *Adam* optimizer and the *Stochastic Variational Inference (SVI)*."
   ]
  },
  {
   "cell_type": "code",
   "execution_count": 12,
   "metadata": {},
   "outputs": [],
   "source": [
    "optim = Adam({\"lr\": 0.01})\n",
    "svi = SVI(model, guide, optim, loss=Trace_ELBO())"
   ]
  },
  {
   "cell_type": "markdown",
   "metadata": {},
   "source": [
    "### Training\n",
    "Training is done by the *Stochastic Variational Inference (SVI)* optimization algorithm with the *ELBO* as the loss function (See the introductory part at the beginning of this notebook) by adjusting the `pyro.param` values."
   ]
  },
  {
   "cell_type": "code",
   "execution_count": 13,
   "metadata": {},
   "outputs": [
    {
     "name": "stderr",
     "output_type": "stream",
     "text": [
      "/home/horst/anaconda3/envs/pyro/lib/python3.6/site-packages/pyro/primitives.py:406: FutureWarning: The `random_module` primitive is deprecated, and will be removed in a future release. Use `pyro.nn.Module` to create Bayesian modules from `torch.nn.Module` instances.\n",
      "  \"modules from `torch.nn.Module` instances.\", FutureWarning)\n"
     ]
    },
    {
     "name": "stdout",
     "output_type": "stream",
     "text": [
      "Epoch  1  Loss  2106.8290526576043\n",
      "Epoch  2  Loss  378.6769510138989\n",
      "Epoch  3  Loss  161.66674293100039\n",
      "Epoch  4  Loss  112.00966752870877\n",
      "Epoch  5  Loss  97.43290654851596\n",
      "Epoch  6  Loss  90.94613541169167\n",
      "Epoch  7  Loss  87.42377650856972\n",
      "Epoch  8  Loss  86.76962037156423\n",
      "Epoch  9  Loss  86.66487224982579\n",
      "Epoch  10  Loss  85.86500588234266\n"
     ]
    }
   ],
   "source": [
    "num_iterations = 10\n",
    "loss = 0\n",
    "\n",
    "for j in range(num_iterations):\n",
    "    loss = 0\n",
    "    for batch_id, data in enumerate(trainloader):\n",
    "        # calculate the loss and take a gradient step\n",
    "        loss += svi.step(data[0].view(-1,28*28), data[1])\n",
    "    normalizer_train = len(trainloader.dataset)\n",
    "    total_epoch_loss_train = loss / normalizer_train\n",
    "    \n",
    "    print(\"Epoch \", j+1, \" Loss \", total_epoch_loss_train)"
   ]
  },
  {
   "cell_type": "markdown",
   "metadata": {},
   "source": [
    "### Testing the Bayesian neural network\n",
    "In contrast to classical neural network with fixed parameters, Bayesian neural network with its random parameters need multiple runs / forwardpasses for a single input to predict an output. For an identical input file, each run will generate a different output. This is due to the randomness of the *weights* and *biases* of the Bayesian neural network. This is displayed in the following drawing from [Blundell et al](https://arxiv.org/pdf/1505.05424.pdf)"
   ]
  },
  {
   "cell_type": "markdown",
   "metadata": {},
   "source": [
    "<img src='../pictures/Blundell_1.png' width=600 align=left />"
   ]
  },
  {
   "cell_type": "markdown",
   "metadata": {},
   "source": [
    "<div style='width: 600px; text-align: center;'>Blundell et al.</div>"
   ]
  },
  {
   "cell_type": "markdown",
   "metadata": {},
   "source": [
    "On the left you can see a classical neural net with fixed *weights* and *biases* and on the right side you can see a Bayesian neural net with its random parameters.\n",
    "\n",
    "Therefore you need multiple runs to calculate the outcome.\n",
    "\n",
    "In the implementation below we use the *guide()* for prediction because it has the trained parameters.\n",
    "1. The first statement within *prediction()* generates *num_of_samples* Bayesian networks\n",
    "2. The second statement generates *num_of_samples* predictions for each single input. Thus if we have a test batch size of 64 we get in total 640 predictions, 10 for each input.\n",
    "3. The forth statement calculates the mean / average over the *num_of_samples* output for each input and each category. Thus yielding in 64 tensors with a mean value for each category.\n",
    "4. The result is the index of the category with the maximal mean value. There is one value for each input."
   ]
  },
  {
   "cell_type": "code",
   "execution_count": 14,
   "metadata": {},
   "outputs": [
    {
     "name": "stdout",
     "output_type": "stream",
     "text": [
      "Predict everey input without confidence estimation\n",
      "Accuracy: 91.4 %\n"
     ]
    }
   ],
   "source": [
    "# number of multiple runs for a single input\n",
    "num_of_samples = 100\n",
    "\n",
    "def predict(x):\n",
    "    # generate num_of_samples models \n",
    "    sampled_models = [guide(None, None) for _ in range(num_of_samples)]\n",
    "    # forwardpass of the date -> generates num_of_samples predictions per input\n",
    "    yhats = [model(x).data for model in sampled_models]\n",
    "    # stack the tensors for further processing\n",
    "    inter = torch.stack(yhats)\n",
    "    # Build the mean value for each category out of the sampled models\n",
    "    mean = torch.mean(inter, 0)\n",
    "    # Build the variance for each category out of the sampled models\n",
    "    variance = torch.var(inter, 0)\n",
    "    # get the category with the maximal mean value\n",
    "    # this is the predicted value of the Bayesian natwork\n",
    "    res = np.argmax(mean.numpy(), axis=1)\n",
    "    return res\n",
    "\n",
    "print('Predict everey input without confidence estimation')\n",
    "correct = 0\n",
    "total = 0\n",
    "for j, data in enumerate(testloader):\n",
    "    images, labels = data\n",
    "    with torch.no_grad():\n",
    "        predicted = predict(images.view(-1,28*28))\n",
    "    total += labels.size(0)\n",
    "    correct += np.equal(predicted, labels).sum()\n",
    "print(\"Accuracy: {:.1f} %\".format(correct / total * 100))"
   ]
  },
  {
   "cell_type": "markdown",
   "metadata": {},
   "source": [
    "### Variance of each category\n",
    "The following function `calculate_variance()` calculates the predicted variance of each category. \n",
    "1. For one input make `num_of_samples` forward passes through `num_of_samples` different models.\n",
    "2. Calculate the variance for each category over the `num_of_samples` results.\n",
    "3. Calculate a mean variance of the category variances.\n",
    "4. \"Normalize\" each category variance with the mean variance.\n",
    "5. Extract the minimal normalized category variance and return it.\n",
    "6. Extract the category with the minimal normalized category variance and return it."
   ]
  },
  {
   "cell_type": "code",
   "execution_count": 15,
   "metadata": {},
   "outputs": [],
   "source": [
    "# number of multiple runs for a single input\n",
    "num_of_samples = 100\n",
    "\n",
    "def calculate_variance(x):\n",
    "    # generate num_of_samples models \n",
    "    sampled_models = [guide(None, None) for _ in range(num_of_samples)]\n",
    "    \n",
    "    # calculate the log softmax probability for the input images\n",
    "    yhats = [F.log_softmax(model(x.view(-1,28*28)).data, 1).numpy() for model in sampled_models]\n",
    "    \n",
    "    # 1. Convert yhat into an array -> np.asarray()\n",
    "    # 2. Join the sequence of arrays along axis 1 -> np.stack\n",
    "    # 3. Calculet the variance along axis 1 for each category out of the num_of_samples results-> np.var\n",
    "    var_yhat = np.var(np.stack(np.asarray(yhats), 1), 1)\n",
    "    \n",
    "    # Average the variences\n",
    "    mean_var = np.mean(var_yhat, 1)\n",
    "    \n",
    "    interm = []\n",
    "    for i in range(len(mean_var)):\n",
    "        interm.append(var_yhat[i] / mean_var[i])\n",
    "    \n",
    "    # Array of the normalized categy variances \n",
    "    normalized_var = np.array(interm)\n",
    "    \n",
    "    # Get the minimal categorical value\n",
    "    min_var = np.min(normalized_var, 1)\n",
    "    \n",
    "    # Get the index (the category) with the minimal value\n",
    "    min_var_item = np.argmin(normalized_var, 1)\n",
    "    \n",
    "    # Return the minimal normelized categary variance and the corresponding category\n",
    "    return min_var, min_var_item"
   ]
  },
  {
   "cell_type": "markdown",
   "metadata": {},
   "source": [
    "Test procedure"
   ]
  },
  {
   "cell_type": "code",
   "execution_count": 16,
   "metadata": {},
   "outputs": [],
   "source": [
    "def test_var_batch(images, labels, plot=True):\n",
    "    min_var, min_var_item = calculate_variance(images)\n",
    "    predicted_for_images = 0\n",
    "    correct_predictions = 0\n",
    "    normalized_var_threshold = 0.2\n",
    "\n",
    "    for i in range(len(labels)):\n",
    "    \n",
    "        if(plot):\n",
    "            print(\"Real: \",labels[i].item())\n",
    "    \n",
    "        highted_something = False\n",
    "        \n",
    "        if(plot):\n",
    "            plt.show()\n",
    "    \n",
    "        if min_var[i] < normalized_var_threshold:\n",
    "            highted_something = True\n",
    "            predicted = min_var_item[i]\n",
    "            \n",
    "    \n",
    "        if(highted_something):\n",
    "            predicted_for_images+=1\n",
    "            if(labels[i].item()==predicted):\n",
    "                if(plot):\n",
    "                    print(\"Correct\")\n",
    "                correct_predictions +=1.0\n",
    "            else:\n",
    "                if(plot):\n",
    "                    print(\"Incorrect\")\n",
    "        else:\n",
    "            if(plot):\n",
    "                print(\"Undecided.\")\n",
    "        if(plot):\n",
    "                print(\"Normalized Variance = {:.5f} for threshold = {:.2f}\"\n",
    "                      .format(min_var[i], normalized_var_threshold))\n",
    "        if(plot):\n",
    "            helper.small_imshow(images[i].squeeze())\n",
    "        \n",
    "    \n",
    "    if(plot):\n",
    "        print(\"\\n\\nSummary\")\n",
    "        print(\"Number of images: \",len(labels))\n",
    "        print(\"Predicted for: \",predicted_for_images)\n",
    "        print(\"Accuracy when predicted: \",correct_predictions/predicted_for_images)\n",
    "        \n",
    "    return len(labels), correct_predictions, predicted_for_images "
   ]
  },
  {
   "cell_type": "markdown",
   "metadata": {},
   "source": [
    "Run the test procedure with the `MNIST` test set."
   ]
  },
  {
   "cell_type": "code",
   "execution_count": 17,
   "metadata": {},
   "outputs": [
    {
     "name": "stdout",
     "output_type": "stream",
     "text": [
      "Real:  7\n",
      "Correct\n",
      "Normalized Variance = 0.00018 for threshold = 0.20\n"
     ]
    },
    {
     "data": {
      "image/png": "[encoded data removed]",
      "text/plain": [
       "<Figure size 72x72 with 1 Axes>"
      ]
     },
     "metadata": {
      "needs_background": "light"
     },
     "output_type": "display_data"
    },
    {
     "name": "stdout",
     "output_type": "stream",
     "text": [
      "Real:  2\n",
      "Undecided.\n",
      "Normalized Variance = 0.28286 for threshold = 0.20\n"
     ]
    },
    {
     "data": {
      "image/png": "[encoded data removed]",
      "text/plain": [
       "<Figure size 72x72 with 1 Axes>"
      ]
     },
     "metadata": {
      "needs_background": "light"
     },
     "output_type": "display_data"
    },
    {
     "name": "stdout",
     "output_type": "stream",
     "text": [
      "Real:  1\n",
      "Correct\n",
      "Normalized Variance = 0.00066 for threshold = 0.20\n"
     ]
    },
    {
     "data": {
      "image/png": "[encoded data removed]",
      "text/plain": [
       "<Figure size 72x72 with 1 Axes>"
      ]
     },
     "metadata": {
      "needs_background": "light"
     },
     "output_type": "display_data"
    },
    {
     "name": "stdout",
     "output_type": "stream",
     "text": [
      "Real:  0\n",
      "Correct\n",
      "Normalized Variance = 0.00268 for threshold = 0.20\n"
     ]
    },
    {
     "data": {
      "image/png": "[encoded data removed]",
      "text/plain": [
       "<Figure size 72x72 with 1 Axes>"
      ]
     },
     "metadata": {
      "needs_background": "light"
     },
     "output_type": "display_data"
    },
    {
     "name": "stdout",
     "output_type": "stream",
     "text": [
      "Real:  4\n",
      "Correct\n",
      "Normalized Variance = 0.08007 for threshold = 0.20\n"
     ]
    },
    {
     "data": {
      "image/png": "[encoded data removed]",
      "text/plain": [
       "<Figure size 72x72 with 1 Axes>"
      ]
     },
     "metadata": {
      "needs_background": "light"
     },
     "output_type": "display_data"
    },
    {
     "name": "stdout",
     "output_type": "stream",
     "text": [
      "Real:  1\n",
      "Correct\n",
      "Normalized Variance = 0.00855 for threshold = 0.20\n"
     ]
    },
    {
     "data": {
      "image/png": "[encoded data removed]",
      "text/plain": [
       "<Figure size 72x72 with 1 Axes>"
      ]
     },
     "metadata": {
      "needs_background": "light"
     },
     "output_type": "display_data"
    },
    {
     "name": "stdout",
     "output_type": "stream",
     "text": [
      "Real:  4\n",
      "Correct\n",
      "Normalized Variance = 0.06727 for threshold = 0.20\n"
     ]
    },
    {
     "data": {
      "image/png": "[encoded data removed]",
      "text/plain": [
       "<Figure size 72x72 with 1 Axes>"
      ]
     },
     "metadata": {
      "needs_background": "light"
     },
     "output_type": "display_data"
    },
    {
     "name": "stdout",
     "output_type": "stream",
     "text": [
      "Real:  9\n",
      "Undecided.\n",
      "Normalized Variance = 0.39528 for threshold = 0.20\n"
     ]
    },
    {
     "data": {
      "image/png": "[encoded data removed]",
      "text/plain": [
       "<Figure size 72x72 with 1 Axes>"
      ]
     },
     "metadata": {
      "needs_background": "light"
     },
     "output_type": "display_data"
    },
    {
     "name": "stdout",
     "output_type": "stream",
     "text": [
      "Real:  5\n",
      "Undecided.\n",
      "Normalized Variance = 0.26116 for threshold = 0.20\n"
     ]
    },
    {
     "data": {
      "image/png": "[encoded data removed]",
      "text/plain": [
       "<Figure size 72x72 with 1 Axes>"
      ]
     },
     "metadata": {
      "needs_background": "light"
     },
     "output_type": "display_data"
    },
    {
     "name": "stdout",
     "output_type": "stream",
     "text": [
      "Real:  9\n",
      "Correct\n",
      "Normalized Variance = 0.19540 for threshold = 0.20\n"
     ]
    },
    {
     "data": {
      "image/png": "[encoded data removed]",
      "text/plain": [
       "<Figure size 72x72 with 1 Axes>"
      ]
     },
     "metadata": {
      "needs_background": "light"
     },
     "output_type": "display_data"
    },
    {
     "name": "stdout",
     "output_type": "stream",
     "text": [
      "Real:  0\n",
      "Correct\n",
      "Normalized Variance = 0.00285 for threshold = 0.20\n"
     ]
    },
    {
     "data": {
      "image/png": "[encoded data removed]",
      "text/plain": [
       "<Figure size 72x72 with 1 Axes>"
      ]
     },
     "metadata": {
      "needs_background": "light"
     },
     "output_type": "display_data"
    },
    {
     "name": "stdout",
     "output_type": "stream",
     "text": [
      "Real:  6\n",
      "Undecided.\n",
      "Normalized Variance = 0.34354 for threshold = 0.20\n"
     ]
    },
    {
     "data": {
      "image/png": "[encoded data removed]",
      "text/plain": [
       "<Figure size 72x72 with 1 Axes>"
      ]
     },
     "metadata": {
      "needs_background": "light"
     },
     "output_type": "display_data"
    },
    {
     "name": "stdout",
     "output_type": "stream",
     "text": [
      "Real:  9\n",
      "Correct\n",
      "Normalized Variance = 0.10465 for threshold = 0.20\n"
     ]
    },
    {
     "data": {
      "image/png": "[encoded data removed]",
      "text/plain": [
       "<Figure size 72x72 with 1 Axes>"
      ]
     },
     "metadata": {
      "needs_background": "light"
     },
     "output_type": "display_data"
    },
    {
     "name": "stdout",
     "output_type": "stream",
     "text": [
      "Real:  0\n",
      "Correct\n",
      "Normalized Variance = 0.00226 for threshold = 0.20\n"
     ]
    },
    {
     "data": {
      "image/png": "[encoded data removed]",
      "text/plain": [
       "<Figure size 72x72 with 1 Axes>"
      ]
     },
     "metadata": {
      "needs_background": "light"
     },
     "output_type": "display_data"
    },
    {
     "name": "stdout",
     "output_type": "stream",
     "text": [
      "Real:  1\n",
      "Correct\n",
      "Normalized Variance = 0.00182 for threshold = 0.20\n"
     ]
    },
    {
     "data": {
      "image/png": "[encoded data removed]",
      "text/plain": [
       "<Figure size 72x72 with 1 Axes>"
      ]
     },
     "metadata": {
      "needs_background": "light"
     },
     "output_type": "display_data"
    },
    {
     "name": "stdout",
     "output_type": "stream",
     "text": [
      "Real:  5\n",
      "Correct\n",
      "Normalized Variance = 0.13148 for threshold = 0.20\n"
     ]
    },
    {
     "data": {
      "image/png": "[encoded data removed]",
      "text/plain": [
       "<Figure size 72x72 with 1 Axes>"
      ]
     },
     "metadata": {
      "needs_background": "light"
     },
     "output_type": "display_data"
    },
    {
     "name": "stdout",
     "output_type": "stream",
     "text": [
      "Real:  9\n",
      "Correct\n",
      "Normalized Variance = 0.19621 for threshold = 0.20\n"
     ]
    },
    {
     "data": {
      "image/png": "[encoded data removed]",
      "text/plain": [
       "<Figure size 72x72 with 1 Axes>"
      ]
     },
     "metadata": {
      "needs_background": "light"
     },
     "output_type": "display_data"
    },
    {
     "name": "stdout",
     "output_type": "stream",
     "text": [
      "Real:  7\n",
      "Correct\n",
      "Normalized Variance = 0.01827 for threshold = 0.20\n"
     ]
    },
    {
     "data": {
      "image/png": "[encoded data removed]",
      "text/plain": [
       "<Figure size 72x72 with 1 Axes>"
      ]
     },
     "metadata": {
      "needs_background": "light"
     },
     "output_type": "display_data"
    },
    {
     "name": "stdout",
     "output_type": "stream",
     "text": [
      "Real:  3\n",
      "Undecided.\n",
      "Normalized Variance = 0.63642 for threshold = 0.20\n"
     ]
    },
    {
     "data": {
      "image/png": "[encoded data removed]",
      "text/plain": [
       "<Figure size 72x72 with 1 Axes>"
      ]
     },
     "metadata": {
      "needs_background": "light"
     },
     "output_type": "display_data"
    },
    {
     "name": "stdout",
     "output_type": "stream",
     "text": [
      "Real:  4\n",
      "Correct\n",
      "Normalized Variance = 0.00101 for threshold = 0.20\n"
     ]
    },
    {
     "data": {
      "image/png": "[encoded data removed]",
      "text/plain": [
       "<Figure size 72x72 with 1 Axes>"
      ]
     },
     "metadata": {
      "needs_background": "light"
     },
     "output_type": "display_data"
    },
    {
     "name": "stdout",
     "output_type": "stream",
     "text": [
      "Real:  9\n",
      "Correct\n",
      "Normalized Variance = 0.19190 for threshold = 0.20\n"
     ]
    },
    {
     "data": {
      "image/png": "[encoded data removed]",
      "text/plain": [
       "<Figure size 72x72 with 1 Axes>"
      ]
     },
     "metadata": {
      "needs_background": "light"
     },
     "output_type": "display_data"
    },
    {
     "name": "stdout",
     "output_type": "stream",
     "text": [
      "Real:  6\n",
      "Correct\n",
      "Normalized Variance = 0.01074 for threshold = 0.20\n"
     ]
    },
    {
     "data": {
      "image/png": "[encoded data removed]",
      "text/plain": [
       "<Figure size 72x72 with 1 Axes>"
      ]
     },
     "metadata": {
      "needs_background": "light"
     },
     "output_type": "display_data"
    },
    {
     "name": "stdout",
     "output_type": "stream",
     "text": [
      "Real:  6\n",
      "Undecided.\n",
      "Normalized Variance = 0.30285 for threshold = 0.20\n"
     ]
    },
    {
     "data": {
      "image/png": "[encoded data removed]",
      "text/plain": [
       "<Figure size 72x72 with 1 Axes>"
      ]
     },
     "metadata": {
      "needs_background": "light"
     },
     "output_type": "display_data"
    },
    {
     "name": "stdout",
     "output_type": "stream",
     "text": [
      "Real:  5\n",
      "Correct\n",
      "Normalized Variance = 0.04898 for threshold = 0.20\n"
     ]
    },
    {
     "data": {
      "image/png": "[encoded data removed]",
      "text/plain": [
       "<Figure size 72x72 with 1 Axes>"
      ]
     },
     "metadata": {
      "needs_background": "light"
     },
     "output_type": "display_data"
    },
    {
     "name": "stdout",
     "output_type": "stream",
     "text": [
      "Real:  4\n",
      "Correct\n",
      "Normalized Variance = 0.02168 for threshold = 0.20\n"
     ]
    },
    {
     "data": {
      "image/png": "[encoded data removed]",
      "text/plain": [
       "<Figure size 72x72 with 1 Axes>"
      ]
     },
     "metadata": {
      "needs_background": "light"
     },
     "output_type": "display_data"
    },
    {
     "name": "stdout",
     "output_type": "stream",
     "text": [
      "Real:  0\n",
      "Correct\n",
      "Normalized Variance = 0.00035 for threshold = 0.20\n"
     ]
    },
    {
     "data": {
      "image/png": "[encoded data removed]",
      "text/plain": [
       "<Figure size 72x72 with 1 Axes>"
      ]
     },
     "metadata": {
      "needs_background": "light"
     },
     "output_type": "display_data"
    },
    {
     "name": "stdout",
     "output_type": "stream",
     "text": [
      "Real:  7\n",
      "Correct\n",
      "Normalized Variance = 0.02834 for threshold = 0.20\n"
     ]
    },
    {
     "data": {
      "image/png": "[encoded data removed]",
      "text/plain": [
       "<Figure size 72x72 with 1 Axes>"
      ]
     },
     "metadata": {
      "needs_background": "light"
     },
     "output_type": "display_data"
    },
    {
     "name": "stdout",
     "output_type": "stream",
     "text": [
      "Real:  4\n",
      "Correct\n",
      "Normalized Variance = 0.01276 for threshold = 0.20\n"
     ]
    },
    {
     "data": {
      "image/png": "[encoded data removed]",
      "text/plain": [
       "<Figure size 72x72 with 1 Axes>"
      ]
     },
     "metadata": {
      "needs_background": "light"
     },
     "output_type": "display_data"
    },
    {
     "name": "stdout",
     "output_type": "stream",
     "text": [
      "Real:  0\n",
      "Correct\n",
      "Normalized Variance = 0.00000 for threshold = 0.20\n"
     ]
    },
    {
     "data": {
      "image/png": "[encoded data removed]",
      "text/plain": [
       "<Figure size 72x72 with 1 Axes>"
      ]
     },
     "metadata": {
      "needs_background": "light"
     },
     "output_type": "display_data"
    },
    {
     "name": "stdout",
     "output_type": "stream",
     "text": [
      "Real:  1\n",
      "Correct\n",
      "Normalized Variance = 0.08674 for threshold = 0.20\n"
     ]
    },
    {
     "data": {
      "image/png": "[encoded data removed]",
      "text/plain": [
       "<Figure size 72x72 with 1 Axes>"
      ]
     },
     "metadata": {
      "needs_background": "light"
     },
     "output_type": "display_data"
    },
    {
     "name": "stdout",
     "output_type": "stream",
     "text": [
      "Real:  3\n",
      "Correct\n",
      "Normalized Variance = 0.10101 for threshold = 0.20\n"
     ]
    },
    {
     "data": {
      "image/png": "[encoded data removed]",
      "text/plain": [
       "<Figure size 72x72 with 1 Axes>"
      ]
     },
     "metadata": {
      "needs_background": "light"
     },
     "output_type": "display_data"
    },
    {
     "name": "stdout",
     "output_type": "stream",
     "text": [
      "Real:  1\n",
      "Correct\n",
      "Normalized Variance = 0.10122 for threshold = 0.20\n"
     ]
    },
    {
     "data": {
      "image/png": "[encoded data removed]",
      "text/plain": [
       "<Figure size 72x72 with 1 Axes>"
      ]
     },
     "metadata": {
      "needs_background": "light"
     },
     "output_type": "display_data"
    },
    {
     "name": "stdout",
     "output_type": "stream",
     "text": [
      "Real:  3\n",
      "Undecided.\n",
      "Normalized Variance = 0.26181 for threshold = 0.20\n"
     ]
    },
    {
     "data": {
      "image/png": "[encoded data removed]",
      "text/plain": [
       "<Figure size 72x72 with 1 Axes>"
      ]
     },
     "metadata": {
      "needs_background": "light"
     },
     "output_type": "display_data"
    },
    {
     "name": "stdout",
     "output_type": "stream",
     "text": [
      "Real:  4\n",
      "Undecided.\n",
      "Normalized Variance = 0.57928 for threshold = 0.20\n"
     ]
    },
    {
     "data": {
      "image/png": "[encoded data removed]",
      "text/plain": [
       "<Figure size 72x72 with 1 Axes>"
      ]
     },
     "metadata": {
      "needs_background": "light"
     },
     "output_type": "display_data"
    },
    {
     "name": "stdout",
     "output_type": "stream",
     "text": [
      "Real:  7\n",
      "Correct\n",
      "Normalized Variance = 0.04841 for threshold = 0.20\n"
     ]
    },
    {
     "data": {
      "image/png": "[encoded data removed]",
      "text/plain": [
       "<Figure size 72x72 with 1 Axes>"
      ]
     },
     "metadata": {
      "needs_background": "light"
     },
     "output_type": "display_data"
    },
    {
     "name": "stdout",
     "output_type": "stream",
     "text": [
      "Real:  2\n",
      "Correct\n",
      "Normalized Variance = 0.03780 for threshold = 0.20\n"
     ]
    },
    {
     "data": {
      "image/png": "[encoded data removed]",
      "text/plain": [
       "<Figure size 72x72 with 1 Axes>"
      ]
     },
     "metadata": {
      "needs_background": "light"
     },
     "output_type": "display_data"
    },
    {
     "name": "stdout",
     "output_type": "stream",
     "text": [
      "Real:  7\n",
      "Correct\n",
      "Normalized Variance = 0.02109 for threshold = 0.20\n"
     ]
    },
    {
     "data": {
      "image/png": "[encoded data removed]",
      "text/plain": [
       "<Figure size 72x72 with 1 Axes>"
      ]
     },
     "metadata": {
      "needs_background": "light"
     },
     "output_type": "display_data"
    },
    {
     "name": "stdout",
     "output_type": "stream",
     "text": [
      "Real:  1\n",
      "Correct\n",
      "Normalized Variance = 0.02370 for threshold = 0.20\n"
     ]
    },
    {
     "data": {
      "image/png": "[encoded data removed]",
      "text/plain": [
       "<Figure size 72x72 with 1 Axes>"
      ]
     },
     "metadata": {
      "needs_background": "light"
     },
     "output_type": "display_data"
    },
    {
     "name": "stdout",
     "output_type": "stream",
     "text": [
      "Real:  2\n",
      "Undecided.\n",
      "Normalized Variance = 0.35019 for threshold = 0.20\n"
     ]
    },
    {
     "data": {
      "image/png": "[encoded data removed]",
      "text/plain": [
       "<Figure size 72x72 with 1 Axes>"
      ]
     },
     "metadata": {
      "needs_background": "light"
     },
     "output_type": "display_data"
    },
    {
     "name": "stdout",
     "output_type": "stream",
     "text": [
      "Real:  1\n",
      "Correct\n",
      "Normalized Variance = 0.00921 for threshold = 0.20\n"
     ]
    },
    {
     "data": {
      "image/png": "[encoded data removed]",
      "text/plain": [
       "<Figure size 72x72 with 1 Axes>"
      ]
     },
     "metadata": {
      "needs_background": "light"
     },
     "output_type": "display_data"
    },
    {
     "name": "stdout",
     "output_type": "stream",
     "text": [
      "Real:  1\n",
      "Correct\n",
      "Normalized Variance = 0.00684 for threshold = 0.20\n"
     ]
    },
    {
     "data": {
      "image/png": "[encoded data removed]",
      "text/plain": [
       "<Figure size 72x72 with 1 Axes>"
      ]
     },
     "metadata": {
      "needs_background": "light"
     },
     "output_type": "display_data"
    },
    {
     "name": "stdout",
     "output_type": "stream",
     "text": [
      "Real:  7\n",
      "Correct\n",
      "Normalized Variance = 0.06024 for threshold = 0.20\n"
     ]
    },
    {
     "data": {
      "image/png": "[encoded data removed]",
      "text/plain": [
       "<Figure size 72x72 with 1 Axes>"
      ]
     },
     "metadata": {
      "needs_background": "light"
     },
     "output_type": "display_data"
    },
    {
     "name": "stdout",
     "output_type": "stream",
     "text": [
      "Real:  4\n",
      "Correct\n",
      "Normalized Variance = 0.04208 for threshold = 0.20\n"
     ]
    },
    {
     "data": {
      "image/png": "[encoded data removed]",
      "text/plain": [
       "<Figure size 72x72 with 1 Axes>"
      ]
     },
     "metadata": {
      "needs_background": "light"
     },
     "output_type": "display_data"
    },
    {
     "name": "stdout",
     "output_type": "stream",
     "text": [
      "Real:  2\n",
      "Undecided.\n",
      "Normalized Variance = 0.54925 for threshold = 0.20\n"
     ]
    },
    {
     "data": {
      "image/png": "[encoded data removed]",
      "text/plain": [
       "<Figure size 72x72 with 1 Axes>"
      ]
     },
     "metadata": {
      "needs_background": "light"
     },
     "output_type": "display_data"
    },
    {
     "name": "stdout",
     "output_type": "stream",
     "text": [
      "Real:  3\n",
      "Undecided.\n",
      "Normalized Variance = 0.34531 for threshold = 0.20\n"
     ]
    },
    {
     "data": {
      "image/png": "[encoded data removed]",
      "text/plain": [
       "<Figure size 72x72 with 1 Axes>"
      ]
     },
     "metadata": {
      "needs_background": "light"
     },
     "output_type": "display_data"
    },
    {
     "name": "stdout",
     "output_type": "stream",
     "text": [
      "Real:  5\n",
      "Correct\n",
      "Normalized Variance = 0.10681 for threshold = 0.20\n"
     ]
    },
    {
     "data": {
      "image/png": "[encoded data removed]",
      "text/plain": [
       "<Figure size 72x72 with 1 Axes>"
      ]
     },
     "metadata": {
      "needs_background": "light"
     },
     "output_type": "display_data"
    },
    {
     "name": "stdout",
     "output_type": "stream",
     "text": [
      "Real:  1\n",
      "Undecided.\n",
      "Normalized Variance = 0.42705 for threshold = 0.20\n"
     ]
    },
    {
     "data": {
      "image/png": "[encoded data removed]",
      "text/plain": [
       "<Figure size 72x72 with 1 Axes>"
      ]
     },
     "metadata": {
      "needs_background": "light"
     },
     "output_type": "display_data"
    },
    {
     "name": "stdout",
     "output_type": "stream",
     "text": [
      "Real:  2\n",
      "Correct\n",
      "Normalized Variance = 0.12827 for threshold = 0.20\n"
     ]
    },
    {
     "data": {
      "image/png": "[encoded data removed]",
      "text/plain": [
       "<Figure size 72x72 with 1 Axes>"
      ]
     },
     "metadata": {
      "needs_background": "light"
     },
     "output_type": "display_data"
    },
    {
     "name": "stdout",
     "output_type": "stream",
     "text": [
      "Real:  4\n",
      "Correct\n",
      "Normalized Variance = 0.01514 for threshold = 0.20\n"
     ]
    },
    {
     "data": {
      "image/png": "[encoded data removed]",
      "text/plain": [
       "<Figure size 72x72 with 1 Axes>"
      ]
     },
     "metadata": {
      "needs_background": "light"
     },
     "output_type": "display_data"
    },
    {
     "name": "stdout",
     "output_type": "stream",
     "text": [
      "Real:  4\n",
      "Correct\n",
      "Normalized Variance = 0.01428 for threshold = 0.20\n"
     ]
    },
    {
     "data": {
      "image/png": "[encoded data removed]",
      "text/plain": [
       "<Figure size 72x72 with 1 Axes>"
      ]
     },
     "metadata": {
      "needs_background": "light"
     },
     "output_type": "display_data"
    },
    {
     "name": "stdout",
     "output_type": "stream",
     "text": [
      "Real:  6\n",
      "Correct\n",
      "Normalized Variance = 0.00137 for threshold = 0.20\n"
     ]
    },
    {
     "data": {
      "image/png": "[encoded data removed]",
      "text/plain": [
       "<Figure size 72x72 with 1 Axes>"
      ]
     },
     "metadata": {
      "needs_background": "light"
     },
     "output_type": "display_data"
    },
    {
     "name": "stdout",
     "output_type": "stream",
     "text": [
      "Real:  3\n",
      "Correct\n",
      "Normalized Variance = 0.16084 for threshold = 0.20\n"
     ]
    },
    {
     "data": {
      "image/png": "[encoded data removed]",
      "text/plain": [
       "<Figure size 72x72 with 1 Axes>"
      ]
     },
     "metadata": {
      "needs_background": "light"
     },
     "output_type": "display_data"
    },
    {
     "name": "stdout",
     "output_type": "stream",
     "text": [
      "Real:  5\n",
      "Correct\n",
      "Normalized Variance = 0.13621 for threshold = 0.20\n"
     ]
    },
    {
     "data": {
      "image/png": "[encoded data removed]",
      "text/plain": [
       "<Figure size 72x72 with 1 Axes>"
      ]
     },
     "metadata": {
      "needs_background": "light"
     },
     "output_type": "display_data"
    },
    {
     "name": "stdout",
     "output_type": "stream",
     "text": [
      "Real:  5\n",
      "Correct\n",
      "Normalized Variance = 0.06117 for threshold = 0.20\n"
     ]
    },
    {
     "data": {
      "image/png": "[encoded data removed]",
      "text/plain": [
       "<Figure size 72x72 with 1 Axes>"
      ]
     },
     "metadata": {
      "needs_background": "light"
     },
     "output_type": "display_data"
    },
    {
     "name": "stdout",
     "output_type": "stream",
     "text": [
      "Real:  6\n",
      "Correct\n",
      "Normalized Variance = 0.13872 for threshold = 0.20\n"
     ]
    },
    {
     "data": {
      "image/png": "[encoded data removed]",
      "text/plain": [
       "<Figure size 72x72 with 1 Axes>"
      ]
     },
     "metadata": {
      "needs_background": "light"
     },
     "output_type": "display_data"
    },
    {
     "name": "stdout",
     "output_type": "stream",
     "text": [
      "Real:  0\n",
      "Correct\n",
      "Normalized Variance = 0.07779 for threshold = 0.20\n"
     ]
    },
    {
     "data": {
      "image/png": "[encoded data removed]",
      "text/plain": [
       "<Figure size 72x72 with 1 Axes>"
      ]
     },
     "metadata": {
      "needs_background": "light"
     },
     "output_type": "display_data"
    },
    {
     "name": "stdout",
     "output_type": "stream",
     "text": [
      "Real:  4\n",
      "Correct\n",
      "Normalized Variance = 0.00481 for threshold = 0.20\n"
     ]
    },
    {
     "data": {
      "image/png": "[encoded data removed]",
      "text/plain": [
       "<Figure size 72x72 with 1 Axes>"
      ]
     },
     "metadata": {
      "needs_background": "light"
     },
     "output_type": "display_data"
    },
    {
     "name": "stdout",
     "output_type": "stream",
     "text": [
      "Real:  1\n",
      "Correct\n",
      "Normalized Variance = 0.02062 for threshold = 0.20\n"
     ]
    },
    {
     "data": {
      "image/png": "[encoded data removed]",
      "text/plain": [
       "<Figure size 72x72 with 1 Axes>"
      ]
     },
     "metadata": {
      "needs_background": "light"
     },
     "output_type": "display_data"
    },
    {
     "name": "stdout",
     "output_type": "stream",
     "text": [
      "Real:  9\n",
      "Undecided.\n",
      "Normalized Variance = 0.21587 for threshold = 0.20\n"
     ]
    },
    {
     "data": {
      "image/png": "[encoded data removed]",
      "text/plain": [
       "<Figure size 72x72 with 1 Axes>"
      ]
     },
     "metadata": {
      "needs_background": "light"
     },
     "output_type": "display_data"
    },
    {
     "name": "stdout",
     "output_type": "stream",
     "text": [
      "Real:  5\n",
      "Correct\n",
      "Normalized Variance = 0.10746 for threshold = 0.20\n"
     ]
    },
    {
     "data": {
      "image/png": "[encoded data removed]",
      "text/plain": [
       "<Figure size 72x72 with 1 Axes>"
      ]
     },
     "metadata": {
      "needs_background": "light"
     },
     "output_type": "display_data"
    },
    {
     "name": "stdout",
     "output_type": "stream",
     "text": [
      "\n",
      "\n",
      "Summary\n",
      "Number of images:  60\n",
      "Predicted for:  47\n",
      "Accuracy when predicted:  1.0\n"
     ]
    },
    {
     "data": {
      "text/plain": [
       "(60, 47.0, 47)"
      ]
     },
     "execution_count": 17,
     "metadata": {},
     "output_type": "execute_result"
    }
   ],
   "source": [
    "images, labels = next(iter(testloader))\n",
    "test_var_batch(images[:60], labels[:60])"
   ]
  },
  {
   "cell_type": "markdown",
   "metadata": {},
   "source": [
    "### Out-of-distribution test\n",
    "Load the `FashionMNIST` test set to perform an out-of-distribution test. "
   ]
  },
  {
   "cell_type": "code",
   "execution_count": 18,
   "metadata": {},
   "outputs": [],
   "source": [
    "# FashionMNIST test dataset\n",
    "fashiontestset = torchvision.datasets.FashionMNIST('../data',\n",
    "    download=True,\n",
    "    train=False,\n",
    "    transform=transform)"
   ]
  },
  {
   "cell_type": "code",
   "execution_count": 19,
   "metadata": {},
   "outputs": [],
   "source": [
    "fashiontestloader = torch.utils.data.DataLoader(fashiontestset, batch_size=64, shuffle=False)"
   ]
  },
  {
   "cell_type": "markdown",
   "metadata": {},
   "source": [
    "Run the test procedure with the `FashionMNIST` test set."
   ]
  },
  {
   "cell_type": "code",
   "execution_count": 20,
   "metadata": {
    "scrolled": true
   },
   "outputs": [
    {
     "name": "stdout",
     "output_type": "stream",
     "text": [
      "Real:  9\n",
      "Undecided.\n",
      "Normalized Variance = 0.23574 for threshold = 0.20\n"
     ]
    },
    {
     "data": {
      "image/png": "[encoded data removed]",
      "text/plain": [
       "<Figure size 72x72 with 1 Axes>"
      ]
     },
     "metadata": {
      "needs_background": "light"
     },
     "output_type": "display_data"
    },
    {
     "name": "stdout",
     "output_type": "stream",
     "text": [
      "Real:  2\n",
      "Undecided.\n",
      "Normalized Variance = 0.55965 for threshold = 0.20\n"
     ]
    },
    {
     "data": {
      "image/png": "[encoded data removed]",
      "text/plain": [
       "<Figure size 72x72 with 1 Axes>"
      ]
     },
     "metadata": {
      "needs_background": "light"
     },
     "output_type": "display_data"
    },
    {
     "name": "stdout",
     "output_type": "stream",
     "text": [
      "Real:  1\n",
      "Undecided.\n",
      "Normalized Variance = 0.60028 for threshold = 0.20\n"
     ]
    },
    {
     "data": {
      "image/png": "[encoded data removed]",
      "text/plain": [
       "<Figure size 72x72 with 1 Axes>"
      ]
     },
     "metadata": {
      "needs_background": "light"
     },
     "output_type": "display_data"
    },
    {
     "name": "stdout",
     "output_type": "stream",
     "text": [
      "Real:  1\n",
      "Undecided.\n",
      "Normalized Variance = 0.58490 for threshold = 0.20\n"
     ]
    },
    {
     "data": {
      "image/png": "[encoded data removed]",
      "text/plain": [
       "<Figure size 72x72 with 1 Axes>"
      ]
     },
     "metadata": {
      "needs_background": "light"
     },
     "output_type": "display_data"
    },
    {
     "name": "stdout",
     "output_type": "stream",
     "text": [
      "Real:  6\n",
      "Undecided.\n",
      "Normalized Variance = 0.64343 for threshold = 0.20\n"
     ]
    },
    {
     "data": {
      "image/png": "[encoded data removed]",
      "text/plain": [
       "<Figure size 72x72 with 1 Axes>"
      ]
     },
     "metadata": {
      "needs_background": "light"
     },
     "output_type": "display_data"
    },
    {
     "name": "stdout",
     "output_type": "stream",
     "text": [
      "Real:  1\n",
      "Undecided.\n",
      "Normalized Variance = 0.66663 for threshold = 0.20\n"
     ]
    },
    {
     "data": {
      "image/png": "[encoded data removed]",
      "text/plain": [
       "<Figure size 72x72 with 1 Axes>"
      ]
     },
     "metadata": {
      "needs_background": "light"
     },
     "output_type": "display_data"
    },
    {
     "name": "stdout",
     "output_type": "stream",
     "text": [
      "Real:  4\n",
      "Undecided.\n",
      "Normalized Variance = 0.69063 for threshold = 0.20\n"
     ]
    },
    {
     "data": {
      "image/png": "[encoded data removed]",
      "text/plain": [
       "<Figure size 72x72 with 1 Axes>"
      ]
     },
     "metadata": {
      "needs_background": "light"
     },
     "output_type": "display_data"
    },
    {
     "name": "stdout",
     "output_type": "stream",
     "text": [
      "Real:  6\n",
      "Undecided.\n",
      "Normalized Variance = 0.72726 for threshold = 0.20\n"
     ]
    },
    {
     "data": {
      "image/png": "[encoded data removed]",
      "text/plain": [
       "<Figure size 72x72 with 1 Axes>"
      ]
     },
     "metadata": {
      "needs_background": "light"
     },
     "output_type": "display_data"
    },
    {
     "name": "stdout",
     "output_type": "stream",
     "text": [
      "Real:  5\n",
      "Incorrect\n",
      "Normalized Variance = 0.07923 for threshold = 0.20\n"
     ]
    },
    {
     "data": {
      "image/png": "[encoded data removed]",
      "text/plain": [
       "<Figure size 72x72 with 1 Axes>"
      ]
     },
     "metadata": {
      "needs_background": "light"
     },
     "output_type": "display_data"
    },
    {
     "name": "stdout",
     "output_type": "stream",
     "text": [
      "Real:  7\n",
      "Incorrect\n",
      "Normalized Variance = 0.13874 for threshold = 0.20\n"
     ]
    },
    {
     "data": {
      "image/png": "[encoded data removed]",
      "text/plain": [
       "<Figure size 72x72 with 1 Axes>"
      ]
     },
     "metadata": {
      "needs_background": "light"
     },
     "output_type": "display_data"
    },
    {
     "name": "stdout",
     "output_type": "stream",
     "text": [
      "Real:  4\n",
      "Undecided.\n",
      "Normalized Variance = 0.66239 for threshold = 0.20\n"
     ]
    },
    {
     "data": {
      "image/png": "[encoded data removed]",
      "text/plain": [
       "<Figure size 72x72 with 1 Axes>"
      ]
     },
     "metadata": {
      "needs_background": "light"
     },
     "output_type": "display_data"
    },
    {
     "name": "stdout",
     "output_type": "stream",
     "text": [
      "Real:  5\n",
      "Undecided.\n",
      "Normalized Variance = 0.46556 for threshold = 0.20\n"
     ]
    },
    {
     "data": {
      "image/png": "[encoded data removed]",
      "text/plain": [
       "<Figure size 72x72 with 1 Axes>"
      ]
     },
     "metadata": {
      "needs_background": "light"
     },
     "output_type": "display_data"
    },
    {
     "name": "stdout",
     "output_type": "stream",
     "text": [
      "Real:  7\n",
      "Undecided.\n",
      "Normalized Variance = 0.38502 for threshold = 0.20\n"
     ]
    },
    {
     "data": {
      "image/png": "[encoded data removed]",
      "text/plain": [
       "<Figure size 72x72 with 1 Axes>"
      ]
     },
     "metadata": {
      "needs_background": "light"
     },
     "output_type": "display_data"
    },
    {
     "name": "stdout",
     "output_type": "stream",
     "text": [
      "Real:  3\n",
      "Undecided.\n",
      "Normalized Variance = 0.36867 for threshold = 0.20\n"
     ]
    },
    {
     "data": {
      "image/png": "[encoded data removed]",
      "text/plain": [
       "<Figure size 72x72 with 1 Axes>"
      ]
     },
     "metadata": {
      "needs_background": "light"
     },
     "output_type": "display_data"
    },
    {
     "name": "stdout",
     "output_type": "stream",
     "text": [
      "Real:  4\n",
      "Undecided.\n",
      "Normalized Variance = 0.65871 for threshold = 0.20\n"
     ]
    },
    {
     "data": {
      "image/png": "[encoded data removed]",
      "text/plain": [
       "<Figure size 72x72 with 1 Axes>"
      ]
     },
     "metadata": {
      "needs_background": "light"
     },
     "output_type": "display_data"
    },
    {
     "name": "stdout",
     "output_type": "stream",
     "text": [
      "Real:  1\n",
      "Undecided.\n",
      "Normalized Variance = 0.50240 for threshold = 0.20\n"
     ]
    },
    {
     "data": {
      "image/png": "[encoded data removed]",
      "text/plain": [
       "<Figure size 72x72 with 1 Axes>"
      ]
     },
     "metadata": {
      "needs_background": "light"
     },
     "output_type": "display_data"
    },
    {
     "name": "stdout",
     "output_type": "stream",
     "text": [
      "Real:  2\n",
      "Undecided.\n",
      "Normalized Variance = 0.68067 for threshold = 0.20\n"
     ]
    },
    {
     "data": {
      "image/png": "[encoded data removed]",
      "text/plain": [
       "<Figure size 72x72 with 1 Axes>"
      ]
     },
     "metadata": {
      "needs_background": "light"
     },
     "output_type": "display_data"
    },
    {
     "name": "stdout",
     "output_type": "stream",
     "text": [
      "Real:  4\n",
      "Undecided.\n",
      "Normalized Variance = 0.72447 for threshold = 0.20\n"
     ]
    },
    {
     "data": {
      "image/png": "[encoded data removed]",
      "text/plain": [
       "<Figure size 72x72 with 1 Axes>"
      ]
     },
     "metadata": {
      "needs_background": "light"
     },
     "output_type": "display_data"
    },
    {
     "name": "stdout",
     "output_type": "stream",
     "text": [
      "Real:  8\n",
      "Undecided.\n",
      "Normalized Variance = 0.69709 for threshold = 0.20\n"
     ]
    },
    {
     "data": {
      "image/png": "[encoded data removed]",
      "text/plain": [
       "<Figure size 72x72 with 1 Axes>"
      ]
     },
     "metadata": {
      "needs_background": "light"
     },
     "output_type": "display_data"
    },
    {
     "name": "stdout",
     "output_type": "stream",
     "text": [
      "Real:  0\n",
      "Undecided.\n",
      "Normalized Variance = 0.50351 for threshold = 0.20\n"
     ]
    },
    {
     "data": {
      "image/png": "[encoded data removed]",
      "text/plain": [
       "<Figure size 72x72 with 1 Axes>"
      ]
     },
     "metadata": {
      "needs_background": "light"
     },
     "output_type": "display_data"
    },
    {
     "name": "stdout",
     "output_type": "stream",
     "text": [
      "Real:  2\n",
      "Undecided.\n",
      "Normalized Variance = 0.72196 for threshold = 0.20\n"
     ]
    },
    {
     "data": {
      "image/png": "[encoded data removed]",
      "text/plain": [
       "<Figure size 72x72 with 1 Axes>"
      ]
     },
     "metadata": {
      "needs_background": "light"
     },
     "output_type": "display_data"
    },
    {
     "name": "stdout",
     "output_type": "stream",
     "text": [
      "Real:  5\n",
      "Undecided.\n",
      "Normalized Variance = 0.45676 for threshold = 0.20\n"
     ]
    },
    {
     "data": {
      "image/png": "[encoded data removed]",
      "text/plain": [
       "<Figure size 72x72 with 1 Axes>"
      ]
     },
     "metadata": {
      "needs_background": "light"
     },
     "output_type": "display_data"
    },
    {
     "name": "stdout",
     "output_type": "stream",
     "text": [
      "Real:  7\n",
      "Undecided.\n",
      "Normalized Variance = 0.34364 for threshold = 0.20\n"
     ]
    },
    {
     "data": {
      "image/png": "[encoded data removed]",
      "text/plain": [
       "<Figure size 72x72 with 1 Axes>"
      ]
     },
     "metadata": {
      "needs_background": "light"
     },
     "output_type": "display_data"
    },
    {
     "name": "stdout",
     "output_type": "stream",
     "text": [
      "Real:  9\n",
      "Undecided.\n",
      "Normalized Variance = 0.76815 for threshold = 0.20\n"
     ]
    },
    {
     "data": {
      "image/png": "[encoded data removed]",
      "text/plain": [
       "<Figure size 72x72 with 1 Axes>"
      ]
     },
     "metadata": {
      "needs_background": "light"
     },
     "output_type": "display_data"
    },
    {
     "name": "stdout",
     "output_type": "stream",
     "text": [
      "Real:  1\n",
      "Undecided.\n",
      "Normalized Variance = 0.59865 for threshold = 0.20\n"
     ]
    },
    {
     "data": {
      "image/png": "[encoded data removed]",
      "text/plain": [
       "<Figure size 72x72 with 1 Axes>"
      ]
     },
     "metadata": {
      "needs_background": "light"
     },
     "output_type": "display_data"
    },
    {
     "name": "stdout",
     "output_type": "stream",
     "text": [
      "Real:  4\n",
      "Undecided.\n",
      "Normalized Variance = 0.61124 for threshold = 0.20\n"
     ]
    },
    {
     "data": {
      "image/png": "[encoded data removed]",
      "text/plain": [
       "<Figure size 72x72 with 1 Axes>"
      ]
     },
     "metadata": {
      "needs_background": "light"
     },
     "output_type": "display_data"
    },
    {
     "name": "stdout",
     "output_type": "stream",
     "text": [
      "Real:  6\n",
      "Undecided.\n",
      "Normalized Variance = 0.61861 for threshold = 0.20\n"
     ]
    },
    {
     "data": {
      "image/png": "[encoded data removed]",
      "text/plain": [
       "<Figure size 72x72 with 1 Axes>"
      ]
     },
     "metadata": {
      "needs_background": "light"
     },
     "output_type": "display_data"
    },
    {
     "name": "stdout",
     "output_type": "stream",
     "text": [
      "Real:  0\n",
      "Undecided.\n",
      "Normalized Variance = 0.36714 for threshold = 0.20\n"
     ]
    },
    {
     "data": {
      "image/png": "[encoded data removed]",
      "text/plain": [
       "<Figure size 72x72 with 1 Axes>"
      ]
     },
     "metadata": {
      "needs_background": "light"
     },
     "output_type": "display_data"
    },
    {
     "name": "stdout",
     "output_type": "stream",
     "text": [
      "Real:  9\n",
      "Incorrect\n",
      "Normalized Variance = 0.14332 for threshold = 0.20\n"
     ]
    },
    {
     "data": {
      "image/png": "[encoded data removed]",
      "text/plain": [
       "<Figure size 72x72 with 1 Axes>"
      ]
     },
     "metadata": {
      "needs_background": "light"
     },
     "output_type": "display_data"
    },
    {
     "name": "stdout",
     "output_type": "stream",
     "text": [
      "Real:  3\n",
      "Undecided.\n",
      "Normalized Variance = 0.37280 for threshold = 0.20\n"
     ]
    },
    {
     "data": {
      "image/png": "[encoded data removed]",
      "text/plain": [
       "<Figure size 72x72 with 1 Axes>"
      ]
     },
     "metadata": {
      "needs_background": "light"
     },
     "output_type": "display_data"
    },
    {
     "name": "stdout",
     "output_type": "stream",
     "text": [
      "Real:  8\n",
      "Undecided.\n",
      "Normalized Variance = 0.79248 for threshold = 0.20\n"
     ]
    },
    {
     "data": {
      "image/png": "[encoded data removed]",
      "text/plain": [
       "<Figure size 72x72 with 1 Axes>"
      ]
     },
     "metadata": {
      "needs_background": "light"
     },
     "output_type": "display_data"
    },
    {
     "name": "stdout",
     "output_type": "stream",
     "text": [
      "Real:  8\n",
      "Undecided.\n",
      "Normalized Variance = 0.57454 for threshold = 0.20\n"
     ]
    },
    {
     "data": {
      "image/png": "[encoded data removed]",
      "text/plain": [
       "<Figure size 72x72 with 1 Axes>"
      ]
     },
     "metadata": {
      "needs_background": "light"
     },
     "output_type": "display_data"
    },
    {
     "name": "stdout",
     "output_type": "stream",
     "text": [
      "Real:  3\n",
      "Undecided.\n",
      "Normalized Variance = 0.61221 for threshold = 0.20\n"
     ]
    },
    {
     "data": {
      "image/png": "[encoded data removed]",
      "text/plain": [
       "<Figure size 72x72 with 1 Axes>"
      ]
     },
     "metadata": {
      "needs_background": "light"
     },
     "output_type": "display_data"
    },
    {
     "name": "stdout",
     "output_type": "stream",
     "text": [
      "Real:  3\n",
      "Undecided.\n",
      "Normalized Variance = 0.22776 for threshold = 0.20\n"
     ]
    },
    {
     "data": {
      "image/png": "[encoded data removed]",
      "text/plain": [
       "<Figure size 72x72 with 1 Axes>"
      ]
     },
     "metadata": {
      "needs_background": "light"
     },
     "output_type": "display_data"
    },
    {
     "name": "stdout",
     "output_type": "stream",
     "text": [
      "Real:  8\n",
      "Undecided.\n",
      "Normalized Variance = 0.45422 for threshold = 0.20\n"
     ]
    },
    {
     "data": {
      "image/png": "[encoded data removed]",
      "text/plain": [
       "<Figure size 72x72 with 1 Axes>"
      ]
     },
     "metadata": {
      "needs_background": "light"
     },
     "output_type": "display_data"
    },
    {
     "name": "stdout",
     "output_type": "stream",
     "text": [
      "Real:  0\n",
      "Undecided.\n",
      "Normalized Variance = 0.55947 for threshold = 0.20\n"
     ]
    },
    {
     "data": {
      "image/png": "[encoded data removed]",
      "text/plain": [
       "<Figure size 72x72 with 1 Axes>"
      ]
     },
     "metadata": {
      "needs_background": "light"
     },
     "output_type": "display_data"
    },
    {
     "name": "stdout",
     "output_type": "stream",
     "text": [
      "Real:  7\n",
      "Undecided.\n",
      "Normalized Variance = 0.22698 for threshold = 0.20\n"
     ]
    },
    {
     "data": {
      "image/png": "[encoded data removed]",
      "text/plain": [
       "<Figure size 72x72 with 1 Axes>"
      ]
     },
     "metadata": {
      "needs_background": "light"
     },
     "output_type": "display_data"
    },
    {
     "name": "stdout",
     "output_type": "stream",
     "text": [
      "Real:  5\n",
      "Incorrect\n",
      "Normalized Variance = 0.02328 for threshold = 0.20\n"
     ]
    },
    {
     "data": {
      "image/png": "[encoded data removed]",
      "text/plain": [
       "<Figure size 72x72 with 1 Axes>"
      ]
     },
     "metadata": {
      "needs_background": "light"
     },
     "output_type": "display_data"
    },
    {
     "name": "stdout",
     "output_type": "stream",
     "text": [
      "Real:  7\n",
      "Incorrect\n",
      "Normalized Variance = 0.08408 for threshold = 0.20\n"
     ]
    },
    {
     "data": {
      "image/png": "[encoded data removed]",
      "text/plain": [
       "<Figure size 72x72 with 1 Axes>"
      ]
     },
     "metadata": {
      "needs_background": "light"
     },
     "output_type": "display_data"
    },
    {
     "name": "stdout",
     "output_type": "stream",
     "text": [
      "Real:  9\n",
      "Incorrect\n",
      "Normalized Variance = 0.14315 for threshold = 0.20\n"
     ]
    },
    {
     "data": {
      "image/png": "[encoded data removed]",
      "text/plain": [
       "<Figure size 72x72 with 1 Axes>"
      ]
     },
     "metadata": {
      "needs_background": "light"
     },
     "output_type": "display_data"
    },
    {
     "name": "stdout",
     "output_type": "stream",
     "text": [
      "Real:  6\n",
      "Undecided.\n",
      "Normalized Variance = 0.27566 for threshold = 0.20\n"
     ]
    },
    {
     "data": {
      "image/png": "[encoded data removed]",
      "text/plain": [
       "<Figure size 72x72 with 1 Axes>"
      ]
     },
     "metadata": {
      "needs_background": "light"
     },
     "output_type": "display_data"
    },
    {
     "name": "stdout",
     "output_type": "stream",
     "text": [
      "Real:  1\n",
      "Undecided.\n",
      "Normalized Variance = 0.45511 for threshold = 0.20\n"
     ]
    },
    {
     "data": {
      "image/png": "[encoded data removed]",
      "text/plain": [
       "<Figure size 72x72 with 1 Axes>"
      ]
     },
     "metadata": {
      "needs_background": "light"
     },
     "output_type": "display_data"
    },
    {
     "name": "stdout",
     "output_type": "stream",
     "text": [
      "Real:  3\n",
      "Undecided.\n",
      "Normalized Variance = 0.43729 for threshold = 0.20\n"
     ]
    },
    {
     "data": {
      "image/png": "[encoded data removed]",
      "text/plain": [
       "<Figure size 72x72 with 1 Axes>"
      ]
     },
     "metadata": {
      "needs_background": "light"
     },
     "output_type": "display_data"
    },
    {
     "name": "stdout",
     "output_type": "stream",
     "text": [
      "Real:  7\n",
      "Incorrect\n",
      "Normalized Variance = 0.12071 for threshold = 0.20\n"
     ]
    },
    {
     "data": {
      "image/png": "[encoded data removed]",
      "text/plain": [
       "<Figure size 72x72 with 1 Axes>"
      ]
     },
     "metadata": {
      "needs_background": "light"
     },
     "output_type": "display_data"
    },
    {
     "name": "stdout",
     "output_type": "stream",
     "text": [
      "Real:  6\n",
      "Undecided.\n",
      "Normalized Variance = 0.61797 for threshold = 0.20\n"
     ]
    },
    {
     "data": {
      "image/png": "[encoded data removed]",
      "text/plain": [
       "<Figure size 72x72 with 1 Axes>"
      ]
     },
     "metadata": {
      "needs_background": "light"
     },
     "output_type": "display_data"
    },
    {
     "name": "stdout",
     "output_type": "stream",
     "text": [
      "Real:  7\n",
      "Undecided.\n",
      "Normalized Variance = 0.44507 for threshold = 0.20\n"
     ]
    },
    {
     "data": {
      "image/png": "[encoded data removed]",
      "text/plain": [
       "<Figure size 72x72 with 1 Axes>"
      ]
     },
     "metadata": {
      "needs_background": "light"
     },
     "output_type": "display_data"
    },
    {
     "name": "stdout",
     "output_type": "stream",
     "text": [
      "Real:  2\n",
      "Undecided.\n",
      "Normalized Variance = 0.64366 for threshold = 0.20\n"
     ]
    },
    {
     "data": {
      "image/png": "[encoded data removed]",
      "text/plain": [
       "<Figure size 72x72 with 1 Axes>"
      ]
     },
     "metadata": {
      "needs_background": "light"
     },
     "output_type": "display_data"
    },
    {
     "name": "stdout",
     "output_type": "stream",
     "text": [
      "Real:  1\n",
      "Undecided.\n",
      "Normalized Variance = 0.56121 for threshold = 0.20\n"
     ]
    },
    {
     "data": {
      "image/png": "[encoded data removed]",
      "text/plain": [
       "<Figure size 72x72 with 1 Axes>"
      ]
     },
     "metadata": {
      "needs_background": "light"
     },
     "output_type": "display_data"
    },
    {
     "name": "stdout",
     "output_type": "stream",
     "text": [
      "Real:  2\n",
      "Undecided.\n",
      "Normalized Variance = 0.67563 for threshold = 0.20\n"
     ]
    },
    {
     "data": {
      "image/png": "[encoded data removed]",
      "text/plain": [
       "<Figure size 72x72 with 1 Axes>"
      ]
     },
     "metadata": {
      "needs_background": "light"
     },
     "output_type": "display_data"
    },
    {
     "name": "stdout",
     "output_type": "stream",
     "text": [
      "Real:  2\n",
      "Undecided.\n",
      "Normalized Variance = 0.66464 for threshold = 0.20\n"
     ]
    },
    {
     "data": {
      "image/png": "[encoded data removed]",
      "text/plain": [
       "<Figure size 72x72 with 1 Axes>"
      ]
     },
     "metadata": {
      "needs_background": "light"
     },
     "output_type": "display_data"
    },
    {
     "name": "stdout",
     "output_type": "stream",
     "text": [
      "Real:  4\n",
      "Undecided.\n",
      "Normalized Variance = 0.65854 for threshold = 0.20\n"
     ]
    },
    {
     "data": {
      "image/png": "[encoded data removed]",
      "text/plain": [
       "<Figure size 72x72 with 1 Axes>"
      ]
     },
     "metadata": {
      "needs_background": "light"
     },
     "output_type": "display_data"
    },
    {
     "name": "stdout",
     "output_type": "stream",
     "text": [
      "Real:  4\n",
      "Undecided.\n",
      "Normalized Variance = 0.61993 for threshold = 0.20\n"
     ]
    },
    {
     "data": {
      "image/png": "[encoded data removed]",
      "text/plain": [
       "<Figure size 72x72 with 1 Axes>"
      ]
     },
     "metadata": {
      "needs_background": "light"
     },
     "output_type": "display_data"
    },
    {
     "name": "stdout",
     "output_type": "stream",
     "text": [
      "Real:  5\n",
      "Undecided.\n",
      "Normalized Variance = 0.20711 for threshold = 0.20\n"
     ]
    },
    {
     "data": {
      "image/png": "[encoded data removed]",
      "text/plain": [
       "<Figure size 72x72 with 1 Axes>"
      ]
     },
     "metadata": {
      "needs_background": "light"
     },
     "output_type": "display_data"
    },
    {
     "name": "stdout",
     "output_type": "stream",
     "text": [
      "Real:  8\n",
      "Undecided.\n",
      "Normalized Variance = 0.59433 for threshold = 0.20\n"
     ]
    },
    {
     "data": {
      "image/png": "[encoded data removed]",
      "text/plain": [
       "<Figure size 72x72 with 1 Axes>"
      ]
     },
     "metadata": {
      "needs_background": "light"
     },
     "output_type": "display_data"
    },
    {
     "name": "stdout",
     "output_type": "stream",
     "text": [
      "Real:  2\n",
      "Undecided.\n",
      "Normalized Variance = 0.62125 for threshold = 0.20\n"
     ]
    },
    {
     "data": {
      "image/png": "[encoded data removed]",
      "text/plain": [
       "<Figure size 72x72 with 1 Axes>"
      ]
     },
     "metadata": {
      "needs_background": "light"
     },
     "output_type": "display_data"
    },
    {
     "name": "stdout",
     "output_type": "stream",
     "text": [
      "Real:  2\n",
      "Undecided.\n",
      "Normalized Variance = 0.65975 for threshold = 0.20\n"
     ]
    },
    {
     "data": {
      "image/png": "[encoded data removed]",
      "text/plain": [
       "<Figure size 72x72 with 1 Axes>"
      ]
     },
     "metadata": {
      "needs_background": "light"
     },
     "output_type": "display_data"
    },
    {
     "name": "stdout",
     "output_type": "stream",
     "text": [
      "Real:  8\n",
      "Undecided.\n",
      "Normalized Variance = 0.67823 for threshold = 0.20\n"
     ]
    },
    {
     "data": {
      "image/png": "[encoded data removed]",
      "text/plain": [
       "<Figure size 72x72 with 1 Axes>"
      ]
     },
     "metadata": {
      "needs_background": "light"
     },
     "output_type": "display_data"
    },
    {
     "name": "stdout",
     "output_type": "stream",
     "text": [
      "Real:  4\n",
      "Undecided.\n",
      "Normalized Variance = 0.61884 for threshold = 0.20\n"
     ]
    },
    {
     "data": {
      "image/png": "[encoded data removed]",
      "text/plain": [
       "<Figure size 72x72 with 1 Axes>"
      ]
     },
     "metadata": {
      "needs_background": "light"
     },
     "output_type": "display_data"
    },
    {
     "name": "stdout",
     "output_type": "stream",
     "text": [
      "Real:  8\n",
      "Undecided.\n",
      "Normalized Variance = 0.82367 for threshold = 0.20\n"
     ]
    },
    {
     "data": {
      "image/png": "[encoded data removed]",
      "text/plain": [
       "<Figure size 72x72 with 1 Axes>"
      ]
     },
     "metadata": {
      "needs_background": "light"
     },
     "output_type": "display_data"
    },
    {
     "name": "stdout",
     "output_type": "stream",
     "text": [
      "Real:  0\n",
      "Undecided.\n",
      "Normalized Variance = 0.54218 for threshold = 0.20\n"
     ]
    },
    {
     "data": {
      "image/png": "[encoded data removed]",
      "text/plain": [
       "<Figure size 72x72 with 1 Axes>"
      ]
     },
     "metadata": {
      "needs_background": "light"
     },
     "output_type": "display_data"
    },
    {
     "name": "stdout",
     "output_type": "stream",
     "text": [
      "\n",
      "\n",
      "Summary\n",
      "Number of images:  60\n",
      "Predicted for:  7\n",
      "Accuracy when predicted:  0.0\n"
     ]
    },
    {
     "data": {
      "text/plain": [
       "(60, 0, 7)"
      ]
     },
     "execution_count": 20,
     "metadata": {},
     "output_type": "execute_result"
    }
   ],
   "source": [
    "images, labels = next(iter(fashiontestloader))\n",
    "test_var_batch(images[0:60], labels[0:60])"
   ]
  },
  {
   "cell_type": "markdown",
   "metadata": {},
   "source": [
    "### Results of the test procedure for `MNIST` and `FashionMNIST`\n",
    "The results above illustrate the intention behind the confidence calculation. For the `MNIST` data the confidence calculation leads the an accuracy of 100 % and the algorithm was confident at around 80 % of the input images. It detected 20 % of the input images not as digits and therefore the **false negative** (type 2 error) rate for this test is 20 %.\n",
    "\n",
    "On the other hand, it detected 88 % an non-digits for the `FashionMNIST` data set. Therefore the **false positive** (type 1 error) rate is 12 %."
   ]
  },
  {
   "cell_type": "code",
   "execution_count": 21,
   "metadata": {},
   "outputs": [
    {
     "name": "stdout",
     "output_type": "stream",
     "text": [
      "Prediction after confidence estimation\n",
      "Total images:  10000\n",
      "Skipped:  2671\n",
      "Accuracy when made predictions: 98.5\n"
     ]
    }
   ],
   "source": [
    "# Prediction after confidence estimation\n",
    "\n",
    "print('Prediction after confidence estimation')\n",
    "correct = 0\n",
    "total = 0\n",
    "total_predicted_for = 0\n",
    "for j, data in enumerate(testloader):\n",
    "    images, labels = data\n",
    "    \n",
    "    total_minibatch, correct_minibatch, predictions_minibatch = test_var_batch(images, labels, plot=False)\n",
    "    total += total_minibatch\n",
    "    correct += correct_minibatch\n",
    "    total_predicted_for += predictions_minibatch\n",
    "\n",
    "print(\"Total images: \", total)\n",
    "print(\"Skipped: \", total-total_predicted_for)\n",
    "print(\"Accuracy when made predictions: {:3.1f}\".format (100 * correct / total_predicted_for))"
   ]
  },
  {
   "cell_type": "markdown",
   "metadata": {},
   "source": [
    "## Conclusion and future improvements \n",
    "The accuracy after confidence estimation is 98.5 % and therefore an improvement of 7.1 % compared to the prediction without confidence estimation. But the rate of the *false negative* or *type 2* errors for confidence estimation is pretty high with 26.71 %. Thus it is important to lower the type 2 error rate of the confidence estimation by keeping the accuracy as high as possible. \n",
    "\n",
    "#### Possible technical improvements\n",
    "1. average the variance over all but the smallest values.\n",
    "2. Calculate the distance between the smallest and the second smallest value.\n",
    "3. Take multiple runs (eg. 5) and average over them."
   ]
  },
  {
   "cell_type": "markdown",
   "metadata": {},
   "source": [
    "## References\n",
    "[[1]](https://www.youtube.com/watch?v=DYRK0-_K2UU&feature=youtu.be) Tamara Broderick - Tutorial \"Variational Bayes and beyond: Bayesian inference for big data\" - ICML 2018.\n",
    "<br>\n",
    "[[2]](https://arxiv.org/pdf/1505.05424.pdf) C. Blundell, J. Cornebise, K. Kavukcuoglu, and D. Wierstra, “Weight uncertainty in neural networks,” in *International Conference on Machine Learning*, 2015, pp. 1613–1622.\n",
    "<br>\n",
    "[[3]](https://towardsdatascience.com/making-your-neural-network-say-i-dont-know-bayesian-nns-using-pyro-and-pytorch-b1c24e6ab8cd) Paras Chopra, \"Making Your Neural Network Say “I Don’t Know” — Bayesian NNs using Pyro and PyTorch\" in *towards data science*, 2018"
   ]
  },
  {
   "cell_type": "code",
   "execution_count": null,
   "metadata": {},
   "outputs": [],
   "source": []
  }
 ],
 "metadata": {
  "kernelspec": {
   "display_name": "Python 3",
   "language": "python",
   "name": "python3"
  },
  "language_info": {
   "codemirror_mode": {
    "name": "ipython",
    "version": 3
   },
   "file_extension": ".py",
   "mimetype": "text/x-python",
   "name": "python",
   "nbconvert_exporter": "python",
   "pygments_lexer": "ipython3",
   "version": "3.6.12"
  }
 },
 "nbformat": 4,
 "nbformat_minor": 4
}
