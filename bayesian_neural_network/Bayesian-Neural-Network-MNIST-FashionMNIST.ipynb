{
 "cells": [
  {
   "cell_type": "markdown",
   "metadata": {},
   "source": [
    "# Confidence of a Bayesian Neural Network\n",
    "This notebook examines the confidence calculation of a *Bayesian* neural network. I will use the *MNIST* and *FashionMNIST* datasets to demonstrate how confidence within the prediction process can help to avoid misclassification. `PyTorch` and `Pyro` are used for the probabilistic programming part."
   ]
  },
  {
   "cell_type": "markdown",
   "metadata": {},
   "source": [
    "## Approximate Bayesian Inference\n",
    "Before we start to implement the *Bayesian* neural network lets have a look at the theory behind *Approximate Bayesian Inference*. \n",
    "#### Bayesian inference\n",
    "The *prior* $p(\\theta)$ is our prior believe of the (probability) distribution of the parameters $\\theta$, which we have to identify first.\n",
    "\n",
    "The *likelihood* $p(y_{1:N} | \\theta)$ tells us, how our data $y$ interacts with / relates to our parameter $\\theta$ for $N$ data points.\n",
    "\n",
    "**Model:** The *likelihood* and the *prior* makes the model! This tells us how we can simulate from our data.\n",
    "\n",
    "The *prior* as a marginal and the *likelihood* as a conditional together makes a *joined distribution* $p(y_{1:N},\\theta)$.\n",
    "\n",
    "$p(y | \\theta) \\: p(\\theta) = p(y,\\theta)$\n",
    "\n",
    "This joined distribution can be also written as $p(\\theta, y) = p(\\theta | y) p(y)$\n",
    "\n",
    "Which gives us $p(\\theta | y) = \\frac{p(\\theta, y)}{p(y)}$. This is equivalent to \n",
    "\n",
    "$$p(\\theta | y_{1:N}) = \\frac{p(y_{1:N} | \\theta) p(\\theta)}{p(y_{1:N})}$$ \n",
    "\n",
    "which is called the ***Bayes Theorem***.\n",
    "\n",
    "$p(y_{1:N})$ is the normalizing constant and is called the *evidence*. It is the probability of the data. It is the marginal of the joined probability $p(\\theta , y)$ with $\\theta$ integrated out. Therefore it can be written as: $\\int p(y_{1:N} | \\theta) \\: p(\\theta) \\: d\\theta$\n",
    "\n",
    "$p(\\theta | y_{1:N})$ is called the *posterior* and is exactly what we want to infer by Bayesian Inference.\n",
    "\n",
    "Finally the Bayes Theorem can be written as: $$p(\\theta | y_{1:N}) = \\frac{p(y_{1:N} | \\theta) p(\\theta)}{\\int p(y_{1:N} | \\theta) p(\\theta)d\\theta}$$\n",
    "\n",
    "Due to the possibly high dimension of $\\theta$ and therefore the high dimensionality of the *posterior* we want to reduce our result to a point estimate and a notion of its distribution / uncertainty. This is mostly the *mean* and its *(co)variance*.\n",
    "\n",
    "**Goal of Bayesian inference:** The goal of Bayesian inference is calculating the *posterior* and presenting a *mean* and a *(co)variance* of the calculated distribution $p(\\theta | y_{1:N})$.\n",
    "\n",
    "#### Problems of the Bayes Theorem\n",
    "1. High dimensional integration of $\\theta$ over the *evidence* to get the *posterior*. \n",
    "2. High dimensional integration of $\\theta$ over the *posterior* to get a posterior *mean* and *(co)variance*.\n",
    "\n",
    "Because of the intractability of the high dimensional integrations mentioned above the question is how do we get a *posterior* and its *mean* and *(co)variance* if we cannot calculate it directly?\n",
    "\n",
    "*Approximate Bayesian Inference* it the solution to this problem.\n",
    "\n",
    "#### Approximate the *posterior* by using Variational Bayes\n",
    "If we cannot calculate the *posterior* we are going to approximate it by using *Variational Bayes*, which is an optimization approach. \n",
    "\n",
    "We denote the \"optimal\" approximated *posterior* by $q^*$. An \"optimal\" approximated *posterior* is the closest $q$ to the exact *posterior* $p(\\theta|y)$ for which we can calculate a *mean* and *(co)variance*. (Remember our goal is to calculate / approximate a *mean* and *(co)variance* as our result.) \n",
    "<br><br>\n",
    "<!-- <figure>\n",
    "    <img src='pictures/variational-bayes.png' width=400 />\n",
    "    <figcaption>Caption goes here</figcaption>\n",
    "</figure>\n",
    " -->\n",
    "<figure>\n",
    "    <img src='../pictures/variational-bayes.png' width=400 align=left />\n",
    "    <div style='width: 400px; text-align: center;'>Tamara Broderick - Tutorial \"Variational Bayes and beyond: Bayesian inference for big data\" - ICML 2018.</div>\n",
    "</figure>\n",
    "\n",
    "In the case of *Variational Bayes* $q^*$ is: $$q^* = argmin_{q\\in Q} KL(q(\\theta) \\parallel p(\\theta | y))$$\n",
    "\n",
    "where KL is the *Kullback-Leibler (KL)* divergence and $Q$ is the bulk of appropriate or \"nice\" distributions for which we can calculate the *mean* and the *variance*.\n",
    "\n",
    "#### Advantage of using KL divergence\n",
    "Lets look at the definition of the KL divergence:\n",
    "\n",
    "$$ KL(q(\\theta) \\parallel p(\\theta | y) := \\int q(\\theta) \\: log \\: \\frac{q(\\theta)}{p(\\theta|y)} \\: d\\theta$$\n",
    "\n",
    "where $q(\\theta)$ is the approximating distribution and $p(\\theta|y)$ is the exact *posterior* we want to approximate. \n",
    "\n",
    "Now the problem with the KL divergence is that we do not know the exact *posterior* so how can we approximate something that we don't know. To answer this question we need to do some algebraic manipulation and we start with replacing $p(\\theta|y)$ in the denominator by $\\frac {p(\\theta, y)}{p(y)}$:\n",
    "\n",
    "<!-- $$ KL(q(\\theta) \\parallel p(\\theta | y) := \\int q(\\theta)\\: log \\: \\frac{q(\\theta)p(y)}{p(\\theta,y)}\\: d\\theta$$ \n",
    " -->\n",
    "\n",
    "$$ KL(q(\\theta) \\parallel p(\\theta | y) := \\int q(\\theta) \\: log \\frac{p(y)}{\\frac{p(\\theta,y)}{q(\\theta)}} \\: d\\theta$$ \n",
    "\n",
    "now using the fact that $log\\frac{a}{b} = log(a) - log(b)$ (quotient rule) we get:\n",
    "\n",
    "$$ = \\int q(\\theta)\\: (log \\: p(y) - log \\: \\frac{p(\\theta,y)}{q(\\theta)})\\:d\\theta$$\n",
    "\n",
    "$$ = \\int q(\\theta)\\: log \\: p(y)\\: d\\theta - \\int q(\\theta) log \\: \\frac{p(\\theta,y)}{q(\\theta)}\\:d\\theta$$\n",
    "\n",
    "where $ \\int q(\\theta) \\: log \\, p(y) \\: d(\\theta)$ integrates to $log \\, p(y)$ because $q$ is a distribution and therefore $\\int q(\\theta) \\: d\\theta$ integrates to $1$. So we get:\n",
    "\n",
    "$$ = log\\: p(y) - \\int q(\\theta)\\: log \\: \\frac{p(\\theta,y)}{q(\\theta)}\\:d\\theta$$\n",
    "\n",
    "The first term is the log of the evidence and does not contain $q$. As we are minimizing the KL divergence over $q$ this first term $log\\: p(y)$ does not have any impact.\n",
    "\n",
    "The second term is called *Evidence Lower Bound (ELBO)* and it contains only elements that we know. The joined distribution $p(\\theta,y)$ is the *likelihood* times the *prior* and this is our input. This term can be optimized.\n",
    "\n",
    "Due to the fact that the $KL \\ge 0$ we have $log \\, p(y) \\ge ELBO$ and it is a lower bound for the $log$ of the *evidence*.\n",
    "\n",
    "So now we have: \n",
    "\n",
    "$$q^* = argmin_{q\\in Q} KL(q(\\theta) \\parallel p(\\theta | y))$$ with \n",
    "\n",
    "$$ KL(q(\\theta) \\parallel p(\\theta | y) := log\\: p(y) - \\int q(\\theta)\\: log \\: \\frac{p(\\theta,y)}{q(\\theta)}\\:d\\theta $$ \n",
    "\n",
    "and we get: \n",
    "\n",
    "$$q^* = argmax_{q \\in Q} \\,ELBO(q)$$\n",
    "\n",
    "**Therefore minimizing the $KL$ divergence is equivalent to maximizing the $ELBO$.**\n",
    "\n",
    "#### Conclusion\n",
    "We started with the problem of minimizing the KL divergence between $q(\\theta)$ and our exact *posterior* $p(\\theta|y)$ which we don't know and ended up with maximizing the $ELBO$. This is the exact same problem with the benefit that we can solve it by optimization.\n",
    "\n",
    "\n",
    "#### Mean-field Variational Bayes \n",
    "\n",
    "Last but not least we have to check what are appropriate or \"nice\", as called in the depiction above, distributions. As mentioned at the beginning of this explanation, we are looking for a *mean* and a *variance* and therefore we need distributions for which we can easily compute *means* and *variances*. This requirement is perfectly fulfilled by low dimensional, exponential distributions.\n",
    "\n",
    "Starting with a high dimensional parameter vector $\\theta$, we break it down into $J$ smaller components. Now the approximating distribution $q(\\theta)$ factorizes over these $J$ components to calculate the approximation. This is the *Mean-field variational Bayes (MFVB)* assumption. \n",
    "\n",
    "$$Q_{MFVB} := \\{ q : q(\\theta) = \\prod_{j=1}^J \\: q_j(\\theta_j)\\}$$\n",
    "\n",
    "Ideally $\\theta$ factorizes into exponential distributions for whom it is easy to calculate *means* and *variances*.\n",
    "\n",
    "#### Optimization\n",
    "\n",
    "Now we apply optimization to find the optimal distribution $q^*$ which minimizes the $KL$ divergence between our appropriate distributions and the exact *posterior*. We are going to use *Stochastic Variational Inference (SVI)* for this purpose.  "
   ]
  },
  {
   "cell_type": "markdown",
   "metadata": {},
   "source": [
    "# Probabilistic computation with Pyro\n",
    "\n",
    "We will use [Pyro](https://pyro.ai/) for the probabilistic computation."
   ]
  },
  {
   "cell_type": "markdown",
   "metadata": {},
   "source": [
    "Import all necessary libraries."
   ]
  },
  {
   "cell_type": "code",
   "execution_count": 1,
   "metadata": {},
   "outputs": [],
   "source": [
    "%matplotlib inline\n",
    "import matplotlib.pyplot as plt\n",
    "\n",
    "import numpy as np\n",
    "\n",
    "from collections import OrderedDict\n",
    "\n",
    "# PyTorch\n",
    "import torch\n",
    "from torch import nn\n",
    "from torch import optim\n",
    "import torch.nn.functional as F\n",
    "from torch.autograd import Variable\n",
    "import torchvision\n",
    "from torchvision import datasets, transforms, models\n",
    "from torch.utils.data import DataLoader\n",
    "from torch.utils.data.dataset import Dataset\n",
    "\n",
    "import helper"
   ]
  },
  {
   "cell_type": "code",
   "execution_count": 2,
   "metadata": {},
   "outputs": [],
   "source": [
    "# Pyro\n",
    "import pyro\n",
    "import pyro.distributions as dist\n",
    "from pyro.infer import SVI, Trace_ELBO\n",
    "from pyro.optim import Adam\n",
    "\n",
    "pyro.set_rng_seed(101)"
   ]
  },
  {
   "cell_type": "markdown",
   "metadata": {},
   "source": [
    "## Load the data\n",
    "\n",
    "Use `Dataloader` to load the data and store it in the `data` directory.\n",
    "\n",
    "The dataset is split into two parts, training and testing.\n",
    "\n",
    "The testing sets is used to measure the model's performance on data it hasn't seen yet. "
   ]
  },
  {
   "cell_type": "markdown",
   "metadata": {},
   "source": [
    "Define how to transform the datasets"
   ]
  },
  {
   "cell_type": "raw",
   "metadata": {},
   "source": [
    "transform = transforms.Compose(\n",
    "    [transforms.ToTensor(),\n",
    "    transforms.Normalize((0.5,), (0.5,))])"
   ]
  },
  {
   "cell_type": "code",
   "execution_count": 3,
   "metadata": {},
   "outputs": [],
   "source": [
    "transform = transforms.Compose(\n",
    "    [transforms.ToTensor()])"
   ]
  },
  {
   "cell_type": "markdown",
   "metadata": {},
   "source": [
    "Define the datasets and where to store them"
   ]
  },
  {
   "cell_type": "code",
   "execution_count": 4,
   "metadata": {},
   "outputs": [],
   "source": [
    "# datasets\n",
    "trainset = torchvision.datasets.MNIST('../data',\n",
    "    download=True,\n",
    "    train=True,\n",
    "    transform=transform)\n",
    "testset = torchvision.datasets.MNIST('../data',\n",
    "    download=True,\n",
    "    train=False,\n",
    "    transform=transform)"
   ]
  },
  {
   "cell_type": "markdown",
   "metadata": {},
   "source": [
    "Load the datasets"
   ]
  },
  {
   "cell_type": "code",
   "execution_count": 5,
   "metadata": {},
   "outputs": [],
   "source": [
    "# dataloaders\n",
    "trainloader = torch.utils.data.DataLoader(trainset, batch_size=128, shuffle=True)\n",
    "\n",
    "testloader = torch.utils.data.DataLoader(testset, batch_size=64, shuffle=False)"
   ]
  },
  {
   "cell_type": "markdown",
   "metadata": {},
   "source": [
    "Define the neural net. It is identical to the classic approach."
   ]
  },
  {
   "cell_type": "code",
   "execution_count": 6,
   "metadata": {},
   "outputs": [],
   "source": [
    "input_layer_size = 28*28 # image size of 28 x 28 pixels\n",
    "hidden_layer_size = 1024 # number of hidden layer nodes\n",
    "output_layer_size = 10   # number of categories"
   ]
  },
  {
   "cell_type": "code",
   "execution_count": 7,
   "metadata": {},
   "outputs": [],
   "source": [
    "class NeuralNet(nn.Module):\n",
    "    \n",
    "    def __init__(self, input_layer, hidden_layer, output_layer):\n",
    "        super(NeuralNet, self).__init__()\n",
    "        self.fc1 = nn.Linear(input_layer, hidden_layer)\n",
    "        self.out = nn.Linear(hidden_layer, output_layer)\n",
    "        \n",
    "        \n",
    "    def forward(self, x):\n",
    "        x = self.fc1(x)\n",
    "        x = F.relu(x)\n",
    "        x = self.out(x)\n",
    "        return x"
   ]
  },
  {
   "cell_type": "code",
   "execution_count": 8,
   "metadata": {},
   "outputs": [],
   "source": [
    "log_softmax = nn.LogSoftmax(dim=1)"
   ]
  },
  {
   "cell_type": "markdown",
   "metadata": {},
   "source": [
    "Instance new neural net for probabilistic calculations"
   ]
  },
  {
   "cell_type": "code",
   "execution_count": 9,
   "metadata": {},
   "outputs": [],
   "source": [
    "baysNeuralNet = NeuralNet(input_layer_size, hidden_layer_size, output_layer_size)"
   ]
  },
  {
   "cell_type": "markdown",
   "metadata": {},
   "source": [
    "To do Bayesian inference in Pyro we need a *model*, a *guide*, an *optimizer*, and an *inference algorithm*."
   ]
  },
  {
   "cell_type": "markdown",
   "metadata": {},
   "source": [
    "### Model\n",
    "In general a *model* in `Pyro` is a Python function which uses `Pyro` primitives (= primitive stochastic functions) to compute the input data.\n",
    "\n",
    "One important thing to mention is that `pyro.sample` statements with an `obs` keyword are used to incorporate observations into the inference process. \n",
    "\n",
    "For Neural Networks we first need to convert our conventional network into a Bayesian network. Therefore we replace the fixed parameters for the weights and the biases by distributions. \n",
    "\n",
    "In our case we use the normal distribution to generate the priors.\n",
    "```python\n",
    "pyro.distributions.Normal()\n",
    "```\n",
    "After generating the priors, we replace the conventional, fixed parameters (weights and biases) by these new ones by calling \n",
    "```python\n",
    "pyro.random_module()\n",
    "```\n",
    "Now we can create a sampled neural network module with sampled weights and biases and pass in data to generate a result.\n",
    "\n",
    "In our case, the result will be 10 negative number representing the log probability of the 10 categories:\n",
    "\n",
    "<img src='../pictures/mode-raw-output.png' width=700 align=left>"
   ]
  },
  {
   "cell_type": "code",
   "execution_count": 10,
   "metadata": {},
   "outputs": [],
   "source": [
    "def model(x_data, y_data):\n",
    "    \n",
    "    # Initialize the prior distributions for the weights and biases of the neural network layers (N(0,1))\n",
    "    fc1_weight_prior = dist.Normal(loc=torch.zeros(baysNeuralNet.fc1.weight.size()), \n",
    "                        scale=torch.ones(baysNeuralNet.fc1.weight.size()))\n",
    "    fc1_bias_prior = dist.Normal(loc=torch.zeros(baysNeuralNet.fc1.bias.size()), \n",
    "                        scale=torch.ones(baysNeuralNet.fc1.bias.size()))\n",
    "\n",
    "    \n",
    "    out_weight_prior = dist.Normal(loc=torch.zeros(baysNeuralNet.out.weight.size()), \n",
    "                        scale=torch.ones(baysNeuralNet.out.weight.size()))\n",
    "    out_bias_prior = dist.Normal(loc=torch.zeros(baysNeuralNet.out.bias.size()), \n",
    "                        scale=torch.ones(baysNeuralNet.out.bias.size()))\n",
    "    \n",
    "    priors = {'fc1.weight': fc1_weight_prior, 'fc1.bias': fc1_bias_prior,  \n",
    "              'out.weight': out_weight_prior, 'out.bias': out_bias_prior}\n",
    "    \n",
    "    # place a prior over the parameters (weights and biases) of the network. \n",
    "    # Returns a distribution (callable) over nn.Module`s, which upon calling returns a sampled `nn.Module.\n",
    "    priored_module = pyro.random_module(\"module\", baysNeuralNet, priors)\n",
    "    \n",
    "    # get a sampled `nn.Module (callable) with sampled weights and biases \n",
    "    sampled_module = priored_module()\n",
    "    \n",
    "    # get the LogSoftmax result for each dataset (within a batch)\n",
    "    # each cathegory is represented by a negative number. (Eg 10 numbers for the 10 digits 0-9)\n",
    "    logProbPred = log_softmax(sampled_module(x_data))\n",
    "    \n",
    "    # incorporate observations into the model\n",
    "    # Call the stochastic function Categorical and return a sampled result according to the distribution if\n",
    "    # no obs parameter is set to condition on - otherwise use the obs argument to the pyro.sample statement \n",
    "    # to condition on the observed data y_data -> the result will by y_data\n",
    "    # Categorical creates a categorical distribution parameterized by logits (log_softmax())\n",
    "    pyro.sample(\"obs\", dist.Categorical(logits=logProbPred), obs=y_data)"
   ]
  },
  {
   "cell_type": "markdown",
   "metadata": {},
   "source": [
    "The result of pyro.sample **without** the observation argument will be stochastically sampled from `logProbPred` and will be different from `y_data`:\n",
    "<img src='../pictures/cat_sample_without_obs.png' width=800px>\n",
    "The result of pyro.sample **with** the observation argument will be identical to `y_data`:\n",
    "<img src='../pictures/cat_sample_with_obs.png' width=800px>"
   ]
  },
  {
   "cell_type": "markdown",
   "metadata": {},
   "source": [
    "### Guide\n",
    "The *guide* is a parameterized family of distributions over the *weights* and the *biases* and it is used to train the model by learning the parameters declared by `pyro.param` given the observation outcomes `obs`. `pyro.param` registers the parameters in the [ParamStore](http://docs.pyro.ai/en/0.2.1-release/parameters.html). \n",
    "\n",
    "The parameters to be learned are *fcl1_w_mu*, *fcl1_w_sigma*, *fcl1_b_mu*, *fcl1_b_sigma*, *outl_w_mu*, *outl_w_sigma*, *outl_b_mu* and *outl_b_sigma* and are defined within the *guide*. "
   ]
  },
  {
   "cell_type": "code",
   "execution_count": 11,
   "metadata": {},
   "outputs": [],
   "source": [
    "softplus = torch.nn.Softplus()\n",
    "\n",
    "def guide(x_data, y_data):\n",
    "    \n",
    "    # First layer weight distribution priors\n",
    "    fc1_weight_loc = torch.randn(baysNeuralNet.fc1.weight.size())\n",
    "    fc1_weight_scale = torch.randn(baysNeuralNet.fc1.weight.size())\n",
    "    fc1_weight_loc_param = pyro.param(\"fc1_weight_loc\", fc1_weight_loc)\n",
    "    fc1_weight_scale_param = softplus(pyro.param(\"fc1_weight_scale\", fc1_weight_scale))\n",
    "    fc1_weight_prior = dist.Normal(loc=fc1_weight_loc_param, scale=fc1_weight_scale_param)\n",
    "    \n",
    "    # First layer bias distribution priors\n",
    "    fc1_bias_loc = torch.randn(baysNeuralNet.fc1.bias.size())\n",
    "    fc1_bias_scale = torch.randn(baysNeuralNet.fc1.bias.size())\n",
    "    fc1_bias_loc_param = pyro.param(\"fc1_bias_loc\", fc1_bias_loc)\n",
    "    fc1_bias_scale_param = softplus(pyro.param(\"fc1_bias_scale\", fc1_bias_scale))\n",
    "    fc1_bias_prior = dist.Normal(loc=fc1_bias_loc_param, scale=fc1_bias_scale_param)\n",
    "    \n",
    "    # Output layer weight distribution priors\n",
    "    out_weight_loc = torch.randn(baysNeuralNet.out.weight.size())\n",
    "    out_weight_scale = torch.randn(baysNeuralNet.out.weight.size())\n",
    "    out_weight_loc_param = pyro.param(\"out_weight_loc\", out_weight_loc)\n",
    "    out_weight_scale_param = softplus(pyro.param(\"out_weight_scale\", out_weight_scale))\n",
    "    out_weight_prior = dist.Normal(loc=out_weight_loc_param, scale=out_weight_scale_param).independent(1)\n",
    "    \n",
    "    # Output layer bias distribution priors\n",
    "    out_bias_loc = torch.randn(baysNeuralNet.out.bias.size())\n",
    "    out_bias_scale = torch.randn(baysNeuralNet.out.bias.size())\n",
    "    out_bias_loc_param = pyro.param(\"out_bias_loc\", out_bias_loc)\n",
    "    out_bias_scale_param = softplus(pyro.param(\"out_bias_scale\", out_bias_scale))\n",
    "    out_bias_prior = dist.Normal(loc=out_bias_loc_param, scale=out_bias_scale_param)\n",
    "    \n",
    "    priors = {'fc1.weight': fc1_weight_prior, 'fc1.bias': fc1_bias_prior, \n",
    "              'out.weight': out_weight_prior, 'out.bias': out_bias_prior}\n",
    "    \n",
    "    priored_module = pyro.random_module(\"module\", baysNeuralNet, priors)\n",
    "    \n",
    "    return priored_module()"
   ]
  },
  {
   "cell_type": "markdown",
   "metadata": {},
   "source": [
    "### Optimizer & Inference Algorithm\n",
    "In this example we use the *Adam* optimizer and the *Stochastic Variational Inference (SVI)*."
   ]
  },
  {
   "cell_type": "code",
   "execution_count": 12,
   "metadata": {},
   "outputs": [],
   "source": [
    "optim = Adam({\"lr\": 0.01})\n",
    "svi = SVI(model, guide, optim, loss=Trace_ELBO())"
   ]
  },
  {
   "cell_type": "markdown",
   "metadata": {},
   "source": [
    "### Training\n",
    "Training is done by the *Stochastic Variational Inference (SVI)* optimization algorithm with the *ELBO* as the loss function (See the introductory part at the beginning of this notebook) by adjusting the `pyro.param` values."
   ]
  },
  {
   "cell_type": "code",
   "execution_count": 13,
   "metadata": {},
   "outputs": [
    {
     "name": "stderr",
     "output_type": "stream",
     "text": [
      "/home/horst/anaconda3/envs/pyro/lib/python3.6/site-packages/pyro/primitives.py:406: FutureWarning: The `random_module` primitive is deprecated, and will be removed in a future release. Use `pyro.nn.Module` to create Bayesian modules from `torch.nn.Module` instances.\n",
      "  \"modules from `torch.nn.Module` instances.\", FutureWarning)\n"
     ]
    },
    {
     "name": "stdout",
     "output_type": "stream",
     "text": [
      "Epoch  1  Loss  2106.8290526576043\n",
      "Epoch  2  Loss  378.6769510138989\n",
      "Epoch  3  Loss  161.66674293100039\n",
      "Epoch  4  Loss  112.00966752870877\n",
      "Epoch  5  Loss  97.43290654851596\n",
      "Epoch  6  Loss  90.94613541169167\n",
      "Epoch  7  Loss  87.42377650856972\n",
      "Epoch  8  Loss  86.76962037156423\n",
      "Epoch  9  Loss  86.66487224982579\n",
      "Epoch  10  Loss  85.86500588234266\n"
     ]
    }
   ],
   "source": [
    "num_iterations = 10\n",
    "loss = 0\n",
    "\n",
    "for j in range(num_iterations):\n",
    "    loss = 0\n",
    "    for batch_id, data in enumerate(trainloader):\n",
    "        # calculate the loss and take a gradient step\n",
    "        loss += svi.step(data[0].view(-1,28*28), data[1])\n",
    "    normalizer_train = len(trainloader.dataset)\n",
    "    total_epoch_loss_train = loss / normalizer_train\n",
    "    \n",
    "    print(\"Epoch \", j+1, \" Loss \", total_epoch_loss_train)"
   ]
  },
  {
   "cell_type": "markdown",
   "metadata": {},
   "source": [
    "### Testing the Bayesian neural network\n",
    "In contrast to classical neural network with fixed parameters, Bayesian neural network with its random parameters need multiple runs / forwardpasses for a single input to predict an output. For an identical input file, each run will generate a different output. This is due to the randomness of the *weights* and *biases* of the Bayesian neural network. This is displayed in the following drawing from [Blundell et al](https://arxiv.org/pdf/1505.05424.pdf)\n",
    "<figure>\n",
    "    <img src='../pictures/Blundell_1.png' width=600 align=left />\n",
    "    <div style='width: 600px; text-align: center;'>Blundell et al.</div>\n",
    "</figure>\n",
    "\n",
    "On the left you can see a classical neural net with fixed *weights* and *biases* and on the right side you can see a Bayesian neural net with its random parameters.\n",
    "\n",
    "Therefore you need multiple runs to calculate the outcome.\n",
    "\n",
    "In the implementation below we use the *guide()* for prediction because it has the trained parameters.\n",
    "1. The first statement within *prediction()* generates *num_of_samples* Bayesian networks\n",
    "2. The second statement generates *num_of_samples* predictions for each single input. Thus if we have a test batch size of 64 we get in total 640 predictions, 10 for each input.\n",
    "3. The forth statement calculates the mean / average over the *num_of_samples* output for each input and each category. Thus yielding in 64 tensors with a mean value for each category.\n",
    "4. The result is the index of the category with the maximal mean value. There is one value for each input.\n",
    "\n",
    "\n"
   ]
  },
  {
   "cell_type": "code",
   "execution_count": 14,
   "metadata": {},
   "outputs": [
    {
     "name": "stdout",
     "output_type": "stream",
     "text": [
      "Prediction when network is forced to predict\n",
      "Accuracy: 89.9 %\n"
     ]
    }
   ],
   "source": [
    "# number of multiple runs for a single input\n",
    "num_of_samples = 10\n",
    "\n",
    "def predict(x):\n",
    "    # generate num_of_samples models \n",
    "    sampled_models = [guide(None, None) for _ in range(num_of_samples)]\n",
    "    # forwardpass of the date -> generates num_of_samples predictions per input\n",
    "    yhats = [model(x).data for model in sampled_models]\n",
    "    # stack the tensors for further processing\n",
    "    inter = torch.stack(yhats)\n",
    "    # Build the mean value for each category out of the sampled models\n",
    "    mean = torch.mean(inter, 0)\n",
    "    # Build the variance for each category out of the sampled models\n",
    "    variance = torch.var(inter, 0)\n",
    "    # get the category with the maximal mean value\n",
    "    # this is the predicted value of the Bayesian natwork\n",
    "    res = np.argmax(mean.numpy(), axis=1)\n",
    "    return res\n",
    "\n",
    "print('Prediction when network is forced to predict')\n",
    "correct = 0\n",
    "total = 0\n",
    "for j, data in enumerate(testloader):\n",
    "    images, labels = data\n",
    "    with torch.no_grad():\n",
    "        predicted = predict(images.view(-1,28*28))\n",
    "    total += labels.size(0)\n",
    "    correct += np.equal(predicted, labels).sum()\n",
    "print(\"Accuracy: {:.1f} %\".format(correct / total * 100))"
   ]
  },
  {
   "cell_type": "code",
   "execution_count": 15,
   "metadata": {},
   "outputs": [],
   "source": [
    "classes = ('0', '1', '2', '3',\n",
    "           '4', '5', '6', '7', '8', '9')"
   ]
  },
  {
   "cell_type": "code",
   "execution_count": 16,
   "metadata": {},
   "outputs": [],
   "source": [
    "def imshow(img):\n",
    "    img = img / 2 + 0.5     # unnormalize\n",
    "    npimg = img.numpy()\n",
    "    #plt.imshow(npimg,  cmap='gray')\n",
    "    #fig.show(figsize=(1,1))\n",
    "    \n",
    "    fig, ax = plt.subplots(figsize=(1, 1))\n",
    "    ax.imshow(npimg,  cmap='gray', interpolation='nearest')\n",
    "    plt.show()"
   ]
  },
  {
   "cell_type": "code",
   "execution_count": 17,
   "metadata": {},
   "outputs": [],
   "source": [
    "# number of multiple runs for a single input\n",
    "num_of_samples = 100\n",
    "\n",
    "def give_uncertainities(x):\n",
    "    # generate num_of_samples models \n",
    "    sampled_models = [guide(None, None) for _ in range(num_of_samples)]\n",
    "#     print('---sampled_models', sampled_models)\n",
    "    \n",
    "    yhats = [F.log_softmax(model(x.view(-1,28*28)).data, 1).numpy() for model in sampled_models]\n",
    "#     print('\\n\\n---yhats---\\n', yhats)\n",
    "#     print(type(yhats))\n",
    "    \n",
    "    ret = np.asarray(yhats)\n",
    "#     print('\\n\\n---ret---\\n', ret)\n",
    "    \n",
    "    a = np.stack(ret, 1)\n",
    "#     print('\\n\\n---a---\\n', a)\n",
    "    \n",
    "    b = np.var(a, 1)\n",
    "    print('\\n\\n---b---\\n', b)\n",
    "    \n",
    "    c = np.mean(b, 1)\n",
    "    print('\\n\\n---c---\\n', c)\n",
    "    \n",
    "    d = []\n",
    "    for i in range(len(c)):\n",
    "        d.append(b[i] / c[i])\n",
    "        \n",
    "    e = np.array(d)\n",
    "    \n",
    "    print('\\n\\n---e---\\n', e)\n",
    "    \n",
    "    f = np.min(e, 1)\n",
    "    print('\\n\\n---f---\\n', f)\n",
    "    f1 = np.argmin(e, 1)\n",
    "    print('\\n\\n---f1---\\n', f1)\n",
    "    \n",
    "    for i in range(len(f)):\n",
    "        if f[i] < 0.20:\n",
    "            print('Predicted: ', f1[i])\n",
    "        else:\n",
    "            print('not sure!')\n",
    "    \n",
    "    return ret"
   ]
  },
  {
   "cell_type": "code",
   "execution_count": 18,
   "metadata": {},
   "outputs": [],
   "source": [
    "from matplotlib import colors\n",
    "\n",
    "def test_batch(images, labels, plot=True):\n",
    "    y = give_uncertainities(images)\n",
    "    predicted_for_images = 0\n",
    "    correct_predictions=0\n",
    "\n",
    "    for i in range(len(labels)):\n",
    "    \n",
    "        if(plot):\n",
    "            print(\"Real: \",labels[i].item())\n",
    "            fig, axs = plt.subplots(1, 10, sharey=True,figsize=(20,2))\n",
    "    \n",
    "        all_digits_prob = []\n",
    "    \n",
    "        highted_something = False\n",
    "    \n",
    "        for j in range(len(classes)):\n",
    "        \n",
    "            highlight=False\n",
    "        \n",
    "            histo = []\n",
    "            histo_exp = []\n",
    "        \n",
    "            for z in range(y.shape[0]):\n",
    "                histo.append(y[z][i][j])\n",
    "                histo_exp.append(np.exp(y[z][i][j]))\n",
    "            \n",
    "            prob = np.percentile(histo_exp, 50) #sampling median probability\n",
    "        \n",
    "            if(prob>0.2): #select if network thinks this sample is 20% chance of this being a label\n",
    "                highlight = True #possibly an answer\n",
    "        \n",
    "            all_digits_prob.append(prob)\n",
    "            \n",
    "            if(plot):\n",
    "            \n",
    "                N, bins, patches = axs[j].hist(histo, bins=8, color = \"lightgray\", lw=0,  weights=np.ones(len(histo)) / len(histo), density=False)\n",
    "                axs[j].set_title(str(j)+\" (\"+str(round(prob,2))+\")\") \n",
    "        \n",
    "            if(highlight):\n",
    "            \n",
    "                highted_something = True\n",
    "                \n",
    "                if(plot):\n",
    "\n",
    "                    # We'll color code by height, but you could use any scalar\n",
    "                    fracs = N / N.max()\n",
    "\n",
    "                    # we need to normalize the data to 0..1 for the full range of the colormap\n",
    "                    norm = colors.Normalize(fracs.min(), fracs.max())\n",
    "\n",
    "                    # Now, we'll loop through our objects and set the color of each accordingly\n",
    "                    for thisfrac, thispatch in zip(fracs, patches):\n",
    "                        color = plt.cm.viridis(norm(thisfrac))\n",
    "                        thispatch.set_facecolor(color)\n",
    "\n",
    "    \n",
    "        if(plot):\n",
    "            plt.show()\n",
    "    \n",
    "        predicted = np.argmax(all_digits_prob)\n",
    "    \n",
    "        if(highted_something):\n",
    "            predicted_for_images+=1\n",
    "            if(labels[i].item()==predicted):\n",
    "                if(plot):\n",
    "                    print(\"Correct\")\n",
    "                correct_predictions +=1.0\n",
    "            else:\n",
    "                if(plot):\n",
    "                    print(\"Incorrect :()\")\n",
    "        else:\n",
    "            if(plot):\n",
    "                print(\"Undecided.\")\n",
    "        \n",
    "        if(plot):\n",
    "            imshow(images[i].squeeze())\n",
    "        \n",
    "    \n",
    "    if(plot):\n",
    "        print(\"Summary\")\n",
    "        print(\"Total images: \",len(labels))\n",
    "        print(\"Predicted for: \",predicted_for_images)\n",
    "        print(\"Accuracy when predicted: \",correct_predictions/predicted_for_images)\n",
    "        \n",
    "    return len(labels), correct_predictions, predicted_for_images "
   ]
  },
  {
   "cell_type": "code",
   "execution_count": 19,
   "metadata": {
    "scrolled": false
   },
   "outputs": [
    {
     "name": "stdout",
     "output_type": "stream",
     "text": [
      "\n",
      "\n",
      "---b---\n",
      " [[1.4572915e+04 1.1842885e+04 9.9601016e+03 9.5618330e+03 9.5756797e+03\n",
      "  1.0134916e+04 1.1742080e+04 6.8195753e+00 9.5422715e+03 9.1077783e+03]\n",
      " [1.3993554e+04 1.4355039e+04 1.3649912e+03 1.2167690e+04 1.6394914e+04\n",
      "  1.3928784e+04 1.2889656e+04 1.5244119e+04 1.1084200e+04 1.2761367e+04]\n",
      " [5.1693975e+03 9.1369702e-06 5.8369814e+03 5.3258618e+03 5.6473345e+03\n",
      "  5.1355522e+03 5.4893955e+03 5.3081787e+03 5.2709419e+03 4.6729941e+03]]\n",
      "\n",
      "\n",
      "---c---\n",
      " [ 9604.729 12418.432  4785.664]\n",
      "\n",
      "\n",
      "---e---\n",
      " [[1.5172646e+00 1.2330265e+00 1.0369998e+00 9.9553394e-01 9.9697554e-01\n",
      "  1.0552007e+00 1.2225312e+00 7.1002269e-04 9.9349725e-01 9.4825983e-01]\n",
      " [1.1268375e+00 1.1559463e+00 1.0991655e-01 9.7980893e-01 1.3202081e+00\n",
      "  1.1216218e+00 1.0379456e+00 1.2275398e+00 8.9256036e-01 1.0276151e+00]\n",
      " [1.0801840e+00 1.9092377e-09 1.2196805e+00 1.1128783e+00 1.1800524e+00\n",
      "  1.0731118e+00 1.1470499e+00 1.1091833e+00 1.1014024e+00 9.7645676e-01]]\n",
      "\n",
      "\n",
      "---f---\n",
      " [7.1002269e-04 1.0991655e-01 1.9092377e-09]\n",
      "\n",
      "\n",
      "---f1---\n",
      " [7 2 1]\n",
      "Predicted:  7\n",
      "Predicted:  2\n",
      "Predicted:  1\n",
      "Real:  7\n"
     ]
    },
    {
     "data": {
      "image/png": "[encoded data removed]",
      "text/plain": [
       "<Figure size 1440x144 with 10 Axes>"
      ]
     },
     "metadata": {
      "needs_background": "light"
     },
     "output_type": "display_data"
    },
    {
     "name": "stdout",
     "output_type": "stream",
     "text": [
      "Correct\n"
     ]
    },
    {
     "data": {
      "image/png": "[encoded data removed]",
      "text/plain": [
       "<Figure size 72x72 with 1 Axes>"
      ]
     },
     "metadata": {
      "needs_background": "light"
     },
     "output_type": "display_data"
    },
    {
     "name": "stdout",
     "output_type": "stream",
     "text": [
      "Real:  2\n"
     ]
    },
    {
     "data": {
      "image/png": "[encoded data removed]",
      "text/plain": [
       "<Figure size 1440x144 with 10 Axes>"
      ]
     },
     "metadata": {
      "needs_background": "light"
     },
     "output_type": "display_data"
    },
    {
     "name": "stdout",
     "output_type": "stream",
     "text": [
      "Correct\n"
     ]
    },
    {
     "data": {
      "image/png": "[encoded data removed]",
      "text/plain": [
       "<Figure size 72x72 with 1 Axes>"
      ]
     },
     "metadata": {
      "needs_background": "light"
     },
     "output_type": "display_data"
    },
    {
     "name": "stdout",
     "output_type": "stream",
     "text": [
      "Real:  1\n"
     ]
    },
    {
     "data": {
      "image/png": "[encoded data removed]",
      "text/plain": [
       "<Figure size 1440x144 with 10 Axes>"
      ]
     },
     "metadata": {
      "needs_background": "light"
     },
     "output_type": "display_data"
    },
    {
     "name": "stdout",
     "output_type": "stream",
     "text": [
      "Correct\n"
     ]
    },
    {
     "data": {
      "image/png": "[encoded data removed]",
      "text/plain": [
       "<Figure size 72x72 with 1 Axes>"
      ]
     },
     "metadata": {
      "needs_background": "light"
     },
     "output_type": "display_data"
    },
    {
     "name": "stdout",
     "output_type": "stream",
     "text": [
      "Summary\n",
      "Total images:  3\n",
      "Predicted for:  3\n",
      "Accuracy when predicted:  1.0\n"
     ]
    },
    {
     "data": {
      "text/plain": [
       "(3, 3.0, 3)"
      ]
     },
     "execution_count": 19,
     "metadata": {},
     "output_type": "execute_result"
    }
   ],
   "source": [
    "images, labels = next(iter(testloader))\n",
    "test_batch(images[:3], labels[:3])"
   ]
  },
  {
   "cell_type": "code",
   "execution_count": 20,
   "metadata": {},
   "outputs": [],
   "source": [
    "# FashionMNIST test dataset\n",
    "fashiontestset = torchvision.datasets.FashionMNIST('../data',\n",
    "    download=True,\n",
    "    train=False,\n",
    "    transform=transform)"
   ]
  },
  {
   "cell_type": "code",
   "execution_count": 21,
   "metadata": {},
   "outputs": [],
   "source": [
    "fashiontestloader = torch.utils.data.DataLoader(fashiontestset, batch_size=64, shuffle=False)"
   ]
  },
  {
   "cell_type": "code",
   "execution_count": 27,
   "metadata": {
    "scrolled": false
   },
   "outputs": [
    {
     "name": "stdout",
     "output_type": "stream",
     "text": [
      "\n",
      "\n",
      "---b---\n",
      " [[14750.4375 14905.593   4943.521   9673.841  13115.276  11260.974\n",
      "  11447.754  19221.604  10749.875  11765.281 ]\n",
      " [ 9378.904   8582.912   4199.2     7704.072   7812.22    8580.147\n",
      "   4977.582  10942.451   8655.843   7734.2407]\n",
      " [11494.909  12114.072  12187.517  11798.896   3882.1997 11088.086\n",
      "   4111.0576 13717.322   9162.994   9032.56  ]\n",
      " [ 9700.09    8076.6035  7970.478   7459.25    8877.855   6873.0757\n",
      "   9719.605   7768.4873  3408.9006  7957.335 ]\n",
      " [22769.047  34783.098  14414.37   21638.145  26539.682  22703.422\n",
      "  26287.44   34540.277  16656.283  23921.94  ]\n",
      " [ 9253.702   6654.4414  4236.6553  3740.3352  7623.463   4959.904\n",
      "   8917.46    6766.6426  6008.179   6339.929 ]\n",
      " [ 8125.213  10303.504   3857.8215  7661.4756  6368.0254  7156.158\n",
      "   5821.49   11099.442   9359.872   6731.944 ]\n",
      " [16300.525  19128.965  10061.168  16154.585  18233.123  12907.01\n",
      "  18291.53   15613.022  15318.405  12230.645 ]\n",
      " [ 6158.5938 11789.918   9254.377  10725.926   9038.695   9664.785\n",
      "   9515.383  14525.888   8166.8545 13864.63  ]\n",
      " [19135.574  16444.63   10398.004   9805.338  15053.643  10402.241\n",
      "  17565.154  18754.906   4498.749  14923.074 ]]\n",
      "\n",
      "\n",
      "---c---\n",
      " [12183.416   7856.757   9858.962   7781.168  24425.37    6450.0713\n",
      "  7648.495  15423.896  10270.505  13698.131 ]\n",
      "\n",
      "\n",
      "---e---\n",
      " [[1.210698   1.223433   0.4057582  0.79401714 1.076486   0.924287\n",
      "  0.93961775 1.5776858  0.8823367  0.96568   ]\n",
      " [1.1937374  1.0924243  0.5344699  0.9805664  0.9943314  1.0920724\n",
      "  0.6335416  1.3927441  1.1017069  0.9844063 ]\n",
      " [1.165935   1.2287371  1.2361866  1.1967686  0.39377367 1.1246707\n",
      "  0.41698685 1.3913556  0.9294076  0.9161776 ]\n",
      " [1.246611   1.037968   1.0243293  0.9586286  1.1409413  0.88329613\n",
      "  1.249119   0.99837035 0.43809626 1.0226402 ]\n",
      " [0.93218845 1.4240562  0.59013927 0.8858881  1.0865622  0.9295017\n",
      "  1.076235   1.4141148  0.68192554 0.9793891 ]\n",
      " [1.4346666  1.031685   0.65683854 0.57989055 1.1819192  0.7689688\n",
      "  1.3825366  1.0490803  0.93149036 0.9829239 ]\n",
      " [1.0623283  1.3471283  0.50438964 1.0016972  0.8325854  0.93562955\n",
      "  0.76112884 1.451193   1.2237535  0.8801658 ]\n",
      " [1.0568358  1.2402161  0.6523104  1.0473738  1.1821346  0.836819\n",
      "  1.1859214  1.0122619  0.99316055 0.79296726]\n",
      " [0.5996389  1.1479394  0.9010635  1.0443426  0.8800634  0.94102335\n",
      "  0.92647666 1.4143305  0.79517555 1.3499463 ]\n",
      " [1.3969479  1.2005018  0.75908196 0.7158158  1.098956   0.7593913\n",
      "  1.282303   1.369158   0.32842064 1.0894241 ]]\n",
      "\n",
      "\n",
      "---f---\n",
      " [0.4057582  0.5344699  0.39377367 0.43809626 0.59013927 0.57989055\n",
      " 0.50438964 0.6523104  0.5996389  0.32842064]\n",
      "\n",
      "\n",
      "---f1---\n",
      " [2 2 4 8 2 3 2 2 0 8]\n",
      "not sure!\n",
      "not sure!\n",
      "not sure!\n",
      "not sure!\n",
      "not sure!\n",
      "not sure!\n",
      "not sure!\n",
      "not sure!\n",
      "not sure!\n",
      "not sure!\n",
      "Real:  4\n"
     ]
    },
    {
     "data": {
      "image/png": "[encoded data removed]",
      "text/plain": [
       "<Figure size 1440x144 with 10 Axes>"
      ]
     },
     "metadata": {
      "needs_background": "light"
     },
     "output_type": "display_data"
    },
    {
     "name": "stdout",
     "output_type": "stream",
     "text": [
      "Undecided.\n"
     ]
    },
    {
     "data": {
      "image/png": "[encoded data removed]",
      "text/plain": [
       "<Figure size 72x72 with 1 Axes>"
      ]
     },
     "metadata": {
      "needs_background": "light"
     },
     "output_type": "display_data"
    },
    {
     "name": "stdout",
     "output_type": "stream",
     "text": [
      "Real:  5\n"
     ]
    },
    {
     "data": {
      "image/png": "[encoded data removed]",
      "text/plain": [
       "<Figure size 1440x144 with 10 Axes>"
      ]
     },
     "metadata": {
      "needs_background": "light"
     },
     "output_type": "display_data"
    },
    {
     "name": "stdout",
     "output_type": "stream",
     "text": [
      "Incorrect :()\n"
     ]
    },
    {
     "data": {
      "image/png": "[encoded data removed]",
      "text/plain": [
       "<Figure size 72x72 with 1 Axes>"
      ]
     },
     "metadata": {
      "needs_background": "light"
     },
     "output_type": "display_data"
    },
    {
     "name": "stdout",
     "output_type": "stream",
     "text": [
      "Real:  7\n"
     ]
    },
    {
     "data": {
      "image/png": "[encoded data removed]",
      "text/plain": [
       "<Figure size 1440x144 with 10 Axes>"
      ]
     },
     "metadata": {
      "needs_background": "light"
     },
     "output_type": "display_data"
    },
    {
     "name": "stdout",
     "output_type": "stream",
     "text": [
      "Incorrect :()\n"
     ]
    },
    {
     "data": {
      "image/png": "[encoded data removed]",
      "text/plain": [
       "<Figure size 72x72 with 1 Axes>"
      ]
     },
     "metadata": {
      "needs_background": "light"
     },
     "output_type": "display_data"
    },
    {
     "name": "stdout",
     "output_type": "stream",
     "text": [
      "Real:  3\n"
     ]
    },
    {
     "data": {
      "image/png": "[encoded data removed]",
      "text/plain": [
       "<Figure size 1440x144 with 10 Axes>"
      ]
     },
     "metadata": {
      "needs_background": "light"
     },
     "output_type": "display_data"
    },
    {
     "name": "stdout",
     "output_type": "stream",
     "text": [
      "Undecided.\n"
     ]
    },
    {
     "data": {
      "image/png": "[encoded data removed]",
      "text/plain": [
       "<Figure size 72x72 with 1 Axes>"
      ]
     },
     "metadata": {
      "needs_background": "light"
     },
     "output_type": "display_data"
    },
    {
     "name": "stdout",
     "output_type": "stream",
     "text": [
      "Real:  4\n"
     ]
    },
    {
     "data": {
      "image/png": "[encoded data removed]",
      "text/plain": [
       "<Figure size 1440x144 with 10 Axes>"
      ]
     },
     "metadata": {
      "needs_background": "light"
     },
     "output_type": "display_data"
    },
    {
     "name": "stdout",
     "output_type": "stream",
     "text": [
      "Undecided.\n"
     ]
    },
    {
     "data": {
      "image/png": "[encoded data removed]",
      "text/plain": [
       "<Figure size 72x72 with 1 Axes>"
      ]
     },
     "metadata": {
      "needs_background": "light"
     },
     "output_type": "display_data"
    },
    {
     "name": "stdout",
     "output_type": "stream",
     "text": [
      "Real:  1\n"
     ]
    },
    {
     "data": {
      "image/png": "[encoded data removed]",
      "text/plain": [
       "<Figure size 1440x144 with 10 Axes>"
      ]
     },
     "metadata": {
      "needs_background": "light"
     },
     "output_type": "display_data"
    },
    {
     "name": "stdout",
     "output_type": "stream",
     "text": [
      "Undecided.\n"
     ]
    },
    {
     "data": {
      "image/png": "[encoded data removed]",
      "text/plain": [
       "<Figure size 72x72 with 1 Axes>"
      ]
     },
     "metadata": {
      "needs_background": "light"
     },
     "output_type": "display_data"
    },
    {
     "name": "stdout",
     "output_type": "stream",
     "text": [
      "Real:  2\n"
     ]
    },
    {
     "data": {
      "image/png": "[encoded data removed]",
      "text/plain": [
       "<Figure size 1440x144 with 10 Axes>"
      ]
     },
     "metadata": {
      "needs_background": "light"
     },
     "output_type": "display_data"
    },
    {
     "name": "stdout",
     "output_type": "stream",
     "text": [
      "Undecided.\n"
     ]
    },
    {
     "data": {
      "image/png": "[encoded data removed]",
      "text/plain": [
       "<Figure size 72x72 with 1 Axes>"
      ]
     },
     "metadata": {
      "needs_background": "light"
     },
     "output_type": "display_data"
    },
    {
     "name": "stdout",
     "output_type": "stream",
     "text": [
      "Real:  4\n"
     ]
    },
    {
     "data": {
      "image/png": "[encoded data removed]",
      "text/plain": [
       "<Figure size 1440x144 with 10 Axes>"
      ]
     },
     "metadata": {
      "needs_background": "light"
     },
     "output_type": "display_data"
    },
    {
     "name": "stdout",
     "output_type": "stream",
     "text": [
      "Undecided.\n"
     ]
    },
    {
     "data": {
      "image/png": "[encoded data removed]",
      "text/plain": [
       "<Figure size 72x72 with 1 Axes>"
      ]
     },
     "metadata": {
      "needs_background": "light"
     },
     "output_type": "display_data"
    },
    {
     "name": "stdout",
     "output_type": "stream",
     "text": [
      "Real:  8\n"
     ]
    },
    {
     "data": {
      "image/png": "[encoded data removed]",
      "text/plain": [
       "<Figure size 1440x144 with 10 Axes>"
      ]
     },
     "metadata": {
      "needs_background": "light"
     },
     "output_type": "display_data"
    },
    {
     "name": "stdout",
     "output_type": "stream",
     "text": [
      "Undecided.\n"
     ]
    },
    {
     "data": {
      "image/png": "[encoded data removed]",
      "text/plain": [
       "<Figure size 72x72 with 1 Axes>"
      ]
     },
     "metadata": {
      "needs_background": "light"
     },
     "output_type": "display_data"
    },
    {
     "name": "stdout",
     "output_type": "stream",
     "text": [
      "Real:  0\n"
     ]
    },
    {
     "data": {
      "image/png": "[encoded data removed]",
      "text/plain": [
       "<Figure size 1440x144 with 10 Axes>"
      ]
     },
     "metadata": {
      "needs_background": "light"
     },
     "output_type": "display_data"
    },
    {
     "name": "stdout",
     "output_type": "stream",
     "text": [
      "Undecided.\n"
     ]
    },
    {
     "data": {
      "image/png": "[encoded data removed]",
      "text/plain": [
       "<Figure size 72x72 with 1 Axes>"
      ]
     },
     "metadata": {
      "needs_background": "light"
     },
     "output_type": "display_data"
    },
    {
     "name": "stdout",
     "output_type": "stream",
     "text": [
      "Summary\n",
      "Total images:  10\n",
      "Predicted for:  2\n",
      "Accuracy when predicted:  0.0\n"
     ]
    },
    {
     "data": {
      "text/plain": [
       "(10, 0, 2)"
      ]
     },
     "execution_count": 27,
     "metadata": {},
     "output_type": "execute_result"
    }
   ],
   "source": [
    "images, labels = next(iter(fashiontestloader))\n",
    "test_batch(images[10:20], labels[10:20])"
   ]
  },
  {
   "cell_type": "raw",
   "metadata": {},
   "source": [
    "# Prediction when network can decide not to predict\n",
    "\n",
    "print('Prediction when network can refuse')\n",
    "correct = 0\n",
    "total = 0\n",
    "total_predicted_for = 0\n",
    "for j, data in enumerate(testloader):\n",
    "    images, labels = data\n",
    "    \n",
    "    total_minibatch, correct_minibatch, predictions_minibatch = test_batch(images, labels, plot=False)\n",
    "    total += total_minibatch\n",
    "    correct += correct_minibatch\n",
    "    total_predicted_for += predictions_minibatch\n",
    "\n",
    "print(\"Total images: \", total)\n",
    "print(\"Skipped: \", total-total_predicted_for)\n",
    "print(\"Accuracy when made predictions: %d %%\" % (100 * correct / total_predicted_for))"
   ]
  },
  {
   "cell_type": "code",
   "execution_count": null,
   "metadata": {},
   "outputs": [],
   "source": []
  }
 ],
 "metadata": {
  "kernelspec": {
   "display_name": "Python 3",
   "language": "python",
   "name": "python3"
  },
  "language_info": {
   "codemirror_mode": {
    "name": "ipython",
    "version": 3
   },
   "file_extension": ".py",
   "mimetype": "text/x-python",
   "name": "python",
   "nbconvert_exporter": "python",
   "pygments_lexer": "ipython3",
   "version": "3.6.12"
  }
 },
 "nbformat": 4,
 "nbformat_minor": 4
}
