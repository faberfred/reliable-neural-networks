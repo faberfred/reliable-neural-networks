{
 "cells": [
  {
   "cell_type": "markdown",
   "metadata": {},
   "source": [
    "# Confidence of a Classical Neural Network\n",
    "This notebook examines the confidence probabilities of a classical neural network. I will use the *MNIST* and *FashionMNIST* datasets to demonstrate the consequences if confidence within the prediction process is missing."
   ]
  },
  {
   "cell_type": "markdown",
   "metadata": {},
   "source": [
    "Import all necessary libraries."
   ]
  },
  {
   "cell_type": "code",
   "execution_count": 1,
   "metadata": {},
   "outputs": [],
   "source": [
    "%matplotlib inline\n",
    "import matplotlib.pyplot as plt\n",
    "\n",
    "import numpy as np\n",
    "\n",
    "from collections import OrderedDict\n",
    "\n",
    "# PyTorch\n",
    "import torch\n",
    "from torch import nn\n",
    "from torch import optim\n",
    "import torch.nn.functional as F\n",
    "from torch.autograd import Variable\n",
    "import torchvision\n",
    "from torchvision import datasets, transforms, models\n",
    "from torch.utils.data import DataLoader\n",
    "from torch.utils.data.dataset import Dataset\n",
    "\n",
    "import helper"
   ]
  },
  {
   "cell_type": "markdown",
   "metadata": {},
   "source": [
    "## Load the data\n",
    "\n",
    "Use `Dataloader` to load the data and store it in the `data` directory.\n",
    "\n",
    "The dataset is split into two parts, training and testing.\n",
    "\n",
    "The testing sets is used to measure the model's performance on data it hasn't seen yet. "
   ]
  },
  {
   "cell_type": "markdown",
   "metadata": {},
   "source": [
    "Define how to transform the datasets"
   ]
  },
  {
   "cell_type": "code",
   "execution_count": 2,
   "metadata": {},
   "outputs": [],
   "source": [
    "transform = transforms.Compose(\n",
    "    [transforms.ToTensor(),\n",
    "    transforms.Normalize((0.5,), (0.5,))])"
   ]
  },
  {
   "cell_type": "markdown",
   "metadata": {},
   "source": [
    "Define the datasets and where to store them"
   ]
  },
  {
   "cell_type": "code",
   "execution_count": 3,
   "metadata": {},
   "outputs": [],
   "source": [
    "# datasets\n",
    "trainset = torchvision.datasets.MNIST('../data',\n",
    "    download=True,\n",
    "    train=True,\n",
    "    transform=transform)\n",
    "testset = torchvision.datasets.MNIST('../data',\n",
    "    download=True,\n",
    "    train=False,\n",
    "    transform=transform)"
   ]
  },
  {
   "cell_type": "markdown",
   "metadata": {},
   "source": [
    "Load the datasets"
   ]
  },
  {
   "cell_type": "code",
   "execution_count": 4,
   "metadata": {},
   "outputs": [],
   "source": [
    "trainloader = torch.utils.data.DataLoader(trainset, batch_size=128, shuffle=True)\n",
    "\n",
    "testloader = torch.utils.data.DataLoader(testset, batch_size=64, shuffle=False)"
   ]
  },
  {
   "cell_type": "markdown",
   "metadata": {},
   "source": [
    "Print the number of datasets"
   ]
  },
  {
   "cell_type": "code",
   "execution_count": 5,
   "metadata": {},
   "outputs": [
    {
     "name": "stdout",
     "output_type": "stream",
     "text": [
      "60000\n"
     ]
    }
   ],
   "source": [
    "print(len(trainloader.dataset))"
   ]
  },
  {
   "cell_type": "markdown",
   "metadata": {},
   "source": [
    "Print the number of batches"
   ]
  },
  {
   "cell_type": "code",
   "execution_count": 6,
   "metadata": {},
   "outputs": [
    {
     "name": "stdout",
     "output_type": "stream",
     "text": [
      "469\n"
     ]
    }
   ],
   "source": [
    "print(len(trainloader))"
   ]
  },
  {
   "cell_type": "markdown",
   "metadata": {},
   "source": [
    "Print some examples of the dataset "
   ]
  },
  {
   "cell_type": "code",
   "execution_count": 7,
   "metadata": {},
   "outputs": [],
   "source": [
    "batch_idx, (images, labels) = next(enumerate(testloader))"
   ]
  },
  {
   "cell_type": "code",
   "execution_count": 8,
   "metadata": {},
   "outputs": [
    {
     "data": {
      "image/png": "[encoded data removed]",
      "text/plain": [
       "<Figure size 432x288 with 4 Axes>"
      ]
     },
     "metadata": {},
     "output_type": "display_data"
    }
   ],
   "source": [
    "for i in range(4):\n",
    "    plt.subplot(2,2,i+1)\n",
    "    plt.tight_layout()\n",
    "    plt.imshow(images[i][0], cmap='gray', interpolation='none')\n",
    "    plt.title(\"Label: {}\".format(labels[i]))\n",
    "    plt.xticks([])\n",
    "    plt.yticks([])"
   ]
  },
  {
   "cell_type": "markdown",
   "metadata": {},
   "source": [
    "### Building and training the classifier\n",
    "Define the neural network: \n",
    "* input layer of 28 x 28 = 784 input nodes\n",
    "* hidden layer of 1024 nodes\n",
    "* output layer of 10 nodes"
   ]
  },
  {
   "cell_type": "code",
   "execution_count": 9,
   "metadata": {},
   "outputs": [],
   "source": [
    "input_layer_size = 28*28 # image size of 28 x 28 pixels\n",
    "hidden_layer_size = 1024\n",
    "output_layer_size = 10   # amount of categories"
   ]
  },
  {
   "cell_type": "code",
   "execution_count": 10,
   "metadata": {},
   "outputs": [],
   "source": [
    "class NeuralNet(nn.Module):\n",
    "    \n",
    "    def __init__(self, input_layer, hidden_layer, output_layer):\n",
    "        super(NeuralNet, self).__init__()\n",
    "        self.fc1 = nn.Linear(input_layer, hidden_layer)\n",
    "        self.out = nn.Linear(hidden_layer, output_layer)\n",
    "        \n",
    "        \n",
    "    def forward(self, x):\n",
    "        x = self.fc1(x)\n",
    "        x = F.relu(x)\n",
    "        x = self.out(x)\n",
    "        return x"
   ]
  },
  {
   "cell_type": "markdown",
   "metadata": {},
   "source": [
    "Initialize the Neural Network"
   ]
  },
  {
   "cell_type": "code",
   "execution_count": 11,
   "metadata": {},
   "outputs": [],
   "source": [
    "neuralNet = NeuralNet(input_layer_size, hidden_layer_size, output_layer_size)"
   ]
  },
  {
   "cell_type": "code",
   "execution_count": 12,
   "metadata": {},
   "outputs": [],
   "source": [
    "log_softmax = nn.LogSoftmax(dim=1)"
   ]
  },
  {
   "cell_type": "markdown",
   "metadata": {},
   "source": [
    "Train the Neural Network on the MNIST training set."
   ]
  },
  {
   "cell_type": "code",
   "execution_count": 13,
   "metadata": {},
   "outputs": [
    {
     "name": "stdout",
     "output_type": "stream",
     "text": [
      "[1,   100] loss: 1.746\n",
      "[1,   200] loss: 0.960\n",
      "[1,   300] loss: 0.671\n",
      "[1,   400] loss: 0.555\n",
      "[2,   100] loss: 0.824\n",
      "[2,   200] loss: 0.444\n",
      "[2,   300] loss: 0.408\n",
      "[2,   400] loss: 0.397\n",
      "[3,   100] loss: 0.635\n",
      "[3,   200] loss: 0.374\n",
      "[3,   300] loss: 0.358\n",
      "[3,   400] loss: 0.362\n",
      "[4,   100] loss: 0.575\n",
      "[4,   200] loss: 0.342\n",
      "[4,   300] loss: 0.323\n",
      "[4,   400] loss: 0.333\n",
      "[5,   100] loss: 0.559\n",
      "[5,   200] loss: 0.320\n",
      "[5,   300] loss: 0.317\n",
      "[5,   400] loss: 0.298\n",
      "[6,   100] loss: 0.522\n",
      "[6,   200] loss: 0.297\n",
      "[6,   300] loss: 0.297\n",
      "[6,   400] loss: 0.297\n",
      "[7,   100] loss: 0.492\n",
      "[7,   200] loss: 0.292\n",
      "[7,   300] loss: 0.297\n",
      "[7,   400] loss: 0.276\n",
      "[8,   100] loss: 0.471\n",
      "[8,   200] loss: 0.269\n",
      "[8,   300] loss: 0.277\n",
      "[8,   400] loss: 0.277\n",
      "[9,   100] loss: 0.446\n",
      "[9,   200] loss: 0.266\n",
      "[9,   300] loss: 0.273\n",
      "[9,   400] loss: 0.261\n",
      "[10,   100] loss: 0.439\n",
      "[10,   200] loss: 0.257\n",
      "[10,   300] loss: 0.251\n",
      "[10,   400] loss: 0.250\n",
      "Finished Training\n"
     ]
    }
   ],
   "source": [
    "criterion = nn.NLLLoss()\n",
    "optimizer = optim.SGD(neuralNet.parameters(), lr=0.001, momentum=0.9)\n",
    "\n",
    "running_loss = 0.0\n",
    "for epoch in range(10):  # loop over the dataset multiple times\n",
    "\n",
    "    for i, (images, labels) in enumerate(trainloader):\n",
    "\n",
    "        # flatten the imiga into a 784 element vector\n",
    "        images.resize_(images.size()[0], 784)\n",
    "\n",
    "        # zero the parameter gradients\n",
    "        optimizer.zero_grad()\n",
    "\n",
    "        # forward + backward + optimize\n",
    "        outputs = log_softmax(neuralNet(images))\n",
    "        loss = criterion(outputs, labels)\n",
    "        loss.backward()\n",
    "        optimizer.step()\n",
    "\n",
    "        running_loss += loss.item()\n",
    "        if i % 100 == 99:    # every 100 mini-batches...\n",
    "            print('[%d, %5d] loss: %.3f' %\n",
    "                  (epoch + 1, i + 1, running_loss / 100))\n",
    "            \n",
    "            running_loss = 0.0\n",
    "print('Finished Training')"
   ]
  },
  {
   "cell_type": "markdown",
   "metadata": {},
   "source": [
    "Display a single image and its *Softmax* distribution."
   ]
  },
  {
   "cell_type": "code",
   "execution_count": 14,
   "metadata": {},
   "outputs": [
    {
     "name": "stdout",
     "output_type": "stream",
     "text": [
      "Predicted Digit = 1\n",
      "Max probability value =  0.9464265\n"
     ]
    },
    {
     "data": {
      "image/png": "[encoded data removed]",
      "text/plain": [
       "<Figure size 432x648 with 2 Axes>"
      ]
     },
     "metadata": {
      "needs_background": "light"
     },
     "output_type": "display_data"
    }
   ],
   "source": [
    "images, labels = next(iter(testloader))\n",
    "\n",
    "img = images[40].view(1, 784)\n",
    "with torch.no_grad():\n",
    "    logps = log_softmax(neuralNet(img))\n",
    "\n",
    "ps = torch.exp(logps)\n",
    "probab = list(ps.numpy()[0])\n",
    "print(\"Predicted Digit =\", probab.index(max(probab)))\n",
    "print(\"Max probability value = \", max(probab))\n",
    "\n",
    "# Plot the image and probabilities\n",
    "helper.view_classify(img.resize_(1, 28, 28), ps)"
   ]
  },
  {
   "cell_type": "markdown",
   "metadata": {},
   "source": [
    "Test the Neural Network on the MNIST testing set."
   ]
  },
  {
   "cell_type": "code",
   "execution_count": 15,
   "metadata": {},
   "outputs": [
    {
     "name": "stdout",
     "output_type": "stream",
     "text": [
      "Number Of Images Tested = 157\n",
      "\n",
      "Model Accuracy = 93.6 %\n"
     ]
    }
   ],
   "source": [
    "correct_count, all_count = 0, 0\n",
    "for images,labels in testloader:\n",
    "    for i in range(len(labels)):\n",
    "        img = images[i].view(1, 784)\n",
    "        with torch.no_grad():\n",
    "            logps = neuralNet(img)\n",
    "\n",
    "    \n",
    "    ps = torch.exp(logps)\n",
    "    probab = list(ps.numpy()[0])\n",
    "    pred_label = probab.index(max(probab))\n",
    "    true_label = labels.numpy()[i]\n",
    "    if(true_label == pred_label):\n",
    "        correct_count += 1\n",
    "    all_count += 1\n",
    "\n",
    "print(\"Number Of Images Tested =\", all_count)\n",
    "print(\"\\nModel Accuracy = {:.1f} %\".format((correct_count/all_count)*100))"
   ]
  },
  {
   "cell_type": "markdown",
   "metadata": {},
   "source": [
    "### Testing the network on Out-Of-Distribution examples\n",
    "Recap of what we have done so far:\n",
    "* We loaded the MNIST dataset existing of the training and the testing dataset\n",
    "* We build a simple NN consisting of just three layers\n",
    "* We uset the MNIST training dataset to trained the network\n",
    "* We tested the NN and got a accuracy of more than 90 %\n",
    "\n",
    "Now lets see what happens, if we present the network unseen data from the **FashionMNIST** data set."
   ]
  },
  {
   "cell_type": "code",
   "execution_count": 16,
   "metadata": {},
   "outputs": [],
   "source": [
    "# FashionMNIST test dataset\n",
    "fashiontestset = torchvision.datasets.FashionMNIST('../data',\n",
    "    download=True,\n",
    "    train=False,\n",
    "    transform=transform)"
   ]
  },
  {
   "cell_type": "code",
   "execution_count": 17,
   "metadata": {},
   "outputs": [],
   "source": [
    "fashiontestloader = torch.utils.data.DataLoader(fashiontestset, batch_size=64, shuffle=False)"
   ]
  },
  {
   "cell_type": "code",
   "execution_count": 18,
   "metadata": {},
   "outputs": [],
   "source": [
    "examples = enumerate(fashiontestloader)\n",
    "batch_idx, (example_data, example_targets) = next(examples)"
   ]
  },
  {
   "cell_type": "code",
   "execution_count": 19,
   "metadata": {},
   "outputs": [
    {
     "data": {
      "image/png": "[encoded data removed]",
      "text/plain": [
       "<Figure size 432x288 with 6 Axes>"
      ]
     },
     "metadata": {},
     "output_type": "display_data"
    }
   ],
   "source": [
    "for i in range(6):\n",
    "    plt.subplot(2,3,i+1)\n",
    "    plt.tight_layout()\n",
    "    plt.imshow(example_data[i][0], cmap='gray', interpolation='none')\n",
    "    plt.xticks([])\n",
    "    plt.yticks([])"
   ]
  },
  {
   "cell_type": "code",
   "execution_count": 20,
   "metadata": {},
   "outputs": [
    {
     "name": "stdout",
     "output_type": "stream",
     "text": [
      "Predicted Category = 4\n",
      "Max probability value =  0.9186124\n"
     ]
    },
    {
     "data": {
      "image/png": "[encoded data removed]",
      "text/plain": [
       "<Figure size 432x648 with 2 Axes>"
      ]
     },
     "metadata": {
      "needs_background": "light"
     },
     "output_type": "display_data"
    }
   ],
   "source": [
    "images, labels = next(iter(fashiontestloader))\n",
    "\n",
    "img = images[9].view(1, 784)\n",
    "with torch.no_grad():\n",
    "    logps = log_softmax(neuralNet(img))\n",
    "\n",
    "ps = torch.exp(logps)\n",
    "probab = list(ps.numpy()[0])\n",
    "print(\"Predicted Category =\", probab.index(max(probab)))\n",
    "print(\"Max probability value = \", max(probab))\n",
    "# view_classify(img.view(1, 28, 28), ps)\n",
    "helper.view_classify(img.resize_(1, 28, 28), ps, version = \"Fashion\")"
   ]
  },
  {
   "cell_type": "code",
   "execution_count": 21,
   "metadata": {},
   "outputs": [
    {
     "name": "stdout",
     "output_type": "stream",
     "text": [
      "Number Of Images Tested = 157\n",
      "\n",
      "Model Accuracy = 8.9 %\n"
     ]
    }
   ],
   "source": [
    "correct_count, all_count = 0, 0\n",
    "for images,labels in fashiontestloader:\n",
    "    for i in range(len(labels)):\n",
    "        img = images[i].view(1, 784)\n",
    "        with torch.no_grad():\n",
    "            logps = neuralNet(img)\n",
    "\n",
    "    \n",
    "    ps = torch.exp(logps)\n",
    "    probab = list(ps.numpy()[0])\n",
    "    pred_label = probab.index(max(probab))\n",
    "    true_label = labels.numpy()[i]\n",
    "    if(true_label == pred_label):\n",
    "          correct_count += 1\n",
    "    all_count += 1\n",
    "\n",
    "print(\"Number Of Images Tested =\", all_count)\n",
    "print(\"\\nModel Accuracy = {:.1f} %\".format((correct_count/all_count)*100))"
   ]
  },
  {
   "cell_type": "markdown",
   "metadata": {},
   "source": [
    "## Result of the Out-Of-Distribution examples\n",
    "Because the neural network hasn't been trained on the *FashionMNIST* data, the accuracy is, as expected around 10 %, because for 10 equally distributed classes the accuracy should be approximately 10 % by chance!\n",
    "\n",
    "The network assigns to each input one of the ten categories depending on the output of the *(Log)Softmax* function. The category with the highest probability wins and will be predicted, even if the winning category has just 11 % after *Softmax*.\n",
    "\n",
    "Does a bad accuracy also mean a low confidence in the predicted values? In the picture below, the confidence is indeed not so high. The maximal probability value is 26.4 %.\n",
    "<img src='../pictures/fashion_bad1.png' width=500px>\n",
    "But this is not universally valid, as can be seen in the next two pictures:\n",
    "<img src='../pictures/fashion_good1.png' width=500px>\n",
    " \n",
    "<img src='../pictures/fashion_good2.png' width=500px>\n",
    "In the two pictures above, the network is very confident with around 98 %, that it detects a bag and a shoe, which is in both cases not correct.\n",
    "\n",
    "\n",
    "**Therefore a bad accuracy does not automatically mean a low confidence**\n",
    "\n",
    "Due to the fact, that the network is not able to detect unseen categories it tries to predict them and assigns a result to each of them. "
   ]
  },
  {
   "cell_type": "markdown",
   "metadata": {},
   "source": [
    "## Conclusion\n",
    "To add reliability and confidence to the prediction of neural networks, the network must be able to express its (un)certainty about the data it is confronted with. "
   ]
  },
  {
   "cell_type": "code",
   "execution_count": null,
   "metadata": {},
   "outputs": [],
   "source": []
  }
 ],
 "metadata": {
  "kernelspec": {
   "display_name": "Python 3",
   "language": "python",
   "name": "python3"
  },
  "language_info": {
   "codemirror_mode": {
    "name": "ipython",
    "version": 3
   },
   "file_extension": ".py",
   "mimetype": "text/x-python",
   "name": "python",
   "nbconvert_exporter": "python",
   "pygments_lexer": "ipython3",
   "version": "3.6.12"
  }
 },
 "nbformat": 4,
 "nbformat_minor": 4
}
